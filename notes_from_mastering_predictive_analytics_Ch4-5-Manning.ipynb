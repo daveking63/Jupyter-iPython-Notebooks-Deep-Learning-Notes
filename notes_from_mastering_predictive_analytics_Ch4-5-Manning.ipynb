{
 "cells": [
  {
   "cell_type": "markdown",
   "metadata": {},
   "source": [
    "<H2>Notes from Mastering Predictive Analytics with Scikit-Learn and TensorFlow - Ch. 4 and 5</H2>"
   ]
  },
  {
   "cell_type": "code",
   "execution_count": 75,
   "metadata": {},
   "outputs": [],
   "source": [
    "from IPython.core.interactiveshell import InteractiveShell\n",
    "InteractiveShell.ast_node_interactivity = \"all\""
   ]
  },
  {
   "cell_type": "code",
   "execution_count": 76,
   "metadata": {},
   "outputs": [
    {
     "data": {
      "application/javascript": [
       "IPython.OutputArea.prototype._should_scroll = function(lines) {\n",
       "    return false;\n",
       "}\n"
      ],
      "text/plain": [
       "<IPython.core.display.Javascript object>"
      ]
     },
     "metadata": {},
     "output_type": "display_data"
    }
   ],
   "source": [
    "%%javascript\n",
    "IPython.OutputArea.prototype._should_scroll = function(lines) {\n",
    "    return false;\n",
    "}"
   ]
  },
  {
   "cell_type": "markdown",
   "metadata": {},
   "source": [
    "<H3>Chapter 4: Intro to Artificial Neural Networks and Tensorflow</H3>\n",
    "\n",
    "<H4>Elements of an Multilayer Perceptron (MLP) Model:</H4>\n",
    "    \n",
    "<ul>\n",
    "<li><i>Architecture</i> -- number of layers, number of neurons per layer. Inputs match feature list, outputs equal number of classes or 1 in regression. Question is number of hidden layers and number of neurons per hidden layer which are between number of inputs and outputs.</li> \n",
    "<li><i>Activation Function</i> -- function used in every neuron in hidden layers. Sigmoid was the first function that was used. Today, number of others including Rectivited Linear Unit (ReLu), hyperbolic tangent, leaky ReLU, and others.</li>\n",
    "<li><i>Optimization Algorithm</i> -- used to learn the weights of the network. Each algorithm has different hyperparameters. Most basic is gradient descent. Others are momentump optimizers, AdaGrad, RMSProp and the Adam moment.</li>\n",
    "<li><i>Loss Function</i> -- function yielding the quantity that is minimized by the optimizer. For regression, often mean squared error (MSE). With classification could be cross entropy, square loss and hinge loss. Functin determines how weights are adjust  \n",
    "<li><i>Weight Initialization Strategy</i> -- Weights for each perceptron in your network must be initialized with some values which will be progressively changed by the optimizer. All zeros can be used, or possibility random normal numbers, or others.</li>\n",
    "<li><i>Regularization Strategy</i> -- Optional by often recommended because deep learning has a tendency to overfit the (training) data due to quatity of parameters. Choices include L1 regularization, L2 regularization, dropout regularization, etc.</li>\n",
    "<li><i>Training Strategy</i> -- way data will be presented to the training algorithm. Not part of model but influences results. Key elements of strategy include epochs, batch size, number of iterations (number of training steps and adjustments that optimization algorithm makes to weights). Iterations = epochs * (training examples/ batch size).</li>\n",
    "</ul>\n",
    "        "
   ]
  },
  {
   "cell_type": "markdown",
   "metadata": {},
   "source": [
    "<H4>Core Concepts in Tensorflow:</H4>\n",
    "    \n",
    "<ul>\n",
    "    <li><i>Tensors</i> -- central unit of data. Consists of a set of primitive values shaped into an array of any number of dimensions (similar to multidimensional array in numpy). Number of dimensions determine <i>rank</i> of tensor. Single number implies rank of 0; vector is rank of 1; matrix is rank of 2; array of matrices is a rank of n.</li>\n",
    "    <li><i>Computational Graphs</i> -- series of TensorFlow operations (ops) arranged into a graph of nodes. The nodes of the graph are operations (including assignments of values). The values/edges that flow through the computational graph from one node to aother are 'tensors'. The graph is first defined and then run or executed.</li>\n",
    "    <li><i>Sessions</i> -- an object that encasulates the environment in which objects are executed.</li>\n",
    "    <li><i>Variables</i> -- objects that are initialized with a value. The value of a variable can change during the runnig or execution of the graph. Typically they are trainable variables in machine learning models.</li>\n",
    "    <li><i>Placeholders</i> -- promise to provide a value later. Operates much like a 'int' or 'float' statement in a programming language. Usually the placeholders are training and testing values.</li>\n",
    "    <li><i>Constants</i> -- objects whose values never change. Again, like a 'const' statement.</li>\n",
    "</ul>\n",
    "\n",
    "At least with versions prior to tensorflow 2.0, variables, placeholders, constants, and operations are define first. Then they are run or evaluated under the umbrella of a 'session'. It's only when they are run, that the values actually materialize."
   ]
  },
  {
   "cell_type": "markdown",
   "metadata": {},
   "source": [
    "<h4>Examples of Tensor Concepts</h4>\n",
    "\n",
    "<ol>\n",
    "    <li>Simple Examples</li>\n",
    "    <li>Simple Function</li>\n",
    "    <li>More Complex Function</li>\n",
    "    <li>Linear Model</li>\n",
    "</ol>"
   ]
  },
  {
   "cell_type": "code",
   "execution_count": 77,
   "metadata": {},
   "outputs": [],
   "source": [
    "# first import libraries of interest -- in this case we'll need just 'tensorflow'\n",
    "\n",
    "import tensorflow as tf"
   ]
  },
  {
   "cell_type": "markdown",
   "metadata": {},
   "source": [
    "<i>Simple Examples</i>\n",
    "<ul>\n",
    "    <li>Assign and print value of a Constant (c = 5)</li>\n",
    "    <li>Assign and either run or evaluate the value of a placeholder object</li>\n",
    "</ul>"
   ]
  },
  {
   "cell_type": "code",
   "execution_count": 78,
   "metadata": {},
   "outputs": [],
   "source": [
    " # define a tensor 'constant object'\n",
    "    \n",
    "c = tf.constant(5)"
   ]
  },
  {
   "cell_type": "code",
   "execution_count": 79,
   "metadata": {},
   "outputs": [
    {
     "name": "stdout",
     "output_type": "stream",
     "text": [
      "Tensor(\"Const_4:0\", shape=(), dtype=int32)\n"
     ]
    }
   ],
   "source": [
    " # when you print the constant you'll see its 'type' not its value\n",
    "\n",
    "print(c) "
   ]
  },
  {
   "cell_type": "code",
   "execution_count": 80,
   "metadata": {},
   "outputs": [
    {
     "data": {
      "text/plain": [
       "5"
      ]
     },
     "execution_count": 80,
     "metadata": {},
     "output_type": "execute_result"
    }
   ],
   "source": [
    "# in order to realize the value you need to create a session object\n",
    "# then run session. Also, it's a good idea to close a session after completion\n",
    "\n",
    "sess = tf.Session()\n",
    "sess.run(c)\n",
    "\n",
    "sess.close()"
   ]
  },
  {
   "cell_type": "code",
   "execution_count": 81,
   "metadata": {},
   "outputs": [
    {
     "data": {
      "text/plain": [
       "array(10)"
      ]
     },
     "execution_count": 81,
     "metadata": {},
     "output_type": "execute_result"
    },
    {
     "name": "stdout",
     "output_type": "stream",
     "text": [
      "Tensor(\"Placeholder_22:0\", dtype=int32)\n"
     ]
    },
    {
     "data": {
      "text/plain": [
       "array(5)"
      ]
     },
     "execution_count": 81,
     "metadata": {},
     "output_type": "execute_result"
    },
    {
     "name": "stdout",
     "output_type": "stream",
     "text": [
      "Tensor(\"Placeholder_22:0\", dtype=int32)\n"
     ]
    }
   ],
   "source": [
    "# define a placeholder object -- here a 32 bit integer\n",
    "# define a session object -- here using 'with' statement\n",
    "# then either 'run' the session or evaluate the placeholder\n",
    "# note: the 'feed_dict' assigns a value to the placeholder\n",
    "\n",
    "d = tf.placeholder(tf.int32)\n",
    "\n",
    "with tf.Session() as sess:  # define a session object\n",
    "    \n",
    "    sess.run(d, feed_dict={d:10}) # alternative 1 -- run the placeholder object\n",
    "    print(d)\n",
    "    \n",
    "    d.eval(feed_dict={d:5}) # alternative 2 -- evaluate the placeholder object\n",
    "    print(d) \n",
    "    \n",
    "sess.close() #close the session after completion"
   ]
  },
  {
   "cell_type": "markdown",
   "metadata": {},
   "source": [
    "<i>Simple Function</i>\n",
    "\n",
    "f(y) = 4 * y where y = 10"
   ]
  },
  {
   "cell_type": "code",
   "execution_count": 82,
   "metadata": {},
   "outputs": [
    {
     "data": {
      "text/plain": [
       "40.0"
      ]
     },
     "execution_count": 82,
     "metadata": {},
     "output_type": "execute_result"
    },
    {
     "name": "stdout",
     "output_type": "stream",
     "text": [
      "Tensor(\"mul:0\", dtype=float32)\n",
      "Tensor(\"Placeholder_23:0\", dtype=float32)\n",
      "Tensor(\"mul:0\", dtype=float32)\n"
     ]
    }
   ],
   "source": [
    "y = tf.placeholder(tf.float32)\n",
    "mult_node = 4 * y\n",
    "\n",
    "sess = tf.Session()\n",
    "sess.run(mult_node, feed_dict={y:10})\n",
    "print(mult_node)\n",
    "sess.close()\n",
    "\n",
    "print(y)\n",
    "print(mult_node)"
   ]
  },
  {
   "cell_type": "markdown",
   "metadata": {},
   "source": [
    "<i>More Complex Function</i>\n",
    "\n",
    "f(x,y) = (x^2)y + 4y  (that's x-squared times y plus 4 times y where x = 3 and y = 2)"
   ]
  },
  {
   "cell_type": "code",
   "execution_count": 83,
   "metadata": {},
   "outputs": [],
   "source": [
    "# define placeholders for x and y\n",
    "# along with ops for the squared node (x^2)\n",
    "# multiply node (x^2 * y)\n",
    "# quadruple node (4 * y)\n",
    "# and adder node (multiply node plus quadruple node)\n",
    "\n",
    "x = tf.placeholder(tf.float32)\n",
    "y = tf.placeholder(tf.float32)\n",
    "\n",
    "square_node = x*x\n",
    "mult_node = square_node*y\n",
    "quadruple_node = 4*y\n",
    "adder_node = mult_node + quadruple_node"
   ]
  },
  {
   "cell_type": "code",
   "execution_count": 84,
   "metadata": {},
   "outputs": [
    {
     "name": "stdout",
     "output_type": "stream",
     "text": [
      "Tensor(\"mul_1:0\", dtype=float32)\n",
      "Tensor(\"mul_2:0\", dtype=float32)\n",
      "Tensor(\"mul_3:0\", dtype=float32)\n",
      "Tensor(\"add:0\", dtype=float32)\n"
     ]
    }
   ],
   "source": [
    "print(square_node)\n",
    "print(mult_node)\n",
    "print(quadruple_node)\n",
    "print(adder_node)"
   ]
  },
  {
   "cell_type": "code",
   "execution_count": 85,
   "metadata": {},
   "outputs": [
    {
     "data": {
      "text/plain": [
       "26.0"
      ]
     },
     "execution_count": 85,
     "metadata": {},
     "output_type": "execute_result"
    }
   ],
   "source": [
    "# to compute the formula all we need to run is the\n",
    "# adder_node which will automatically produce the computational graph\n",
    "# which includes the component parts and their dependencies\n",
    "\n",
    "sess = tf.Session()\n",
    "sess.run(adder_node, feed_dict={x:3, y:2})\n",
    "sess.close()"
   ]
  },
  {
   "cell_type": "code",
   "execution_count": 86,
   "metadata": {},
   "outputs": [
    {
     "name": "stdout",
     "output_type": "stream",
     "text": [
      "Tensor(\"add_1:0\", dtype=float32)\n"
     ]
    },
    {
     "data": {
      "text/plain": [
       "26.0"
      ]
     },
     "execution_count": 86,
     "metadata": {},
     "output_type": "execute_result"
    }
   ],
   "source": [
    "# in the same vein we could simply declare the original formula,\n",
    "# run it and it will produce the requisite graph without \n",
    "# having to define the explicit nodes\n",
    "\n",
    "f = x**2 * y + 4 * y\n",
    "print(f)\n",
    "\n",
    "# then create a session and run it\n",
    "\n",
    "sess = tf.Session()\n",
    "sess.run(f, feed_dict={x:3, y:2})\n",
    "sess.close()\n"
   ]
  },
  {
   "cell_type": "markdown",
   "metadata": {},
   "source": [
    "<i>Linear Model</i>\n",
    "\n",
    "In this example, we'll first use the 'numpy' library to generate some training data from the following model:\n",
    "\n",
    "y = b + wx + noise \n",
    "\n",
    "where w = 5, b=1, and the noise represents a slight perturbation generated from a random normal distribution with a mean=0 and a standard deviation=1."
   ]
  },
  {
   "cell_type": "code",
   "execution_count": 87,
   "metadata": {},
   "outputs": [],
   "source": [
    "# libraries for creating and plotting the random training data \n",
    "\n",
    "import numpy as np\n",
    "import matplotlib.pyplot as plt\n",
    "%matplotlib inline"
   ]
  },
  {
   "cell_type": "code",
   "execution_count": 88,
   "metadata": {},
   "outputs": [
    {
     "name": "stdout",
     "output_type": "stream",
     "text": [
      "(40,) (40,)\n",
      "\n",
      "[0.   0.25 0.5  0.75 1.   1.25 1.5  1.75 2.   2.25]\n",
      "\n",
      "[-0.0856306   3.24734545  3.7829785   3.24370529  5.42139975  8.90143654\n",
      "  6.07332076  9.32108737 12.26593626 11.3832596 ]\n"
     ]
    }
   ],
   "source": [
    "np.random.seed(123)\n",
    "x_train = np.arange(0,10,0.25)\n",
    "y_train = 5*x_train + 1 + np.random.normal(0,1,size=x_train.shape)\n",
    "\n",
    "print(x_train.shape, y_train.shape)\n",
    "print('')\n",
    "print(x_train[0:10])\n",
    "print('')\n",
    "print(y_train[0:10])\n"
   ]
  },
  {
   "cell_type": "code",
   "execution_count": 89,
   "metadata": {},
   "outputs": [
    {
     "data": {
      "image/png": "[encoded data removed]",
      "text/plain": [
       "<Figure size 432x288 with 1 Axes>"
      ]
     },
     "metadata": {
      "needs_background": "light"
     },
     "output_type": "display_data"
    }
   ],
   "source": [
    "plt.scatter(x_train, y_train);"
   ]
  },
  {
   "cell_type": "markdown",
   "metadata": {},
   "source": [
    "<i>Linear Model Continued</i>\n",
    "\n",
    "The next step is to establish the computational graph for estimating the linear model.  This involves defining:\n",
    "\n",
    "<ul>\n",
    "    <li>variables for w and b (initially set at 0)</li>\n",
    "    <li>placeholders for x and y</li>\n",
    "    <li>the linear model as a node of the computation graph</li>\n",
    "    <li>a loss function to be used by the optimizer to change the values of w and b in order to minimize the loss (in this case the mean squared error)</li>\n",
    "    <li>an initializer to initialize the variables</li>\n",
    "</ul>\n",
    "\n",
    "Once these are defined we can create a session to run the initialization, as well as a 'training operation' in order to modify the values of w and b so that the loss is minimized."
   ]
  },
  {
   "cell_type": "code",
   "execution_count": 90,
   "metadata": {},
   "outputs": [],
   "source": [
    "w = tf.Variable(0.0, dtype=tf.float32)\n",
    "b = tf.Variable(0.0, dtype=tf.float32)\n",
    "\n",
    "x = tf.placeholder(tf.float32)\n",
    "y = tf.placeholder(tf.float32)\n",
    "\n",
    "linear_model = w * x + b\n",
    "loss = tf.reduce_sum(tf.square(linear_model - y))\n",
    "optimizer = tf.train.GradientDescentOptimizer(learning_rate=0.0005)\n",
    "training_op = optimizer.minimize(loss)\n",
    "init = tf.global_variables_initializer()"
   ]
  },
  {
   "cell_type": "code",
   "execution_count": 91,
   "metadata": {
    "scrolled": true
   },
   "outputs": [
    {
     "name": "stdout",
     "output_type": "stream",
     "text": [
      "Iteration 0: w: 6.58667, b: 1.01166\n",
      "Iteration 1: w: 4.52043, b: 0.69846\n",
      "Iteration 2: w: 5.16780, b: 0.80070\n",
      "Iteration 3: w: 4.96417, b: 0.77262\n",
      "Iteration 4: w: 5.02743, b: 0.78537\n",
      "Iteration 5: w: 5.00699, b: 0.78527\n",
      "Iteration 6: w: 5.01281, b: 0.78916\n",
      "Iteration 7: w: 5.01040, b: 0.79176\n",
      "Iteration 8: w: 5.01058, b: 0.79473\n",
      "Iteration 9: w: 5.00995, b: 0.79754\n",
      "Iteration 10: w: 5.00958, b: 0.80036\n",
      "Iteration 11: w: 5.00913, b: 0.80315\n",
      "Iteration 12: w: 5.00872, b: 0.80590\n",
      "Iteration 13: w: 5.00830, b: 0.80863\n",
      "Iteration 14: w: 5.00788, b: 0.81134\n",
      "Iteration 15: w: 5.00747, b: 0.81401\n",
      "Iteration 16: w: 5.00707, b: 0.81666\n",
      "Iteration 17: w: 5.00667, b: 0.81928\n",
      "Iteration 18: w: 5.00627, b: 0.82187\n",
      "Iteration 19: w: 5.00588, b: 0.82444\n"
     ]
    }
   ],
   "source": [
    "sess = tf.Session()\n",
    "\n",
    "sess.run(init)\n",
    "\n",
    "for i in range(20):\n",
    "    sess.run(training_op, feed_dict={x: x_train, y: y_train})\n",
    "    print(\"Iteration {}: w: {:0.5f}, b: {:0.5f}\".format(i, sess.run(w), sess.run(b)))"
   ]
  },
  {
   "cell_type": "markdown",
   "metadata": {},
   "source": [
    "Note: The values of w and b can also be computed using linear algebra to estimate the coefficients from training data (see below). However, the focus here is on machine learning (not statistical analysis)."
   ]
  },
  {
   "cell_type": "code",
   "execution_count": 92,
   "metadata": {},
   "outputs": [],
   "source": [
    "X = np.vstack((x_train, np.ones_like(x_train))).transpose()"
   ]
  },
  {
   "cell_type": "raw",
   "metadata": {},
   "source": [
    "L = np.linalg.inv(X.transpose().dot(X))\n",
    "R = X.transpose().dot(y_train)\n",
    "L.dot(R)"
   ]
  },
  {
   "cell_type": "markdown",
   "metadata": {},
   "source": [
    "<h3>Chapter 5: Predictive Analytics with TensorFlow and Deep Neural Networks</h3>\n",
    "\n",
    "Using TensorFlow with three different models:\n",
    "\n",
    "<ul>\n",
    "    <li>Predictions with TensorFlow</li>\n",
    "    <li>Regression with Deep Neural Nets (DNNs)</li>\n",
    "    <li>Classification with DNNs</li>\n",
    "</ul>\n",
    "\n",
    "With each of these models, the same key elements will be employed:\n",
    "\n",
    "<ul>\n",
    "    <li>Architecture -- neurons in the input, elements in the output layer, and number of hidden layers along with the number of neurons in each.</li>\n",
    "    <li>Activation function -- ReLU or a variant</li>\n",
    "    <li>Optimization Algorithm -- Gradient Descent or Adam Optimizer</li>\n",
    "    <li>Loss Function -- Cross-Entropy or Mean Squared Error</li>\n",
    "    <li>Weights Initialization Strategy -- Typically use Xavier Initialization which comes as a default with the fully_connected function from TensorFlow.\n",
    "    <li>Regularization Strategy -- Not used</li>\n",
    "    <li>Training Strategy -- Specify the number of epochs and the batch size</li>\n",
    "</ul>\n",
    "\n",
    "<h4>Predictions with TensorFlow:</h4>\n",
    "\n",
    "\n",
    "\n",
    "<h5>Intro to MNIST Dataset</h5>\n",
    "\n",
    "The Mixed National Institute of Standards and Technology (MNIST) dataset contains 60K training and 10K testing images of handwritten digits from (0-9) formatted as 28x28 monochrome images. For every image there is a corresponding true label.\n",
    "\n",
    "<h5>Building Classification Models</h5>\n",
    "\n"
   ]
  },
  {
   "cell_type": "code",
   "execution_count": 93,
   "metadata": {},
   "outputs": [],
   "source": [
    "# incorporate requisite libraries\n",
    "\n",
    "import tensorflow as tf\n",
    "import numpy as np\n",
    "import matplotlib.pyplot as plt\n",
    "\n",
    "from tensorflow.contrib.layers import fully_connected\n",
    "\n",
    "%matplotlib inline"
   ]
  },
  {
   "cell_type": "code",
   "execution_count": 94,
   "metadata": {},
   "outputs": [],
   "source": [
    "# Activation Function (reLU)\n",
    "\n",
    "def relu(x):\n",
    "    return max(0.,x)\n",
    "\n",
    "relu = np.vectorize(relu)"
   ]
  },
  {
   "cell_type": "code",
   "execution_count": 95,
   "metadata": {},
   "outputs": [
    {
     "data": {
      "image/png": "[encoded data removed]",
      "text/plain": [
       "<Figure size 432x288 with 1 Axes>"
      ]
     },
     "metadata": {
      "needs_background": "light"
     },
     "output_type": "display_data"
    }
   ],
   "source": [
    "vector = np.arange(-5,5,0.1)\n",
    "plt.plot(vector, relu(vector))\n",
    "plt.grid()\n",
    "plt.title(\"ReLU activation function\");"
   ]
  },
  {
   "cell_type": "code",
   "execution_count": 96,
   "metadata": {},
   "outputs": [
    {
     "name": "stdout",
     "output_type": "stream",
     "text": [
      "Extracting ./data/train-images-idx3-ubyte.gz\n",
      "Extracting ./data/train-labels-idx1-ubyte.gz\n",
      "Extracting ./data/t10k-images-idx3-ubyte.gz\n",
      "Extracting ./data/t10k-labels-idx1-ubyte.gz\n"
     ]
    }
   ],
   "source": [
    "from tensorflow.examples.tutorials.mnist import input_data\n",
    "mnist = input_data.read_data_sets(\"./data/\")"
   ]
  },
  {
   "cell_type": "code",
   "execution_count": 97,
   "metadata": {},
   "outputs": [],
   "source": [
    "# hidden layer counts\n",
    "\n",
    "n_inputs = 28*28 \n",
    "n_hidden1 = 350\n",
    "n_hidden2 = 200 \n",
    "n_hidden3 = 100\n",
    "n_outputs = 10"
   ]
  },
  {
   "cell_type": "code",
   "execution_count": 98,
   "metadata": {},
   "outputs": [],
   "source": [
    "# placeholders for inputs and labels\n",
    "\n",
    "# input layer \n",
    "X = tf.placeholder(tf.float32, shape=[None, n_inputs])\n",
    "# target values\n",
    "y = tf.placeholder(tf.int64)"
   ]
  },
  {
   "cell_type": "code",
   "execution_count": 99,
   "metadata": {},
   "outputs": [],
   "source": [
    "# neural network\n",
    "\n",
    "hidden1 = fully_connected(X, n_hidden1)\n",
    "hidden2 = fully_connected(hidden1, n_hidden2)\n",
    "hidden3 = fully_connected(hidden2, n_hidden3)\n",
    "logits = fully_connected(hidden3, n_outputs, activation_fn=None)"
   ]
  },
  {
   "cell_type": "code",
   "execution_count": 100,
   "metadata": {},
   "outputs": [],
   "source": [
    "# loss function\n",
    "\n",
    "cross_entropy = tf.nn.sparse_softmax_cross_entropy_with_logits(\n",
    "                   labels=y, logits=logits)\n",
    "loss = tf.reduce_mean(cross_entropy)"
   ]
  },
  {
   "cell_type": "code",
   "execution_count": 101,
   "metadata": {},
   "outputs": [],
   "source": [
    "# optimizer and training operations\n",
    "\n",
    "learning_rate = 0.01\n",
    "optimizer = tf.train.GradientDescentOptimizer(learning_rate)\n",
    "training_op = optimizer.minimize(loss)"
   ]
  },
  {
   "cell_type": "code",
   "execution_count": 102,
   "metadata": {},
   "outputs": [],
   "source": [
    "# evaluation of accuracy of classification\n",
    "\n",
    "correct = tf.nn.in_top_k(predictions=logits, targets=y, k=1)\n",
    "accuracy = tf.reduce_mean(tf.cast(correct, tf.float32))"
   ]
  },
  {
   "cell_type": "code",
   "execution_count": 103,
   "metadata": {},
   "outputs": [],
   "source": [
    "# epoch and batch counts/sizes\n",
    "\n",
    "n_epochs = 20\n",
    "batch_size = 80"
   ]
  },
  {
   "cell_type": "markdown",
   "metadata": {},
   "source": [
    "with tf.Session() as sess:\n",
    "    \n",
    "    ## Initializing the variables\n",
    "    tf.global_variables_initializer().run()\n",
    "   \n",
    "    # training\n",
    "    for epoch in range(n_epochs):\n",
    "        for iteration in range(mnist.train.num_examples // batch_size):\n",
    "            X_batch, y_batch = mnist.train.next_batch(batch_size)\n",
    "            sess.run(training_op, feed_dict={X: X_batch, y: y_batch})\n",
    "        acc_train = accuracy.eval(feed_dict={X: X_batch, y: y_batch})\n",
    "        acc_test = accuracy.eval(feed_dict={X: mnist.test.images, y: mnist.test.labels})\n",
    "        print(\"======= Epoch: {} ========\".format(epoch+1))\n",
    "        print(\"Train accuracy:\", acc_train, \"| Test accuracy:\", acc_test)\n",
    "        print(50*\"-\")\n",
    "        \n",
    "    print(\"Done Trainning!\")\n",
    "\n",
    "    ## Producing individual predictions\n",
    "    \n",
    "    print(\"\\n=====================\\n\")\n",
    "    print(\"Using the network to make individual predictions\")\n",
    "    n_pred = 15\n",
    "    X_new = mnist.test.images[:n_pred]\n",
    "    Z = logits.eval(feed_dict={X: X_new})\n",
    "    y_pred = np.argmax(Z, axis=1)\n",
    "    print(\"Actual | Predicted\")\n",
    "    print(\"=====================\")\n",
    "    for obs, pred in zip(mnist.test.labels[:n_pred], y_pred):\n",
    "        print(\"{: >4}   |{: >6}\".format(obs, pred))"
   ]
  },
  {
   "cell_type": "markdown",
   "metadata": {},
   "source": [
    "<h4>Regression with Deep Neural Nets (DNNs)</h4>\n",
    "\n",
    "Key elements of DNN Model for Predicting Diamond Prices\n",
    "\n",
    "<ul>\n",
    "    <li>Architecture -- 23 neurons in the input, 1 element in the output layer, and 3 hidden layers along with the 256 in first hidden layer, 128 in the 2nd, and 64 in the third.</li>\n",
    "    <li>Activation function -- ReLU or a variant</li>\n",
    "    <li>Optimization Algorithm -- Adam Optimizer</li>\n",
    "    <li>Loss Function -- Mean Squared Error</li>\n",
    "    <li>Weights Initialization Strategy -- Xavier initializer with fully_connected function as default</li>\n",
    "    <li>Regularization Strategy -- Not used</li>\n",
    "    <li>Training Strategy -- 40 epocks with 50 elements in each batch</li>\n",
    "</ul>"
   ]
  },
  {
   "cell_type": "code",
   "execution_count": 104,
   "metadata": {},
   "outputs": [],
   "source": [
    "# import libraries for Regression with DNNs\n",
    "\n",
    "import tensorflow as tf\n",
    "import pandas as pd\n",
    "import numpy as np\n",
    "import matplotlib.pyplot as plt\n",
    "\n",
    "from sklearn.model_selection import train_test_split\n",
    "from tensorflow.contrib.layers import fully_connected\n",
    "\n",
    "%matplotlib inline"
   ]
  },
  {
   "cell_type": "code",
   "execution_count": 105,
   "metadata": {},
   "outputs": [],
   "source": [
    "# load input data\n",
    "\n",
    "data_path= 'diamonds.csv'\n",
    "diamonds = pd.read_csv(data_path)\n",
    "diamonds = pd.concat([diamonds, pd.get_dummies(diamonds['cut'], prefix='cut', drop_first=True)],axis=1)\n",
    "diamonds = pd.concat([diamonds, pd.get_dummies(diamonds['color'], prefix='color', drop_first=True)],axis=1)\n",
    "diamonds = pd.concat([diamonds, pd.get_dummies(diamonds['clarity'], prefix='clarity', drop_first=True)],axis=1)\n",
    "diamonds.drop(['cut','color','clarity'], axis=1, inplace=True)"
   ]
  },
  {
   "cell_type": "code",
   "execution_count": 106,
   "metadata": {},
   "outputs": [],
   "source": [
    "# prepare objects for modeling\n",
    "\n",
    "from sklearn.preprocessing import RobustScaler\n",
    "target_name = 'price'\n",
    "robust_scaler = RobustScaler()\n",
    "X = diamonds.drop('price', axis=1)\n",
    "X = robust_scaler.fit_transform(X)\n",
    "y = diamonds[target_name]\n",
    "X_train, X_test, y_train, y_test = train_test_split(X, y, test_size=0.1, random_state=123)"
   ]
  },
  {
   "cell_type": "code",
   "execution_count": 107,
   "metadata": {},
   "outputs": [],
   "source": [
    "n_epochs = 40\n",
    "batch_size=50"
   ]
  },
  {
   "cell_type": "code",
   "execution_count": 108,
   "metadata": {},
   "outputs": [],
   "source": [
    "# Create input pipeline\n",
    "\n",
    "X_placeholder = tf.placeholder(X_train.dtype, shape=X_train.shape)\n",
    "y_placeholder = tf.placeholder(y_train.dtype, shape=y_train.shape)\n",
    "\n",
    "dataset = tf.data.Dataset.from_tensor_slices((X_placeholder, y_placeholder))\n",
    "dataset = dataset.shuffle(buffer_size=10000)\n",
    "dataset = dataset.batch(batch_size)\n",
    "iterator = dataset.make_initializable_iterator()\n",
    "next_element = iterator.get_next()"
   ]
  },
  {
   "cell_type": "code",
   "execution_count": 109,
   "metadata": {},
   "outputs": [],
   "source": [
    "# define architecture\n",
    "\n",
    "n_inputs = X_train.shape[1] #23\n",
    "n_hidden1 = 256\n",
    "n_hidden2 = 128 \n",
    "n_hidden3 = 64\n",
    "n_outputs = 1"
   ]
  },
  {
   "cell_type": "code",
   "execution_count": 110,
   "metadata": {},
   "outputs": [],
   "source": [
    "# placeholders for input values and labels\n",
    "\n",
    "X = tf.placeholder(X_train.dtype, shape=[None,n_inputs])\n",
    "y = tf.placeholder(y_train.dtype)"
   ]
  },
  {
   "cell_type": "code",
   "execution_count": 111,
   "metadata": {},
   "outputs": [],
   "source": [
    "# building DNN\n",
    "\n",
    "def DNN(X_values):\n",
    "    hidden1 = fully_connected(X_values, n_hidden1)\n",
    "    hidden2 = fully_connected(hidden1, n_hidden2)\n",
    "    hidden3 = fully_connected(hidden2, n_hidden3)\n",
    "    y_pred = fully_connected(hidden3, n_outputs, activation_fn=None)\n",
    "    return tf.squeeze(y_pred)"
   ]
  },
  {
   "cell_type": "code",
   "execution_count": 112,
   "metadata": {},
   "outputs": [],
   "source": [
    "# loss function\n",
    "\n",
    "y_pred = DNN(X)\n",
    "loss = tf.losses.mean_squared_error(labels=y, predictions=y_pred)"
   ]
  },
  {
   "cell_type": "code",
   "execution_count": 113,
   "metadata": {},
   "outputs": [],
   "source": [
    "# Optimizer and training operations\n",
    "\n",
    "optimizer = tf.train.AdamOptimizer()\n",
    "training_op = optimizer.minimize(loss)"
   ]
  },
  {
   "cell_type": "code",
   "execution_count": 114,
   "metadata": {},
   "outputs": [],
   "source": [
    "# numpy arrays for evaluation purposes\n",
    "\n",
    "train_mse = np.zeros(n_epochs)\n",
    "test_mse = np.zeros(n_epochs)\n"
   ]
  },
  {
   "cell_type": "code",
   "execution_count": 115,
   "metadata": {},
   "outputs": [
    {
     "name": "stdout",
     "output_type": "stream",
     "text": [
      "=============EPOCH 1============\n",
      "Training MSE: 2183246.5\n",
      "Test MSE: 934405.0\n",
      "=============EPOCH 2============\n",
      "Training MSE: 302694.9\n",
      "Test MSE: 773064.6\n",
      "=============EPOCH 3============\n",
      "Training MSE: 203989.7\n",
      "Test MSE: 719743.1\n",
      "=============EPOCH 4============\n",
      "Training MSE: 456728.7\n",
      "Test MSE: 651133.5\n",
      "=============EPOCH 5============\n",
      "Training MSE: 408183.8\n",
      "Test MSE: 614676.2\n",
      "=============EPOCH 6============\n",
      "Training MSE: 119095.6\n",
      "Test MSE: 572656.0\n",
      "=============EPOCH 7============\n",
      "Training MSE: 900513.4\n",
      "Test MSE: 551983.0\n",
      "=============EPOCH 8============\n",
      "Training MSE: 401901.3\n",
      "Test MSE: 521795.7\n",
      "=============EPOCH 9============\n",
      "Training MSE: 402831.8\n",
      "Test MSE: 501109.8\n",
      "=============EPOCH 10============\n",
      "Training MSE: 395038.9\n",
      "Test MSE: 522760.6\n",
      "=============EPOCH 11============\n",
      "Training MSE: 182448.1\n",
      "Test MSE: 458040.8\n",
      "=============EPOCH 12============\n",
      "Training MSE: 333263.7\n",
      "Test MSE: 442044.3\n",
      "=============EPOCH 13============\n",
      "Training MSE: 463094.8\n",
      "Test MSE: 431060.8\n",
      "=============EPOCH 14============\n",
      "Training MSE: 316700.5\n",
      "Test MSE: 392020.6\n",
      "=============EPOCH 15============\n",
      "Training MSE: 76837.7\n",
      "Test MSE: 374009.2\n",
      "=============EPOCH 16============\n",
      "Training MSE: 295044.3\n",
      "Test MSE: 383961.2\n",
      "=============EPOCH 17============\n",
      "Training MSE: 300855.0\n",
      "Test MSE: 385898.9\n",
      "=============EPOCH 18============\n",
      "Training MSE: 375219.8\n",
      "Test MSE: 339813.2\n",
      "=============EPOCH 19============\n",
      "Training MSE: 160063.0\n",
      "Test MSE: 399606.6\n",
      "=============EPOCH 20============\n",
      "Training MSE: 312663.2\n",
      "Test MSE: 363838.4\n",
      "=============EPOCH 21============\n",
      "Training MSE: 189631.4\n",
      "Test MSE: 342619.6\n",
      "=============EPOCH 22============\n",
      "Training MSE: 249853.9\n",
      "Test MSE: 346272.6\n",
      "=============EPOCH 23============\n",
      "Training MSE: 184465.7\n",
      "Test MSE: 334652.9\n",
      "=============EPOCH 24============\n",
      "Training MSE: 355823.6\n",
      "Test MSE: 330076.3\n",
      "=============EPOCH 25============\n",
      "Training MSE: 233906.0\n",
      "Test MSE: 356005.6\n",
      "=============EPOCH 26============\n",
      "Training MSE: 145270.9\n",
      "Test MSE: 333831.8\n",
      "=============EPOCH 27============\n",
      "Training MSE: 123791.6\n",
      "Test MSE: 344443.6\n",
      "=============EPOCH 28============\n",
      "Training MSE: 68831.6\n",
      "Test MSE: 327343.2\n",
      "=============EPOCH 29============\n",
      "Training MSE: 283094.8\n",
      "Test MSE: 355112.3\n",
      "=============EPOCH 30============\n",
      "Training MSE: 138113.3\n",
      "Test MSE: 328293.8\n",
      "=============EPOCH 31============\n",
      "Training MSE: 568793.1\n",
      "Test MSE: 349605.7\n",
      "=============EPOCH 32============\n",
      "Training MSE: 111856.2\n",
      "Test MSE: 325011.2\n",
      "=============EPOCH 33============\n",
      "Training MSE: 158206.8\n",
      "Test MSE: 326986.4\n",
      "=============EPOCH 34============\n",
      "Training MSE: 623672.2\n",
      "Test MSE: 322171.2\n",
      "=============EPOCH 35============\n",
      "Training MSE: 167286.0\n",
      "Test MSE: 313000.7\n",
      "=============EPOCH 36============\n",
      "Training MSE: 161585.5\n",
      "Test MSE: 322069.2\n",
      "=============EPOCH 37============\n",
      "Training MSE: 129989.5\n",
      "Test MSE: 315646.7\n",
      "=============EPOCH 38============\n",
      "Training MSE: 213826.2\n",
      "Test MSE: 330644.4\n",
      "=============EPOCH 39============\n",
      "Training MSE: 469279.3\n",
      "Test MSE: 318699.8\n",
      "=============EPOCH 40============\n",
      "Training MSE: 336685.9\n",
      "Test MSE: 311434.2\n",
      "Done Trainning\n",
      "\n",
      "=====================\n",
      "\n",
      "Using the network to make individual predictions\n",
      "Actual | Predicted\n",
      "=====================\n",
      "     802   |   731.0\n",
      "     935   |   903.0\n",
      "    5826   |  5997.0\n",
      "     935   |  1101.0\n",
      "    2817   |  3232.0\n",
      "     855   |   774.0\n",
      "    2846   |  2901.0\n",
      "     926   |  1032.0\n",
      "   15962   | 16188.0\n",
      "    5445   |  5680.0\n",
      "    2550   |  2348.0\n",
      "    6221   |  5483.0\n",
      "     544   |   614.0\n",
      "    1122   |  1032.0\n",
      "    1367   |  1506.0\n",
      "    4077   |  4181.0\n",
      "    2144   |  1929.0\n",
      "    2960   |  2754.0\n",
      "    7131   |  7423.0\n",
      "    1221   |  1357.0\n",
      "    4563   |  5536.0\n",
      "    3830   |  4012.0\n",
      "    1137   |  1246.0\n",
      "    1361   |  1437.0\n",
      "    4641   |  4779.0\n",
      "Correlation:  0.9962667951711187\n"
     ]
    }
   ],
   "source": [
    "# running computational graph\n",
    "\n",
    "with tf.Session() as sess:\n",
    "    tf.global_variables_initializer().run()\n",
    "    for epoch in range(n_epochs):\n",
    "        sess.run(iterator.initializer, feed_dict={X_placeholder: X_train, y_placeholder: y_train})\n",
    "        while True:\n",
    "            try:\n",
    "                batch_data = sess.run(next_element)\n",
    "                X_batch = batch_data[0]\n",
    "                y_batch = batch_data[1]\n",
    "                sess.run(training_op, feed_dict={X: X_batch, y:y_batch})\n",
    "            except tf.errors.OutOfRangeError:\n",
    "                break\n",
    "        print(\"=============EPOCH {}============\".format(epoch+1))\n",
    "        train_mse[epoch] = loss.eval(feed_dict={X:X_batch, y:y_batch})\n",
    "        test_mse[epoch] = loss.eval(feed_dict={X:X_test, y:y_test})\n",
    "        print('Training MSE:', round(train_mse[epoch],1))\n",
    "        print('Test MSE:', round(test_mse[epoch],1))\n",
    "    print(\"Done Trainning\")\n",
    "    \n",
    "    ## Producing individual predictions\n",
    "    print(\"\\n=====================\\n\")\n",
    "    print(\"Using the network to make individual predictions\")\n",
    "    n_pred = 25\n",
    "    y_obs = y_test[:n_pred]\n",
    "    y_predicted = y_pred.eval(feed_dict={X:X_test[:n_pred,]})\n",
    "    print(\"Actual | Predicted\")\n",
    "    print(\"=====================\") \n",
    "    for obs, pred in zip(y_obs, y_predicted):\n",
    "        print(\"{: >8}   |{: >8}\".format(round(obs), round(pred)))\n",
    "    print(\"Correlation: \", np.corrcoef(y_obs, y_predicted)[0,1])"
   ]
  },
  {
   "cell_type": "code",
   "execution_count": 116,
   "metadata": {},
   "outputs": [
    {
     "data": {
      "text/plain": [
       "[<matplotlib.lines.Line2D at 0x1fda0075d68>]"
      ]
     },
     "execution_count": 116,
     "metadata": {},
     "output_type": "execute_result"
    },
    {
     "data": {
      "text/plain": [
       "[<matplotlib.lines.Line2D at 0x1fda0302ac8>]"
      ]
     },
     "execution_count": 116,
     "metadata": {},
     "output_type": "execute_result"
    },
    {
     "data": {
      "text/plain": [
       "<matplotlib.legend.Legend at 0x1fda0177b38>"
      ]
     },
     "execution_count": 116,
     "metadata": {},
     "output_type": "execute_result"
    },
    {
     "data": {
      "image/png": "[encoded data removed]",
      "text/plain": [
       "<Figure size 576x432 with 1 Axes>"
      ]
     },
     "metadata": {
      "needs_background": "light"
     },
     "output_type": "display_data"
    }
   ],
   "source": [
    "# graph of MSE changes\n",
    "\n",
    "fig, ax = plt.subplots(figsize=(8,6))\n",
    "ax.plot(train_mse, label='Train MSE')\n",
    "ax.plot(test_mse, label='Test MSE')\n",
    "ax.legend()\n",
    "ax.grid()"
   ]
  },
  {
   "cell_type": "markdown",
   "metadata": {},
   "source": [
    "<h4>Classification with Deep Neural Nets (DNNs)</h4>\n",
    "\n",
    "Key elements of DNN Model:\n",
    "\n",
    "<ul>\n",
    "    <li>Architecture -- 25 neurons in the input, 2 elements in the output layer, and 2 hidden layers along both with 200 neurons.</li>\n",
    "    <li>Activation function -- ELU activation function</li>\n",
    "    <li>Optimization Algorithm -- Adam Optimizer</li>\n",
    "    <li>Loss Function -- Cross-entropy function</li>\n",
    "    <li>Weights Initialization Strategy -- Xavier initializer with fully_connected function as default</li>\n",
    "    <li>Regularization Strategy -- Not used</li>\n",
    "    <li>Training Strategy -- 40 epocks with 100 elements in each batch</li>\n",
    "</ul>"
   ]
  },
  {
   "cell_type": "code",
   "execution_count": 117,
   "metadata": {},
   "outputs": [],
   "source": [
    "# libraries for DNN Classification\n",
    "\n",
    "import tensorflow as tf\n",
    "import pandas as pd\n",
    "import numpy as np\n",
    "import matplotlib.pyplot as plt\n",
    "\n",
    "from sklearn.model_selection import train_test_split\n",
    "from sklearn.preprocessing import RobustScaler\n",
    "from sklearn.metrics import precision_score, recall_score, accuracy_score\n",
    "\n",
    "from tensorflow.contrib.layers import fully_connected\n",
    "\n",
    "%matplotlib inline"
   ]
  },
  {
   "cell_type": "code",
   "execution_count": 118,
   "metadata": {},
   "outputs": [],
   "source": [
    "# Read and reconfigure input data\n",
    "\n",
    "default = pd.read_csv('credit_card_default.csv')\n",
    "default.rename(columns=lambda x: x.lower(), inplace=True)\n",
    "default.rename(columns={'pay_0':'pay_1','default payment next month':'default'}, inplace=True)\n",
    "# Base values: female, other_education, not_married\n",
    "default['grad_school'] = (default['education'] == 1).astype('int')\n",
    "default['university'] = (default['education'] == 2).astype('int')\n",
    "default['high_school'] = (default['education'] == 3).astype('int')\n",
    "default.drop('education', axis=1, inplace=True)\n",
    "\n",
    "default['male'] = (default['sex']==1).astype('int')\n",
    "default.drop('sex', axis=1, inplace=True)\n",
    "\n",
    "default['married'] = (default['marriage'] == 1).astype('int')\n",
    "default.drop('marriage', axis=1, inplace=True)\n",
    "\n",
    "# For pay_n features if >0 then it means the customer was delayed on that month\n",
    "pay_features = ['pay_' + str(i) for i in range(1,7)]\n",
    "for p in pay_features:\n",
    "    default[p] = (default[p] > 0).astype(int)"
   ]
  },
  {
   "cell_type": "code",
   "execution_count": 119,
   "metadata": {},
   "outputs": [],
   "source": [
    "# Create objects for modeling including input pipeline for training and testing data\n",
    "\n",
    "target_name = 'default'\n",
    "X = default.drop('default', axis=1)\n",
    "feature_names = X.columns\n",
    "robust_scaler = RobustScaler()\n",
    "X = robust_scaler.fit_transform(X)\n",
    "y = default[target_name]\n",
    "X_train, X_test, y_train, y_test = train_test_split(X, y, test_size=0.1, random_state=12, stratify=y)"
   ]
  },
  {
   "cell_type": "code",
   "execution_count": 120,
   "metadata": {},
   "outputs": [],
   "source": [
    "n_epochs = 40\n",
    "batch_size = 100 "
   ]
  },
  {
   "cell_type": "code",
   "execution_count": 121,
   "metadata": {},
   "outputs": [],
   "source": [
    "# input pipeline for DNN\n",
    "\n",
    "X_placeholder = tf.placeholder(X_train.dtype, shape=X_train.shape)\n",
    "y_placeholder = tf.placeholder(y_train.dtype, shape=y_train.shape)\n",
    "\n",
    "dataset = tf.data.Dataset.from_tensor_slices((X_placeholder, y_placeholder))\n",
    "dataset = dataset.shuffle(buffer_size=10000)\n",
    "dataset = dataset.batch(batch_size)\n",
    "iterator = dataset.make_initializable_iterator()\n",
    "next_element = iterator.get_next()"
   ]
  },
  {
   "cell_type": "code",
   "execution_count": 122,
   "metadata": {},
   "outputs": [],
   "source": [
    "# architecture\n",
    "\n",
    "n_inputs = X_train.shape[1] #25\n",
    "n_hidden1 = 200\n",
    "n_hidden2 = 200\n",
    "n_hidden3 = 200\n",
    "n_outputs = 2"
   ]
  },
  {
   "cell_type": "code",
   "execution_count": 123,
   "metadata": {},
   "outputs": [],
   "source": [
    "# placeholders for inputs and labels\n",
    "\n",
    "X = tf.placeholder(X_train.dtype, shape=[None,n_inputs])\n",
    "y = tf.placeholder(y_train.dtype)"
   ]
  },
  {
   "cell_type": "code",
   "execution_count": 124,
   "metadata": {},
   "outputs": [],
   "source": [
    "# building the neural network\n",
    "\n",
    "def DNN(X_values):\n",
    "    hidden1 = fully_connected(X_values, n_hidden1, activation_fn=tf.nn.elu)\n",
    "    hidden2 = fully_connected(hidden1, n_hidden2, activation_fn=tf.nn.elu)\n",
    "    hidden3 = fully_connected(hidden2, n_hidden3, activation_fn=tf.nn.elu)\n",
    "    logits = fully_connected(hidden3, n_outputs, activation_fn=None)\n",
    "    return tf.cast(logits, dtype=tf.float32)"
   ]
  },
  {
   "cell_type": "code",
   "execution_count": 125,
   "metadata": {},
   "outputs": [],
   "source": [
    "# loss function\n",
    "\n",
    "logits = DNN(X)\n",
    "cross_entropy = tf.nn.sparse_softmax_cross_entropy_with_logits(labels=y, logits=logits)\n",
    "loss = tf.reduce_mean(cross_entropy)"
   ]
  },
  {
   "cell_type": "code",
   "execution_count": 126,
   "metadata": {},
   "outputs": [],
   "source": [
    "# Evaluation nodes\n",
    "\n",
    "probs = tf.nn.softmax(logits)"
   ]
  },
  {
   "cell_type": "code",
   "execution_count": 127,
   "metadata": {},
   "outputs": [],
   "source": [
    "# optimizer and training operation\n",
    "\n",
    "optimizer = tf.train.AdamOptimizer(learning_rate=0.001)\n",
    "training_op = optimizer.minimize(loss)"
   ]
  },
  {
   "cell_type": "code",
   "execution_count": 128,
   "metadata": {},
   "outputs": [
    {
     "name": "stdout",
     "output_type": "stream",
     "text": [
      "Epoch: 1\n",
      "Epoch: 2\n",
      "Epoch: 3\n",
      "Epoch: 4\n",
      "Epoch: 5\n",
      "Epoch: 6\n",
      "Epoch: 7\n",
      "Epoch: 8\n",
      "Epoch: 9\n",
      "Epoch: 10\n",
      "Epoch: 11\n",
      "Epoch: 12\n",
      "Epoch: 13\n",
      "Epoch: 14\n",
      "Epoch: 15\n",
      "Epoch: 16\n",
      "Epoch: 17\n",
      "Epoch: 18\n",
      "Epoch: 19\n",
      "Epoch: 20\n",
      "Epoch: 21\n",
      "Epoch: 22\n",
      "Epoch: 23\n",
      "Epoch: 24\n",
      "Epoch: 25\n",
      "Epoch: 26\n",
      "Epoch: 27\n",
      "Epoch: 28\n",
      "Epoch: 29\n",
      "Epoch: 30\n",
      "Epoch: 31\n",
      "Epoch: 32\n",
      "Epoch: 33\n",
      "Epoch: 34\n",
      "Epoch: 35\n",
      "Epoch: 36\n",
      "Epoch: 37\n",
      "Epoch: 38\n",
      "Epoch: 39\n",
      "Epoch: 40\n",
      "Done Trainning!\n"
     ]
    }
   ],
   "source": [
    "# run computational graph\n",
    "\n",
    "with tf.Session() as sess:\n",
    "    tf.global_variables_initializer().run()\n",
    "    for epoch in range(n_epochs):\n",
    "        sess.run(iterator.initializer, feed_dict={X_placeholder: X_train, y_placeholder: y_train})\n",
    "        while True:\n",
    "            try:\n",
    "                batch_data = sess.run(next_element)\n",
    "                X_batch = batch_data[0]\n",
    "                y_batch = batch_data[1]\n",
    "                sess.run(training_op, feed_dict={X: X_batch, y:y_batch})\n",
    "            except tf.errors.OutOfRangeError:\n",
    "                break\n",
    "        print(\"Epoch: {}\".format(epoch+1))\n",
    "    print(\"Done Trainning!\")\n",
    "    probabilities = probs.eval(feed_dict={X: X_test})[:,1]"
   ]
  },
  {
   "cell_type": "code",
   "execution_count": 129,
   "metadata": {},
   "outputs": [
    {
     "name": "stdout",
     "output_type": "stream",
     "text": [
      "Recall: 76.51\n",
      "Precision: 35.47\n",
      "Accuracy: 64.00\n"
     ]
    }
   ],
   "source": [
    "# Evaluting the model with a set threshhold\n",
    "\n",
    "y_pred = (probabilities > 0.16).astype(int)\n",
    "print('Recall: {:0.2f}'.format(100*recall_score(y_true=y_test, y_pred=y_pred)))\n",
    "print('Precision: {:0.2f}'.format(100*precision_score(y_true=y_test, y_pred=y_pred)))\n",
    "print('Accuracy: {:0.2f}'.format(100*accuracy_score(y_true=y_test, y_pred=y_pred)))"
   ]
  },
  {
   "cell_type": "code",
   "execution_count": null,
   "metadata": {},
   "outputs": [],
   "source": []
  }
 ],
 "metadata": {
  "CodeCell": {
   "cm_config": {
    "lineWrapping": true
   }
  },
  "MarkdownCell": {
   "cm_config": {
    "lineWrapping": true
   }
  },
  "kernelspec": {
   "display_name": "Python 3",
   "language": "python",
   "name": "python3"
  },
  "language_info": {
   "codemirror_mode": {
    "name": "ipython",
    "version": 3
   },
   "file_extension": ".py",
   "mimetype": "text/x-python",
   "name": "python",
   "nbconvert_exporter": "python",
   "pygments_lexer": "ipython3",
   "version": "3.7.3"
  }
 },
 "nbformat": 4,
 "nbformat_minor": 2
}
