{
 "cells": [
  {
   "cell_type": "markdown",
   "metadata": {},
   "source": [
    "<H2>Notes from Predictive Analytics with TensorFlow - Ch. 3 and 7 - Packt</H2>"
   ]
  },
  {
   "cell_type": "code",
   "execution_count": 1,
   "metadata": {},
   "outputs": [],
   "source": [
    "from IPython.core.interactiveshell import InteractiveShell\n",
    "InteractiveShell.ast_node_interactivity = \"all\""
   ]
  },
  {
   "cell_type": "code",
   "execution_count": 2,
   "metadata": {},
   "outputs": [
    {
     "data": {
      "application/javascript": [
       "IPython.OutputArea.prototype._should_scroll = function(lines) {\n",
       "    return false;\n",
       "}\n"
      ],
      "text/plain": [
       "<IPython.core.display.Javascript object>"
      ]
     },
     "metadata": {},
     "output_type": "display_data"
    }
   ],
   "source": [
    "%%javascript\n",
    "IPython.OutputArea.prototype._should_scroll = function(lines) {\n",
    "    return false;\n",
    "}"
   ]
  },
  {
   "cell_type": "code",
   "execution_count": 3,
   "metadata": {},
   "outputs": [],
   "source": [
    "import warnings\n",
    "warnings.filterwarnings('ignore')"
   ]
  },
  {
   "cell_type": "markdown",
   "metadata": {},
   "source": [
    "<H3>Chapter 3: From Data to Decisions - Getting Started with TensorFlow</H3>\n",
    "\n",
    "<H4>General Topics:</H4>\n",
    "    \n",
    "<ul>\n",
    "    <li>TensorFlow computational graph</li>\n",
    "    <li>TensorFlow programming model</li>\n",
    "    <li>TensorFlow data model</li>\n",
    "    <li>Visualizing the TensorBoard</li>\n",
    "    <li>Getting started with TensorFlow: Linear Regression and beyond</li>\n",
    "</ul>\n",
    "     "
   ]
  },
  {
   "cell_type": "code",
   "execution_count": 4,
   "metadata": {},
   "outputs": [],
   "source": [
    "import numpy as np\n",
    "import pandas as pd\n",
    "import matplotlib.pyplot as plt"
   ]
  },
  {
   "cell_type": "markdown",
   "metadata": {},
   "source": [
    "<h4>TensorFlow Computational Graph</h4>\n",
    "\n",
    "TensorFlow is an open source framework from Google for 'scientific and numerical computation based on dataflow graphs' that provides an execution model for deep learning and predictive analytics. \n",
    "\n",
    "Technically, a dataflow graph is a 'computational graph.' A computational graph is a directed graph where the nodes correspond to mathematical operations and the edges correspond to the data and control that flow between the nodes. They are a way of expressing and evaluating mathematical expressions (from simple to complex).  \n",
    "\n",
    "The data (values) that are fed into the nodes and come out of the nodes are called <i>tensors</i>.  Hence the name Tensorflow.\n",
    "At their base, tensors are multi-dimensional arrays that encompass scalars (rank 0), vectors (rank 1), matrices (rank 2), as well arrays of a higher rank (3 or more). \n",
    "\n",
    "The main components of TensorFlow include:\n",
    "\n",
    "<ol>\n",
    "    <li><i>Variables</i>: Used to contain values for the weights and bias between TensorFlow sessions.</li>\n",
    "    <li><i>Tensors</i>: A set of values that pass in between nodes.</li>\n",
    "    <li><i>Placeholders</i>: Is used to send data between the program and the TensorFlow graph.</li>\n",
    "    <li><i>Session</i>: When a session is started, TensorFlow automatically calculates gradients for all the operations in the graph and use them in a chain rule.In fact, a session is invoked when the graph is to be executed.</li>\n",
    "</ol>\n"
   ]
  },
  {
   "cell_type": "markdown",
   "metadata": {},
   "source": [
    "<h4>TensorFlow Programming Model</h4>\n",
    "\n",
    "The programming model is generally divided into 4 phases:\n",
    "\n",
    "<ol>\n",
    "    <li>Construction of the computations graph that involves some operations on tensors.</li>\n",
    "    <li>Create a session.</li>\n",
    "    <li>Running a session, that is performed for the operations defined in the graph.</li>\n",
    "    <li>Computation for data collection and analysis.</li>\n",
    "</ol>\n",
    "\n",
    "TensorFlow <i>Session Objects</i> (i.e. tf.Session) provide an environment encapsulates the computational graph, executing all the specified operations and evaluating the associated Tensor objects.\n",
    "\n",
    "The following provide simple examples illustrating the encapsulation and execution process. The first example relies on Tensor <i>constants</i> to specify key values, while the second utilizes Tensor <i>placeholders</i> to accomplish the same task.  Placeholders require specification of the data type, the shape of the tensor, and an optional name. In both instances you can think of constants and placeholders much like the 'type' specifications in other languages (e.g. in Java a constant would be declared as 'final int x = 8;' or for placeholders 'float x;' where x is 0.0 by default)."
   ]
  },
  {
   "cell_type": "code",
   "execution_count": 5,
   "metadata": {},
   "outputs": [
    {
     "name": "stdout",
     "output_type": "stream",
     "text": [
      "The multiplication of x and y: 72\n"
     ]
    }
   ],
   "source": [
    "# Simple example multiplying 2 numbers x and y\n",
    "\n",
    "# While you wouldn't use this to simply multiply 2 numbers,\n",
    "# it serves to highlight key elements in the programming \n",
    "# of a computational graph\n",
    "\n",
    "import tensorflow as tf\n",
    "\n",
    "x = tf.constant(8)\n",
    "y = tf.constant(9)\n",
    "z = tf.multiply(x,y)\n",
    "\n",
    "sess = tf.Session()\n",
    "out_z = sess.run(z)\n",
    "sess.close()\n",
    "\n",
    "print('The multiplication of x and y: %d' % out_z)"
   ]
  },
  {
   "cell_type": "code",
   "execution_count": 6,
   "metadata": {},
   "outputs": [
    {
     "name": "stdout",
     "output_type": "stream",
     "text": [
      "72.0\n"
     ]
    }
   ],
   "source": [
    "# same example with improved efficients utilizing tf.placeholders\n",
    "\n",
    "import tensorflow as tf\n",
    "\n",
    "with tf.Session() as sess:\n",
    "    x = tf.placeholder(tf.float32, name = 'x')\n",
    "    y = tf.placeholder(tf.float32, name = 'y')\n",
    "    z = tf.multiply(x,y)    \n",
    "    z_output = sess.run(z, feed_dict={x:8, y:9})\n",
    "sess.close()\n",
    "\n",
    "print(z_output)"
   ]
  },
  {
   "cell_type": "markdown",
   "metadata": {},
   "source": [
    "<h4>TensorFlow Data Model</h4>\n",
    "\n",
    "The data model in TensorFlow is represented by tensors, which are essentially multidimensional numerical arrays. A more formal definition of the concept of <i>tensors</i> is provided by Wikipedia (https://en.wikipedia.org/wiki/Tensor):\n",
    "\n",
    "\"Tensors are geometric objects that describe linear relations between geometric vectors, scalars, and other tensors. Elementary examples of such relations include the dot product, the cross product, and linear maps. Geometric vectors, often used in physics and engineering applications, and scalars themselves are also tensors.\"\n",
    "\n",
    "On the surface, tensors and 'numpy arrays' appear to share a number of similarities. However, they are different in large part because numpy arrays yield values without having to encapsulate them in a 'session.' The examples that follow highlight the differences and show how numpy arrays can be used as a starting point for tensors."
   ]
  },
  {
   "cell_type": "code",
   "execution_count": 7,
   "metadata": {},
   "outputs": [
    {
     "name": "stdout",
     "output_type": "stream",
     "text": [
      "<class 'list'>\n",
      "<class 'numpy.ndarray'>\n",
      "<class 'tensorflow.python.framework.ops.Tensor'>\n"
     ]
    }
   ],
   "source": [
    "import numpy as np\n",
    "\n",
    "X = [[2.0, 4.0],[6.0, 8.0]]\n",
    "Y = np.array([[2.0, 4.0],[6.0, 8.0]], dtype=np.float32)\n",
    "Z = tf.constant([[2.0, 4.0],[6.0, 8.0]])\n",
    "\n",
    "print(type(X))\n",
    "print(type(Y))\n",
    "print(type(Z))"
   ]
  },
  {
   "cell_type": "code",
   "execution_count": 8,
   "metadata": {},
   "outputs": [
    {
     "name": "stdout",
     "output_type": "stream",
     "text": [
      "<class 'tensorflow.python.framework.ops.Tensor'>\n",
      "<class 'tensorflow.python.framework.ops.Tensor'>\n",
      "<class 'tensorflow.python.framework.ops.Tensor'>\n"
     ]
    }
   ],
   "source": [
    "# while there are differences, all 3 are easily converted to tensors\n",
    "\n",
    "t1 = tf.convert_to_tensor(X, dtype=tf.float32)\n",
    "t2 = tf.convert_to_tensor(Z, dtype=tf.float32)\n",
    "t3 = tf.convert_to_tensor(Z, dtype=tf.float32)\n",
    "\n",
    "print(type(t1))\n",
    "print(type(t2))\n",
    "print(type(t3))"
   ]
  },
  {
   "cell_type": "markdown",
   "metadata": {},
   "source": [
    "<h4>Tensor: Key Features -- 'rank','shape', and 'type'</h4>\n",
    "\n",
    "<h5>Rank</h5>\n",
    "\n",
    "Each tensor is described by a unit of dimensionality called 'rank'.  It specifies the number of dimensions of the tensor.  Rank is also known as the 'order' or 'n-dimensions' of a tensor. A rank zero tensor is a scalar, a rank one tensor is a vector, a rank two tensor is a matrix, higher ranks involve nested matrices. Each of these is illustrated below:"
   ]
  },
  {
   "cell_type": "code",
   "execution_count": 9,
   "metadata": {},
   "outputs": [
    {
     "name": "stdout",
     "output_type": "stream",
     "text": [
      "()\n",
      "(5,)\n",
      "(2, 3)\n",
      "(3, 3, 1)\n"
     ]
    }
   ],
   "source": [
    "import tensorflow as tf\n",
    "\n",
    "scalar1 = tf.constant(100) # rank 0\n",
    "vector1 = tf.constant([1,2,3,4,5]) # rank 1\n",
    "matrix1 = tf.constant([[1,2,3],[4,5,6]]) # rank 2\n",
    "cube_matrix1 = tf.constant([[[1],[2],[3]],[[4],[5],[6]],[[7],[8],[9]]]) # rank 3\n",
    "print(scalar1.get_shape())\n",
    "print(vector1.get_shape())\n",
    "print(matrix1.get_shape())\n",
    "print(cube_matrix1.get_shape())"
   ]
  },
  {
   "cell_type": "markdown",
   "metadata": {},
   "source": [
    "<h5>Shape</h5>\n",
    "\n",
    "The shape of a tensor is it's number of rows and columns. The illustrations below illustrate the concept of shape and it's relation to rank."
   ]
  },
  {
   "cell_type": "code",
   "execution_count": 10,
   "metadata": {},
   "outputs": [
    {
     "data": {
      "text/plain": [
       "TensorShape([])"
      ]
     },
     "execution_count": 10,
     "metadata": {},
     "output_type": "execute_result"
    },
    {
     "data": {
      "text/plain": [
       "TensorShape([Dimension(5)])"
      ]
     },
     "execution_count": 10,
     "metadata": {},
     "output_type": "execute_result"
    },
    {
     "data": {
      "text/plain": [
       "TensorShape([Dimension(2), Dimension(3)])"
      ]
     },
     "execution_count": 10,
     "metadata": {},
     "output_type": "execute_result"
    },
    {
     "data": {
      "text/plain": [
       "TensorShape([Dimension(3), Dimension(3), Dimension(1)])"
      ]
     },
     "execution_count": 10,
     "metadata": {},
     "output_type": "execute_result"
    }
   ],
   "source": [
    "scalar1.get_shape()\n",
    "vector1.get_shape()\n",
    "matrix1.get_shape()\n",
    "cube_matrix1.get_shape()"
   ]
  },
  {
   "cell_type": "markdown",
   "metadata": {},
   "source": [
    "<h5>Data Type</h5>\n",
    "\n",
    "The third key feature of a tensor is it's 'data type'.  The following table summarizes the types:\n",
    "\n",
    "<table align=\"left\">\n",
    "    <tr><th>Type</th><th>TensorFlow</th></tr>\n",
    "    <tr><td>floating point</td><td>tf.float32, tf.float64</td></tr>\n",
    "    <tr><td>integers</td><td>tf.int8, tf.int16, tf.int32, tf.int64</td></tr>\n",
    "    <tr><td>unsigned integers</td><td>tf.uint8, tf.unit16</td></tr>\n",
    "    <tr><td>strings</td><td>tf.string</td></tr>\n",
    "    <tr><td>booleans</td><td>tf.bool</td></tr>\n",
    "    <tr><td>complex numbers</td><td>tf.complex64, tf.complex128</td></tr>\n",
    "    <tr><td>integer with quantuized ops</td><td>tf.qint8, tf.qint32, tf.quint8</td></tr>\n",
    "</table>\n",
    "\n"
   ]
  },
  {
   "cell_type": "markdown",
   "metadata": {},
   "source": [
    "When placeholders and variables are defined, the type is specified. With constants it is usually assumed.  In any case, you can see the type when the tensor is printed (along with the name and shape)."
   ]
  },
  {
   "cell_type": "code",
   "execution_count": 11,
   "metadata": {},
   "outputs": [
    {
     "name": "stdout",
     "output_type": "stream",
     "text": [
      "Tensor(\"Const_8:0\", shape=(), dtype=int32)\n",
      "Tensor(\"y_1:0\", dtype=float32)\n",
      "<tf.Variable 'Variable:0' shape=() dtype=float64_ref>\n"
     ]
    }
   ],
   "source": [
    "x = tf.constant(8)\n",
    "y = tf.placeholder(tf.float32, name = 'y')\n",
    "z = tf.Variable(0.0, dtype=tf.float64)\n",
    "print(x)\n",
    "print(y)\n",
    "print(z)"
   ]
  },
  {
   "cell_type": "markdown",
   "metadata": {},
   "source": [
    "<h5>Building Tensors from Numpy Arrays</h5>"
   ]
  },
  {
   "cell_type": "code",
   "execution_count": 12,
   "metadata": {},
   "outputs": [
    {
     "name": "stdout",
     "output_type": "stream",
     "text": [
      "Tensor(\"Const_9:0\", shape=(10,), dtype=int32)\n",
      "(10,)\n",
      "[ 1  2  3  4  5  6  7  8  9 10]\n"
     ]
    }
   ],
   "source": [
    "# creating a constant from numpy (np) array\n",
    "\n",
    "import tensorflow as tf\n",
    "import numpy as np\n",
    "\n",
    "tensor_1d = np.array([1,2,3,4,5,6,7,8,9,10]) #np array\n",
    "tensor_1d = tf.constant(tensor_1d)\n",
    "\n",
    "with tf.Session() as sess:\n",
    "    print(tensor_1d)\n",
    "    print (tensor_1d.get_shape())\n",
    "    print (sess.run(tensor_1d))\n",
    "# Finally, close the TensorFlow session when you're done\n",
    "sess.close()"
   ]
  },
  {
   "cell_type": "code",
   "execution_count": 13,
   "metadata": {
    "scrolled": true
   },
   "outputs": [
    {
     "name": "stdout",
     "output_type": "stream",
     "text": [
      "<tf.Variable 'Variable_1:0' shape=(3, 3) dtype=int32_ref>\n",
      "(3, 3)\n",
      "[[1 2 3]\n",
      " [4 5 6]\n",
      " [7 8 9]]\n"
     ]
    }
   ],
   "source": [
    "# creating a Variable from np array\n",
    "\n",
    "import tensorflow as tf\n",
    "import numpy as np\n",
    "\n",
    "tensor_2d = np.array([(1,2,3),(4,5,6),(7,8,9)])\n",
    "tensor_2d = tf.Variable(tensor_2d)\n",
    "\n",
    "with tf.Session() as sess:\n",
    "    sess.run(tf.global_variables_initializer())\n",
    "    print(tensor_2d)\n",
    "    print (tensor_2d.get_shape())\n",
    "    print (sess.run(tensor_2d))\n",
    "    \n",
    "sess.close()"
   ]
  },
  {
   "cell_type": "code",
   "execution_count": 14,
   "metadata": {},
   "outputs": [
    {
     "name": "stdout",
     "output_type": "stream",
     "text": [
      "[1 2 3 4 5]\n"
     ]
    }
   ],
   "source": [
    "# interactive session provides convenient way to keep default session open\n",
    "\n",
    "import tensorflow as tf\n",
    "import numpy as np\n",
    "\n",
    "interactive_session = tf.InteractiveSession()\n",
    "\n",
    "tensor = np.array([1,2,3,4,5])\n",
    "tensor = tf.constant(tensor)\n",
    "print(tensor.eval())\n",
    "\n",
    "interactive_session.close()"
   ]
  },
  {
   "cell_type": "code",
   "execution_count": 15,
   "metadata": {},
   "outputs": [
    {
     "name": "stdout",
     "output_type": "stream",
     "text": [
      "Tensor(\"Const_11:0\", shape=(3, 3, 3), dtype=float64)\n",
      "(3, 3, 3)\n",
      "[[[ 0.  1.  2.]\n",
      "  [ 3.  4.  5.]\n",
      "  [ 6.  7.  8.]]\n",
      "\n",
      " [[ 9. 10. 11.]\n",
      "  [12. 13. 14.]\n",
      "  [15. 16. 17.]]\n",
      "\n",
      " [[18. 19. 20.]\n",
      "  [21. 22. 23.]\n",
      "  [24. 25. 26.]]]\n"
     ]
    }
   ],
   "source": [
    "# using tf.convert_to_tensor to define a tensor object\n",
    "\n",
    "import tensorflow as tf\n",
    "import numpy as np\n",
    "\n",
    "tensor_3d = np.array([[[0, 1, 2], [3, 4, 5], [6, 7, 8]],\n",
    "[[9, 10, 11], [12, 13, 14], [15, 16, 17]],\n",
    "[[18, 19, 20], [21, 22, 23], [24, 25, 26]]])\n",
    "\n",
    "tensor_3d = tf.convert_to_tensor(tensor_3d, dtype=tf.float64)\n",
    "\n",
    "with tf.Session() as sess:\n",
    "    print(tensor_3d)\n",
    "    print(tensor_3d.get_shape())\n",
    "    print(sess.run(tensor_3d))\n",
    "    \n",
    "sess.close()"
   ]
  },
  {
   "cell_type": "code",
   "execution_count": 16,
   "metadata": {},
   "outputs": [
    {
     "name": "stdout",
     "output_type": "stream",
     "text": [
      "0\n"
     ]
    },
    {
     "data": {
      "text/plain": [
       "1"
      ]
     },
     "execution_count": 16,
     "metadata": {},
     "output_type": "execute_result"
    },
    {
     "data": {
      "text/plain": [
       "2"
      ]
     },
     "execution_count": 16,
     "metadata": {},
     "output_type": "execute_result"
    },
    {
     "data": {
      "text/plain": [
       "3"
      ]
     },
     "execution_count": 16,
     "metadata": {},
     "output_type": "execute_result"
    },
    {
     "data": {
      "text/plain": [
       "4"
      ]
     },
     "execution_count": 16,
     "metadata": {},
     "output_type": "execute_result"
    },
    {
     "data": {
      "text/plain": [
       "5"
      ]
     },
     "execution_count": 16,
     "metadata": {},
     "output_type": "execute_result"
    }
   ],
   "source": [
    "# Variables are TensorFlow objects used to hold and update parameters\n",
    "# They must be initialized and can also be saved and restored.\n",
    "\n",
    "import tensorflow as tf\n",
    "\n",
    "value = tf.Variable(0, name='value')\n",
    "\n",
    "one = tf.constant(1)\n",
    "new_value = tf.add(value, one)\n",
    "update_value = tf.assign(value, new_value)\n",
    "initialize_var = tf.global_variables_initializer()\n",
    "\n",
    "with tf.Session() as sess:\n",
    "    sess.run(initialize_var)\n",
    "    print(sess.run(value))\n",
    "    for _ in range(5):\n",
    "        sess.run(update_value)\n",
    "\n",
    "sess.close()\n"
   ]
  },
  {
   "cell_type": "code",
   "execution_count": 17,
   "metadata": {},
   "outputs": [
    {
     "name": "stdout",
     "output_type": "stream",
     "text": [
      "[array([400.], dtype=float32), array([300.], dtype=float32)]\n"
     ]
    }
   ],
   "source": [
    "# To 'fetch' the outputs of operations, execute the graph by calling run() on the\n",
    "# session object and pass in the tensors to retrieve. This can be done for single\n",
    "# or multiple tensor nodes\n",
    "\n",
    "import tensorflow as tf\n",
    "\n",
    "constant_A = tf.constant([100.0])\n",
    "constant_B = tf.constant([300.0])\n",
    "constant_C = tf.constant([3.0])\n",
    "\n",
    "sum_ = tf.add(constant_A,constant_B)\n",
    "mul_ = tf.multiply(constant_A,constant_C)\n",
    "\n",
    "with tf.Session() as sess:\n",
    "    result = sess.run([sum_,mul_])\n",
    "    print(result)\n",
    "\n",
    "sess.close()\n"
   ]
  },
  {
   "cell_type": "markdown",
   "metadata": {},
   "source": [
    "<h4>Feeds and Placeholder</h4>\n",
    "\n",
    "There are four methods of getting data into a TensorFlow Program:\n",
    "\n",
    "<ul>\n",
    "    <li><i>Dataset API</i> -- Build complex input pipelines from simple and reusable pieces from distributed file systems. Two new abstractions for feedable sets are <i>tf.contrib.data.Dataset</i> and <i>tf.contrib.data.Iterator</i>.</li>\n",
    "    <li><i>Feeding</i> -- Allows injecting data into any Tensor</li>\n",
    "    <li><i>Reading from Files</i> -- Develop input pipeline using Python's built-in file reading methods.</li>\n",
    "    <li><i>Preloaded Data</i> -- For small datasets use either constants or variables in TensorFlow graph.</li>\n",
    "</ul>"
   ]
  },
  {
   "cell_type": "code",
   "execution_count": 18,
   "metadata": {},
   "outputs": [
    {
     "name": "stdout",
     "output_type": "stream",
     "text": [
      "Tensor(\"Placeholder:0\", shape=(3, 2), dtype=float32)\n",
      "[[0.8508269  1.1265585 ]\n",
      " [1.4935867  1.5860491 ]\n",
      " [1.5823089  0.48455366]]\n"
     ]
    }
   ],
   "source": [
    "# Feeding array of random numbers\n",
    "\n",
    "import tensorflow as tf\n",
    "import numpy as np\n",
    "\n",
    "a = 3\n",
    "b = 2\n",
    "\n",
    "x = tf.placeholder(tf.float32,shape=(a,b))\n",
    "print(x)\n",
    "y = tf.add(x,x)\n",
    "\n",
    "data = np.random.rand(a,b)\n",
    "\n",
    "sess = tf.Session()\n",
    "print (sess.run(y,feed_dict={x:data}))\n",
    "\n",
    "sess.close()"
   ]
  },
  {
   "cell_type": "markdown",
   "metadata": {},
   "source": [
    "<h4>Getting Started: Linear Regression and Beyond</h4>\n",
    "\n",
    "Similiar to the statistical realm, linear regression can also be used in predictive modeling to explore the relationship between a dependent variable yi, and interdependent variable xi, and a random term b. In this instance the model is as follows:\n",
    "\n",
    "y = W\\*x + b\n",
    "\n",
    "To illustrate the way this works, we'll being with a simple Python program for creating data in a 2D space. Next will use TensorFlow to find the line that best fits the data."
   ]
  },
  {
   "cell_type": "code",
   "execution_count": 19,
   "metadata": {},
   "outputs": [
    {
     "data": {
      "text/plain": [
       "[<matplotlib.lines.Line2D at 0x199c4ad6630>]"
      ]
     },
     "execution_count": 19,
     "metadata": {},
     "output_type": "execute_result"
    },
    {
     "data": {
      "text/plain": [
       "<matplotlib.legend.Legend at 0x199c435fe10>"
      ]
     },
     "execution_count": 19,
     "metadata": {},
     "output_type": "execute_result"
    },
    {
     "data": {
      "image/png": "[encoded data removed]",
      "text/plain": [
       "<Figure size 432x288 with 1 Axes>"
      ]
     },
     "metadata": {
      "needs_background": "light"
     },
     "output_type": "display_data"
    }
   ],
   "source": [
    "# Import libraries (Numpy, matplotlib)\n",
    "import numpy as np\n",
    "import matplotlib.pyplot as plt\n",
    "\n",
    "# Create 1000 points following a function y=0.1 * x + 0.4 (i.e. y \\= W* x + b) with some normal random distribution:\n",
    "\n",
    "num_points = 1000\n",
    "\n",
    "vectors_set = []\n",
    "\n",
    "for i in range(num_points):\n",
    "    W = 0.1 # W\n",
    "    b = 0.4 # b\n",
    "    x1 = np.random.normal(0.0, 1.0)\n",
    "    nd = np.random.normal(0.0, 0.05)\n",
    "    y1 = W * x1 + b\n",
    "    # Add some impurity with some normal distribution -i.e. nd:\n",
    "    y1 = y1+nd\n",
    "    # Append them and create a combined vector set:\n",
    "    vectors_set.append([x1, y1])\n",
    "    \n",
    "# Separate the data point across axises:\n",
    "x_data = [v[0] for v in vectors_set]\n",
    "y_data = [v[1] for v in vectors_set]\n",
    "\n",
    "# Plot and show the data points in a 2D space\n",
    "plt.plot(x_data, y_data, 'r*', label='Original data')\n",
    "plt.legend()\n",
    "plt.show()"
   ]
  },
  {
   "cell_type": "markdown",
   "metadata": {},
   "source": [
    "Given this data the objective is to create a computational graph 'W\\*x_data + b' that best predicts the y_data. While we know behind the scenes that the data were created using W = 0.1 and b = 0.4, the goal is to derive optimum values for W and b that reduce the error between the actual y values and the predicted y values. A standard way to solve optimization problems of this sort is to iterate through each of the data points and adjust the value of W and b with each iteration in order to prove the precision of the answer. Of course, how the precision is determined depends on the 'cost function' used to measure the distance between the real data points and the estimated ones.  Here, we use mean squared error (MSE)."
   ]
  },
  {
   "cell_type": "code",
   "execution_count": 20,
   "metadata": {},
   "outputs": [
    {
     "name": "stdout",
     "output_type": "stream",
     "text": [
      "0 [0.04054907] [0.484494] 0.013118821\n",
      "1 [0.11257023] [0.3836188] 0.003004643\n",
      "2 [0.09722682] [0.40464267] 0.0025586842\n",
      "3 [0.10049009] [0.40025705] 0.0025390128\n",
      "4 [0.09979706] [0.40117264] 0.0025381446\n",
      "5 [0.09994406] [0.40098137] 0.0025381069\n",
      "6 [0.0999129] [0.40102133] 0.0025381048\n",
      "7 [0.0999195] [0.401013] 0.0025381045\n",
      "8 [0.0999181] [0.40101472] 0.0025381045\n",
      "9 [0.0999184] [0.40101436] 0.0025381045\n",
      "10 [0.09991834] [0.40101445] 0.0025381045\n",
      "11 [0.09991835] [0.40101442] 0.0025381045\n",
      "12 [0.09991835] [0.40101442] 0.0025381045\n",
      "13 [0.09991835] [0.40101442] 0.0025381045\n",
      "14 [0.09991835] [0.40101442] 0.0025381045\n",
      "15 [0.09991835] [0.40101442] 0.0025381045\n"
     ]
    }
   ],
   "source": [
    "import tensorflow as tf\n",
    "\n",
    "W = tf.Variable(tf.random_uniform([1], -1.0, 1.0))\n",
    "b = tf.Variable(tf.zeros([1]))\n",
    "y = W * x_data + b\n",
    "\n",
    "loss = tf.reduce_mean(tf.square(y - y_data))\n",
    "\n",
    "optimizer = tf.train.GradientDescentOptimizer(0.6)\n",
    "train = optimizer.minimize(loss)\n",
    "\n",
    "init = tf.global_variables_initializer()\n",
    "sess = tf.Session()\n",
    "sess.run(init)\n",
    "\n",
    "for i in range(16):\n",
    "    sess.run(train)\n",
    "    print(i, sess.run(W), sess.run(b), sess.run(loss))\n",
    "    \n"
   ]
  },
  {
   "cell_type": "code",
   "execution_count": 21,
   "metadata": {},
   "outputs": [
    {
     "name": "stdout",
     "output_type": "stream",
     "text": [
      "0 [0.18402904] [0.47589028] 0.0150749665\n"
     ]
    },
    {
     "data": {
      "text/plain": [
       "[<matplotlib.lines.Line2D at 0x199c4cb7ac8>]"
      ]
     },
     "execution_count": 21,
     "metadata": {},
     "output_type": "execute_result"
    },
    {
     "data": {
      "text/plain": [
       "[<matplotlib.lines.Line2D at 0x199c4af6710>]"
      ]
     },
     "execution_count": 21,
     "metadata": {},
     "output_type": "execute_result"
    },
    {
     "data": {
      "text/plain": [
       "Text(0.5, 0, 'X')"
      ]
     },
     "execution_count": 21,
     "metadata": {},
     "output_type": "execute_result"
    },
    {
     "data": {
      "text/plain": [
       "(-2, 2)"
      ]
     },
     "execution_count": 21,
     "metadata": {},
     "output_type": "execute_result"
    },
    {
     "data": {
      "text/plain": [
       "(0.1, 0.6)"
      ]
     },
     "execution_count": 21,
     "metadata": {},
     "output_type": "execute_result"
    },
    {
     "data": {
      "text/plain": [
       "Text(0, 0.5, 'Y')"
      ]
     },
     "execution_count": 21,
     "metadata": {},
     "output_type": "execute_result"
    },
    {
     "data": {
      "text/plain": [
       "<matplotlib.legend.Legend at 0x199c4cb7fd0>"
      ]
     },
     "execution_count": 21,
     "metadata": {},
     "output_type": "execute_result"
    },
    {
     "data": {
      "image/png": "[encoded data removed]",
      "text/plain": [
       "<Figure size 432x288 with 1 Axes>"
      ]
     },
     "metadata": {
      "needs_background": "light"
     },
     "output_type": "display_data"
    },
    {
     "name": "stdout",
     "output_type": "stream",
     "text": [
      "15 [0.09991835] [0.40101442] 0.0025381045\n"
     ]
    },
    {
     "data": {
      "text/plain": [
       "[<matplotlib.lines.Line2D at 0x199c5cf8f28>]"
      ]
     },
     "execution_count": 21,
     "metadata": {},
     "output_type": "execute_result"
    },
    {
     "data": {
      "text/plain": [
       "[<matplotlib.lines.Line2D at 0x199c5cd1dd8>]"
      ]
     },
     "execution_count": 21,
     "metadata": {},
     "output_type": "execute_result"
    },
    {
     "data": {
      "text/plain": [
       "Text(0.5, 0, 'X')"
      ]
     },
     "execution_count": 21,
     "metadata": {},
     "output_type": "execute_result"
    },
    {
     "data": {
      "text/plain": [
       "(-2, 2)"
      ]
     },
     "execution_count": 21,
     "metadata": {},
     "output_type": "execute_result"
    },
    {
     "data": {
      "text/plain": [
       "(0.1, 0.6)"
      ]
     },
     "execution_count": 21,
     "metadata": {},
     "output_type": "execute_result"
    },
    {
     "data": {
      "text/plain": [
       "Text(0, 0.5, 'Y')"
      ]
     },
     "execution_count": 21,
     "metadata": {},
     "output_type": "execute_result"
    },
    {
     "data": {
      "text/plain": [
       "<matplotlib.legend.Legend at 0x199c5d03908>"
      ]
     },
     "execution_count": 21,
     "metadata": {},
     "output_type": "execute_result"
    },
    {
     "data": {
      "image/png": "[encoded data removed]",
      "text/plain": [
       "<Figure size 432x288 with 1 Axes>"
      ]
     },
     "metadata": {
      "needs_background": "light"
     },
     "output_type": "display_data"
    }
   ],
   "source": [
    "# Refined code for more complete analysis\n",
    "\n",
    "import tensorflow as tf\n",
    "import numpy as np\n",
    "import matplotlib.pyplot as plt\n",
    "\n",
    "#tf.name_scope organize things on the tensorboard graph view\n",
    "\n",
    "with tf.name_scope(\"LinearRegression\") as scope:\n",
    "    W = tf.Variable(tf.random_uniform([1], -1.0, 1.0), name=\"Weights\")\n",
    "    b = tf.Variable(tf.zeros([1]))\n",
    "    y = W * x_data + b\n",
    "    \n",
    "# Define a loss function that takes into account the distance between the prediction and our dataset\n",
    "\n",
    "with tf.name_scope(\"LossFunction\") as scope:\n",
    "    loss = tf.reduce_mean(tf.square(y - y_data))\n",
    "    optimizer = tf.train.GradientDescentOptimizer(0.6)\n",
    "    train = optimizer.minimize(loss)\n",
    "\n",
    "# Annotate loss, weights, and bias (Needed for tensorboard)\n",
    "\n",
    "loss_summary = tf.summary.scalar(\"loss\", loss)\n",
    "w_ = tf.summary.histogram(\"W\", W)\n",
    "b_ = tf.summary.histogram(\"b\", b)\n",
    "\n",
    "# Merge all the summaries\n",
    "\n",
    "merged_op = tf.summary.merge_all()\n",
    "init = tf.global_variables_initializer()\n",
    "sess = tf.Session()\n",
    "sess.run(init)\n",
    "\n",
    "# Writer for TensorBoard (replace with our preferred location\n",
    "# writer_tensorboard = tf.summary.FileWriter('/ LR/', sess.graph_def)\n",
    "\n",
    "for i in range(16):\n",
    "    sess.run(train)\n",
    "    # printing and plotting first (0) and last(15) runs to see\n",
    "    # shift in linear fit\n",
    "    if i == 0 or i == 15:\n",
    "        print(i, sess.run(W), sess.run(b), sess.run(loss))\n",
    "        plt.plot(x_data, y_data, 'ro', label='Original data')\n",
    "        plt.plot(x_data, sess.run(W)*x_data + sess.run(b))\n",
    "        plt.xlabel('X')\n",
    "        plt.xlim(-2, 2)\n",
    "        plt.ylim(0.1, 0.6)\n",
    "        plt.ylabel('Y')\n",
    "        plt.legend()\n",
    "        plt.show()\n",
    "\n",
    "# Finally, close the TensorFlow session when you're done\n",
    "sess.close()"
   ]
  },
  {
   "cell_type": "markdown",
   "metadata": {},
   "source": [
    "<h4>Summary Notes</h4>\n",
    "\n",
    "TensorFlow is designed to make the predictive analytics through the machine and deep learning easy for everyone, but using it does require understanding some general principles and algorithms. In summary, here is a brief recap of the key concepts of TensorFlow explained in this chapter:\n",
    "\n",
    "<ul>\n",
    "    <li>Graph: each TensorFlow computation can be represented as a set of dataflow graphs where each graph is built as a set of operation objects. There are three\n",
    "core graph data structures:\n",
    "    <ol>\n",
    "        <li>tf.Graph</li>\n",
    "        <li>tf.Operation</li>\n",
    "        <li>tf.Tensor</li>\n",
    "    </ol>\n",
    "    </li>\n",
    "    <li>Operation: A graph node takes tensors as input and also produces a tensor\n",
    "as output. A node can be represented by an operation object for performing\n",
    "units of computations such as addition, multiplication, division, subtraction\n",
    "or more complex operation.</li>\n",
    "    <li>Tensor: Tensors are like high-dimensional array objects. In other words, they\n",
    "can be represented as edges of a dataflow graph but still they don't hold any\n",
    "value produced out of an operations.</li>\n",
    "    <li>Session: A session object is an entity that encapsulates the environment\n",
    "in which operation objects are executed for running calculations on the\n",
    "dataflow graph. As a result, the tensors objects are evaluated inside the\n",
    "run() or eval() invocation</li>\n",
    "</ul>\n"
   ]
  },
  {
   "cell_type": "markdown",
   "metadata": {},
   "source": [
    "<H3>Chapter 7: Using Deep Neural Networks for Predictive Analytics</H3>\n",
    "\n",
    "Artificial Neural Networks (ANNs) are at the very core of deep learning (DL). They are versatile, powerful, and scalable, making them ideal to tackle large and highly complex Machine Learning (ML) tasks by stacking multiple ANNs together. These multiple stacked ANNs are called Deep Neural Networks (DNNs). Using these, we can build very robust and accurate predictive models for predictive analytics.\n",
    "\n",
    "<H4>General Topics:</H4>\n",
    "    \n",
    "<ul>\n",
    "    <li>Deep learning in the big data era</li>\n",
    "    <li>Deep Neural Networks</li>\n",
    "    <li>DNN Architectures</li>\n",
    "    <li>Multilayer perceptron</li>\n",
    "    <li>Using multilayer perceptron for predictive analytics</li>\n",
    "</ul>\n",
    "\n",
    "Note: other topics are covered but not included in these notes:\n",
    "\n",
    "<H4>Deep Learning for Better Predictive Analytics</H4>\n",
    "\n",
    "Simple machine learning methods that were used in normal sized data analysis won't be effective anymore and should be ubstituted by DNN learning methods. Although classical machine learning techniques allow researchers to identify groups\n",
    "or clusters of related variables, the accuracy and effectiveness of these methods diminishes for large and high–dimensional datasets, such as whole human genomes.\n",
    "\n",
    "On the other hand, deep learning can make better representations of large–scale datasets to build models to learn these representations very extensively. DL is a branch of ML based on a set of algorithms that attempt to model high-level\n",
    "abstractions in data.\n",
    "\n",
    "Machine learning versus deep learning\n",
    "<ul>\n",
    "    <li>Data dependencies: Deep learning algorithms don't perform that well with small amount data.</li>\n",
    "    <li>Hardware dependencies: Deep learning algorithms heavily depend on high-end machines with GPU, especially when lots of scientific computing and precision is important.</li>\n",
    "    <li>Feature engineering: Deep learning algorithms learn high-level features from data rather than from handcrafted features.</li>\n",
    "    <li>Problem solving approach: Deep learning advocates to solve the problem end-to-end.</li>\n",
    "    <li>Execution time: A deep learning algorithm with so many parameters and features takes a long time to train.</li>\n",
    "</ul>\n",
    "\n",
    "<h4>Artificial Neural Networks</h4>\n",
    "\n",
    "Biological neurons inspired artificial neural networks (ANNs). The perceptron is one of the simplest ANN architectures, called a linear threshold unit (LTU).  In ANNs the inputs are now numbers and each input connection is associated with a weight. The LTU computes a weighted sum of its inputs.\n",
    "\n",
    "z = w1x1 + w2x2 + ... +wnxn = WT * X  (where WT is the transpose of W)\n",
    "\n",
    "This then apoplies a step function to that sum and outputs the result hw(z) = step (z) = step(WT.X)\n",
    "\n",
    "Similar to logistic regression, or 'Support Vector Machines' (SVMs), a single LTU can be used for simple linear and binary classification. It computes a linear combination of the inputs and if the result exceeds a threshold, it outputs the positive class or else outputs the negative class. However, training an LTU is not an easy job, but training such a simple model means finding the right values for w0, w1, and w2. \n",
    "\n",
    "A perceptron is simply composed of a single layer of LTUs, with each neuron connected to all the inputs. These connections are often represented using special pass–through neurons called 'input neurons': they just output whatever input they are fed. Moreover, an extra bias feature is generally added (x0 = 1). This bias feature\n",
    "is typically represented using a special type of neuron called a 'bias neuron', which just outputs 1 all the time.\n",
    "\n",
    "Since the decision boundary of each output neuron is linear, perceptrons are incapable of learning complex patterns. However, if the training instances are linearly separable, research has shown that this algorithm will converge to a solution called \"perceptron convergence theorem.\"\n",
    "\n",
    "<h4>Deep Neural Networks</h4>\n",
    "\n",
    "Deep learning is a term to differentiate an artificial neural network of multiple hidden layers from the simpler neural network that only consists of a small number of layers. Each layer consists of a certain number of neurons shown asvcircles, which correspond to certain types of activation functions, such as identity or logistic functions. In short an ANN with two or more hidden layers is called a DNN.\n",
    "\n",
    "<h4>DNN Architectures</h4>\n",
    "\n",
    "The basic structure of DNNs consists of an input layer, multiple hidden layers, and an output layer. Once the input data is given to the DNNs, output values are computed sequentially along the layers of the network. At each layer, the input vector comprising the output values of each unit in the layer below is multiplied by the weight vector for each unit in the current layer to produce the weighted sum. Then, a nonlinear function, such as a sigmoid, hyperbolic tangent, or 'rectified linear unit (ReLU)', is applied to the weighted sum to compute the output values of the layer.\n",
    "\n",
    "The computation in each layer transforms the representations in the layer below into slightly more abstract representations. Based on the types of layers used in DNNs and the corresponding learning method, DNNs can be classified as multilayer\n",
    "perceptrons, which are based on feedforward neural network (FFNN), Staked Auto-Encoders (SAEs), or deep belief networks.\n",
    "\n",
    "An MLP has a similar structure to the usual neural networks but includes more stacked layers. It is trained in a purely supervised manner that uses only labeled data. Since the training method is a process of optimization in high–dimensional\n",
    "parameter space, DMLP is typically used when a large number of labeled data are available.\n",
    "\n",
    "SAE and DBN use AEs and RBMs as building blocks of the architectures, respectively. The main difference between these and MLPs is that training is executed in two phases: unsupervised pretraining and supervised fine-tuning.\n",
    "\n",
    "<h4>Multilayered Perceptrons (MLP)</h4>\n",
    "\n",
    "A multilayer perceptron is a feedforward neural network, which means that it is the only connection between neurons from different layers. More specifically, an MLP is composed of one (pass through) input layer, one or more layers of LTUs, called\n",
    "'hidden layers', and one final layer of LTUs called the output layer. Every layer except the output layer includes a bias neuron and is connected to the next layer as a fully connected bipartite graph.\n",
    "\n",
    "<h4>Training an MLP</h4>\n",
    "\n",
    "An MLP was trained successfully using the back propagation training algorithm for the first time in 1986. However, nowadays the optimized version of this algorithm is called gradient descent (using reverse mode auto diff). \n",
    "\n",
    "During the training phase, for each training instance, the algorithm feeds it to the network and computes the output of every neuron in each consecutive layer.\n",
    "\n",
    "Then it measures the network's output error, and it computes how much each neuron in the last hidden layer contributed to each output neuron's error. \n",
    "\n",
    "It then proceeds to measure how much of these error contributions came from each neuron in the previously hidden layer, and so on, until the algorithm reaches the input layer. This reverse pass efficiently measures the error gradient across all the connection weights in the network by propagating the error gradient backward in the network.\n",
    "\n",
    "More technically, the calculation of the gradient of the cost function for each layer is done by the 'back propagation method'. The idea of gradient descent is to have a cost function that shows the difference between the predicted outputs of some neural\n",
    "network with the actual output.\n",
    "\n",
    "There are several known types of the cost function, such as the squared error function and the log-likelihood function, and the choice for this cost function can be based on many factors. The gradient descent method optimizes the network's weight by minimizing this cost function, and the steps are as follows: \n",
    "\n",
    "<ul>\n",
    "    <li>Weight initialization</li>\n",
    "    <li>Calculation of neural networks predicted output (forward propogation step)</li>\n",
    "    <li>Calculation of cost/loss function; some common cost/loss functions include the log-likelihood function and squared error function</li>\n",
    "    <li>Weight update based on the current weight and the gradient of the cost/loss function</li>\n",
    "    <li>Iteration of steps 2-5 until the cost function reaches a certain threshold or after a certain amount of iteration</li>\n",
    "</ul>\n",
    "\n",
    "<h4>Using MLPs</h4>\n",
    "\n",
    "An MLP is a supervised neural network that is commonly used for classification and regression problems, although its implementation in image and video data has been gradually replaced by Convolutional Neural Networks. Using MLPs, both the binary and multiclass classification problems can be solved.\n",
    "\n",
    "However, for multiclass classification task and training, the output layer is typically modified by replacing the individual activation functions by a shared softmax function. The output of each neuron corresponds to the estimated probability of the corresponding class. Note that the signal flows only from the input to output but in one direction, so this architecture is an example of a FFNN.\n",
    "\n",
    "One important concept that is essential to know and try tuning is the hyperparameters in DNNs, which is not straightforward but needs extensive research.\n",
    "\n",
    "<h4>DNN Performance Analysis</h4>\n",
    "\n",
    "For classification problems, performance can be measured via a confusion matrix.  Take prediction of cancer (yes, no or 1,0). Based on comparison of predicted versus labeled value, the results could be:\n",
    "\n",
    "Actual, Predicted, Outcome\n",
    "yes, yes - true positive (TP)\n",
    "yes, no - false negative (FN)\n",
    "no, yes - false positive (FP)\n",
    "no, no - true negative (TN)\n",
    "\n",
    "Measures\n",
    "\n",
    "Accuracy = (TP+TN)/(TP+FP+FN+TN) = correct predictions out of total predictions\n",
    "Precision = TP/(TP+FP) = correct positives out of total positive predictions\n",
    "Recall = TP/(TP+FN) = correct predicted positives out of actual positives\n",
    "F1 = harmonic mean of precision and recall = 2 x (Precision X Recall)/ (Precision + Recall)\n",
    "\n",
    "For regression, most common metric is 'root mean squared error (RMSE)' and the 'coefficient of determination R2 Score.'\n",
    "\n",
    "RMSE = sqrt((sum(y_pred-y_actual)^2)/n)\n",
    "\n",
    "r2 = 1 - (sum(y_actual-y_predicted)^2)/(sum(y_actual-y_mean)^2)\n",
    "\n",
    "Main difference is that R2 is scaled between 0 and 1, while RMSE isn't.\n",
    "\n",
    "<h4>Fine-Tuning DNN Hyperparameters</h4>\n",
    "\n",
    "The flexibility of neural networks is also one of their main drawbacks: there are many hyperparameters to tweak. Even in a simple MLP you can change the number of layers, the number of neurons per layer, the type of activation function to use in\n",
    "each layer, the weight initialization logic, dropout keep probability, and so on.\n",
    "\n",
    "How do you know what combination of hyperparameters is the best for your task? For the DNNs there are many hyperparameters to tune, and since training a neural network on a large dataset takes a lot of time, you will only be able to explore a tiny part of the hyperparameter space in a reasonable amount of time. Here are some insights that can be followed.\n",
    "\n",
    "<ul>\n",
    "    <li>Number of hidden layers: for many problems, you can start with just one or two hidden layers, and it will\n",
    "work just fine using two hidden layers with the same total amount of neurons in roughly the same amount of training time.\n",
    "For more complex problems, you can gradually ramp up the number of hidden layers until you start overfitting the training set. </li>\n",
    "    <li>Number of neurons per hidden layer: The of neurons in the input and output layer is determined by the type of input and output your task requires. Just like the number of layers,you can try increasing the number of neurons gradually until the network starts overfitting.</li>\n",
    "    <li>Activation functions: In most cases you can use the ReLU activation function in the hidden layers. For output layer the softmax activation function is generally good choice for classification tasks. For regression you ca simply use no activation function at all.</li>\n",
    "    <li>Weight and biases initialization:\n",
    "        <ul>\n",
    "            <li>Do not do all zero initialization.</li>\n",
    "            <li>Small random numbers: It is also possible to initialize the weights of the neurons to small numbers but not identically zero. Alternatively, it is also possible to use small numbers drawn from a uniform distribution.</li>\n",
    "            <li>Initializing the biases: It is possible and common to initialize the biases to be zero since the asymmetry breaking is provided by the small random numbers in the weights. Setting the biases to a small constant value such as 0.01 for all biases ensures that all ReLU units can propagate some gradient. However, it neither performs well nor does consistent improvements. Therefore, sticking with zero is recommended.</li>\n",
    "        </ul>\n",
    "    <li>Regularization\n",
    "        <ul>\n",
    "            <li>L2 Regularization: probably the most common form of regularization. Using the gradient descent parameter update, L2 regularization signifies that every weight will be decayed linearly towards zero.</li>\n",
    "            <li>L1 Regularization: For each weight w we add the term λ/w/ to the objective. However, it is also possible to combine L1 and L2 regularization to achieve elastic net regularization.</li>\n",
    "            <li>Max-norm Constraints: Issued to enforce an absolute upper boundary on the magnitude of the weight vector for each hidden layer neuron. Projected gradient descent is then can be used further to enforce the constraint.</li>\n",
    "            <li>Dropout: While working with DNNs, we need another placeholder for dropout, which is a hyperparameter to be tuned and the training time but not the test time. It is implemented by only keeping a neuron active with some probability say p less than 1.0, or setting it to zero otherwise. The idea is to use a single neural net at test time without dropout. The weights of this network are scaled-down versions of the trained weights. If a unit is retained with dropout_keep_prob less than 1.0 during training, the outgoing weights of that unit are multiplied by p at test time.</li>\n",
    "</ul>\n",
    "\n",
    "<h4>Overall Workflow</h4>\n",
    "        \n",
    "<ol>\n",
    "    <li>Start</li>\n",
    "    <li>Data Preprocessing</li>\n",
    "    <li>Design Neural Network</li>\n",
    "    <li>Train Neural Network</li>\n",
    "    <li>Test and Analyze Neural Network</li>\n",
    "    <li>Is Performance Satisfying?</li>\n",
    "    <li>No -- Update Hyperparameters</li>\n",
    "    <li>Yes -- End</li>\n",
    "</ol>\n",
    "        \n",
    "\n",
    "<h4>Using MLPs for Predictive analytics</h4>\n",
    "\n",
    "Example: Bank Marketing Datasets\n",
    "        \n",
    "The data is related to direct marketing campaigns of a Portuguese banking institution. The marketing campaigns were based on phone calls. Often, more than one contact to the same client was required, in order to assess whether the product (bank term deposit) would be (\"yes\") or would not be (\"no\") subscribed. The target is to use MLP to predict whether the client will subscribe a term deposit (variable y)—that is, a binary classification problem.\n",
    "\n",
    "Dataset Description\n",
    "\n",
    "There are two sources that I would like to acknowledge. This dataset was used in a research paper published by Moro et al, A Data-Driven Approach to Predict the Success of Bank Telemarketing, Decision Support Systems, Elsevier, June 2014. Later on, it was donated to the UCI Machine Learning repository that can be downloaded from\n",
    "        \n",
    "        https://archive.ics.uci.edu/ml/datasets/bank+marketing.\n",
    "        \n",
    "According to the dataset description, there are four datasets. The first is the complete set:\n",
    "        \n",
    "bank-additional-full.csv: This includes all examples (41188) and 20 inputs, ordered by date (from May 2008 to November 2010), very close to the data analyzed in [Moro et al., 2014]\n",
    "        \n",
    "There are 21 attributes in the dataset. The independent variables, that is, features can be further categorized as bank client related data (attributes 1 to 7), related to the last contact with the current campaign (attributes 8 to 11), other attributes (attributes 12 to 15), and social and economic context attributes (attributes 16 to 20). The dependent variable is specified by y, the last attribute (21). Included: age, marital, educatioin, default (credit), housing, loan, contact, month, day_of_week, duration, campaign (number of contacts), pdays, previous, poutcome, emp_var_rate, cons_price_indx, cons_conf_indx, euribor3m, nr_employed, y (client subscribed to a term deposit).\n",
    "        \n"
   ]
  },
  {
   "cell_type": "code",
   "execution_count": 22,
   "metadata": {
    "scrolled": true
   },
   "outputs": [
    {
     "name": "stdout",
     "output_type": "stream",
     "text": [
      "        age  campaign  pdays  previous  emp.var.rate  cons.price.idx  \\\n",
      "0  0.481481       0.0    1.0       0.0        0.9375        0.698753   \n",
      "1  0.493827       0.0    1.0       0.0        0.9375        0.698753   \n",
      "2  0.246914       0.0    1.0       0.0        0.9375        0.698753   \n",
      "3  0.283951       0.0    1.0       0.0        0.9375        0.698753   \n",
      "4  0.481481       0.0    1.0       0.0        0.9375        0.698753   \n",
      "\n",
      "   cons.conf.idx  euribor3m  nr.employed  admin.  ...  3322  3366  3422  3509  \\\n",
      "0        0.60251   0.957379     0.859735       0  ...     0     0     0     0   \n",
      "1        0.60251   0.957379     0.859735       0  ...     0     0     0     0   \n",
      "2        0.60251   0.957379     0.859735       0  ...     0     0     0     0   \n",
      "3        0.60251   0.957379     0.859735       1  ...     0     0     0     0   \n",
      "4        0.60251   0.957379     0.859735       0  ...     0     0     0     0   \n",
      "\n",
      "   3631  3643  3785  4199  4918  y  \n",
      "0     0     0     0     0     0  0  \n",
      "1     0     0     0     0     0  0  \n",
      "2     0     0     0     0     0  0  \n",
      "3     0     0     0     0     0  0  \n",
      "4     0     0     0     0     0  0  \n",
      "\n",
      "[5 rows x 1607 columns]\n"
     ]
    }
   ],
   "source": [
    "# Preprocessing - mix of categorical and numerical values. Also, outcome is categorical.\n",
    "# Need to convert them to numerical\n",
    "\n",
    "import pandas as pd\n",
    "import numpy as np\n",
    "from sklearn import preprocessing\n",
    "\n",
    "# Load data\n",
    "data = pd.read_csv('bank-additional-full.csv', sep = \",\")\n",
    "# Variables names\n",
    "var_names = data.columns.tolist()\n",
    "\n",
    "# Categorical vars\n",
    "categs = ['job','marital','education','default','housing','loan','contact','month','day_of_week','duration','poutcome','y']\n",
    "# Quantitative vars\n",
    "quantit = [i for i in var_names if i not in categs]\n",
    "\n",
    "# Get dummy variables for categorical vars\n",
    "job = pd.get_dummies(data['job'])\n",
    "marital = pd.get_dummies(data['marital'])\n",
    "education = pd.get_dummies(data['education'])\n",
    "default = pd.get_dummies(data['default'])\n",
    "housing = pd.get_dummies(data['housing'])\n",
    "loan = pd.get_dummies(data['loan'])\n",
    "contact = pd.get_dummies(data['contact'])\n",
    "month = pd.get_dummies(data['month'])\n",
    "day = pd.get_dummies(data['day_of_week'])\n",
    "duration = pd.get_dummies(data['duration'])\n",
    "poutcome = pd.get_dummies(data['poutcome'])\n",
    "\n",
    "# Map variable to predict\n",
    "dict_map = dict()\n",
    "y_map = {'yes':1,'no':0}\n",
    "dict_map['y'] = y_map\n",
    "data = data.replace(dict_map)\n",
    "label = data['y']\n",
    "\n",
    "df_numerical = data[quantit]\n",
    "df_names = df_numerical .keys().tolist()\n",
    "\n",
    "# Scale quantitative variables\n",
    "min_max_scaler = preprocessing.MinMaxScaler()\n",
    "x_scaled = min_max_scaler.fit_transform(df_numerical)\n",
    "df_temp = pd.DataFrame(x_scaled)\n",
    "df_temp.columns = df_names\n",
    "\n",
    "# Get final df\n",
    "normalized_df = pd.concat([df_temp,\n",
    "                      job,\n",
    "                      marital,\n",
    "                      education,\n",
    "                      default,\n",
    "                      housing,\n",
    "                      loan,\n",
    "                      contact,\n",
    "                      month,\n",
    "                      day,\n",
    "                      poutcome,\n",
    "                      duration, \n",
    "                      label], axis=1)\n",
    "\n",
    "# Quick check\n",
    "print(normalized_df.head())\n",
    "\n",
    "# Save df\n",
    "normalized_df.to_csv('bank_normalized.csv', index = False)"
   ]
  },
  {
   "cell_type": "code",
   "execution_count": 23,
   "metadata": {},
   "outputs": [
    {
     "name": "stdout",
     "output_type": "stream",
     "text": [
      "Raw data loaded successfully...\n",
      "\n"
     ]
    }
   ],
   "source": [
    "# TensorFlow implementation of MLP\n",
    "# required packages and data read of bank_normalized.csv\n",
    "\n",
    "import tensorflow as tf\n",
    "import pandas as pd\n",
    "import numpy as np\n",
    "import os\n",
    "#decremented from sklearn.cross_validation import train_test_split\n",
    "from sklearn.model_selection import train_test_split\n",
    "\n",
    "#import warnings\n",
    "#from tensorflow.python.framework import ops\n",
    "\n",
    "\n",
    "#warnings.filterwarnings(\"ignore\")\n",
    "#os.environ['TF_CPP_MIN_LOG_LEVEL'] = '3'\n",
    "#ops.reset_default_graph()\n",
    "\n",
    "FILE_PATH = 'bank_normalized.csv'\t                            # Path to .csv dataset\n",
    "raw_data = pd.read_csv(FILE_PATH)\t\t\t\t\t    # Open raw .csv\n",
    "\n",
    "print(\"Raw data loaded successfully...\\n\")\n"
   ]
  },
  {
   "cell_type": "code",
   "execution_count": 24,
   "metadata": {},
   "outputs": [
    {
     "data": {
      "text/plain": [
       "(41188, 1607)"
      ]
     },
     "execution_count": 24,
     "metadata": {},
     "output_type": "execute_result"
    },
    {
     "name": "stdout",
     "output_type": "stream",
     "text": [
      "<class 'pandas.core.frame.DataFrame'>\n",
      "RangeIndex: 41188 entries, 0 to 41187\n",
      "Columns: 1607 entries, age to y\n",
      "dtypes: float64(9), int64(1598)\n",
      "memory usage: 505.0 MB\n"
     ]
    },
    {
     "data": {
      "text/html": [
       "<div>\n",
       "<style scoped>\n",
       "    .dataframe tbody tr th:only-of-type {\n",
       "        vertical-align: middle;\n",
       "    }\n",
       "\n",
       "    .dataframe tbody tr th {\n",
       "        vertical-align: top;\n",
       "    }\n",
       "\n",
       "    .dataframe thead th {\n",
       "        text-align: right;\n",
       "    }\n",
       "</style>\n",
       "<table border=\"1\" class=\"dataframe\">\n",
       "  <thead>\n",
       "    <tr style=\"text-align: right;\">\n",
       "      <th></th>\n",
       "      <th>age</th>\n",
       "      <th>campaign</th>\n",
       "      <th>pdays</th>\n",
       "      <th>previous</th>\n",
       "      <th>emp.var.rate</th>\n",
       "      <th>cons.price.idx</th>\n",
       "      <th>cons.conf.idx</th>\n",
       "      <th>euribor3m</th>\n",
       "      <th>nr.employed</th>\n",
       "      <th>admin.</th>\n",
       "      <th>...</th>\n",
       "      <th>3322</th>\n",
       "      <th>3366</th>\n",
       "      <th>3422</th>\n",
       "      <th>3509</th>\n",
       "      <th>3631</th>\n",
       "      <th>3643</th>\n",
       "      <th>3785</th>\n",
       "      <th>4199</th>\n",
       "      <th>4918</th>\n",
       "      <th>y</th>\n",
       "    </tr>\n",
       "  </thead>\n",
       "  <tbody>\n",
       "    <tr>\n",
       "      <th>0</th>\n",
       "      <td>0.481481</td>\n",
       "      <td>0.0</td>\n",
       "      <td>1.0</td>\n",
       "      <td>0.0</td>\n",
       "      <td>0.9375</td>\n",
       "      <td>0.698753</td>\n",
       "      <td>0.60251</td>\n",
       "      <td>0.957379</td>\n",
       "      <td>0.859735</td>\n",
       "      <td>0</td>\n",
       "      <td>...</td>\n",
       "      <td>0</td>\n",
       "      <td>0</td>\n",
       "      <td>0</td>\n",
       "      <td>0</td>\n",
       "      <td>0</td>\n",
       "      <td>0</td>\n",
       "      <td>0</td>\n",
       "      <td>0</td>\n",
       "      <td>0</td>\n",
       "      <td>0</td>\n",
       "    </tr>\n",
       "    <tr>\n",
       "      <th>1</th>\n",
       "      <td>0.493827</td>\n",
       "      <td>0.0</td>\n",
       "      <td>1.0</td>\n",
       "      <td>0.0</td>\n",
       "      <td>0.9375</td>\n",
       "      <td>0.698753</td>\n",
       "      <td>0.60251</td>\n",
       "      <td>0.957379</td>\n",
       "      <td>0.859735</td>\n",
       "      <td>0</td>\n",
       "      <td>...</td>\n",
       "      <td>0</td>\n",
       "      <td>0</td>\n",
       "      <td>0</td>\n",
       "      <td>0</td>\n",
       "      <td>0</td>\n",
       "      <td>0</td>\n",
       "      <td>0</td>\n",
       "      <td>0</td>\n",
       "      <td>0</td>\n",
       "      <td>0</td>\n",
       "    </tr>\n",
       "    <tr>\n",
       "      <th>2</th>\n",
       "      <td>0.246914</td>\n",
       "      <td>0.0</td>\n",
       "      <td>1.0</td>\n",
       "      <td>0.0</td>\n",
       "      <td>0.9375</td>\n",
       "      <td>0.698753</td>\n",
       "      <td>0.60251</td>\n",
       "      <td>0.957379</td>\n",
       "      <td>0.859735</td>\n",
       "      <td>0</td>\n",
       "      <td>...</td>\n",
       "      <td>0</td>\n",
       "      <td>0</td>\n",
       "      <td>0</td>\n",
       "      <td>0</td>\n",
       "      <td>0</td>\n",
       "      <td>0</td>\n",
       "      <td>0</td>\n",
       "      <td>0</td>\n",
       "      <td>0</td>\n",
       "      <td>0</td>\n",
       "    </tr>\n",
       "    <tr>\n",
       "      <th>3</th>\n",
       "      <td>0.283951</td>\n",
       "      <td>0.0</td>\n",
       "      <td>1.0</td>\n",
       "      <td>0.0</td>\n",
       "      <td>0.9375</td>\n",
       "      <td>0.698753</td>\n",
       "      <td>0.60251</td>\n",
       "      <td>0.957379</td>\n",
       "      <td>0.859735</td>\n",
       "      <td>1</td>\n",
       "      <td>...</td>\n",
       "      <td>0</td>\n",
       "      <td>0</td>\n",
       "      <td>0</td>\n",
       "      <td>0</td>\n",
       "      <td>0</td>\n",
       "      <td>0</td>\n",
       "      <td>0</td>\n",
       "      <td>0</td>\n",
       "      <td>0</td>\n",
       "      <td>0</td>\n",
       "    </tr>\n",
       "    <tr>\n",
       "      <th>4</th>\n",
       "      <td>0.481481</td>\n",
       "      <td>0.0</td>\n",
       "      <td>1.0</td>\n",
       "      <td>0.0</td>\n",
       "      <td>0.9375</td>\n",
       "      <td>0.698753</td>\n",
       "      <td>0.60251</td>\n",
       "      <td>0.957379</td>\n",
       "      <td>0.859735</td>\n",
       "      <td>0</td>\n",
       "      <td>...</td>\n",
       "      <td>0</td>\n",
       "      <td>0</td>\n",
       "      <td>0</td>\n",
       "      <td>0</td>\n",
       "      <td>0</td>\n",
       "      <td>0</td>\n",
       "      <td>0</td>\n",
       "      <td>0</td>\n",
       "      <td>0</td>\n",
       "      <td>0</td>\n",
       "    </tr>\n",
       "  </tbody>\n",
       "</table>\n",
       "<p>5 rows × 1607 columns</p>\n",
       "</div>"
      ],
      "text/plain": [
       "        age  campaign  pdays  previous  emp.var.rate  cons.price.idx  \\\n",
       "0  0.481481       0.0    1.0       0.0        0.9375        0.698753   \n",
       "1  0.493827       0.0    1.0       0.0        0.9375        0.698753   \n",
       "2  0.246914       0.0    1.0       0.0        0.9375        0.698753   \n",
       "3  0.283951       0.0    1.0       0.0        0.9375        0.698753   \n",
       "4  0.481481       0.0    1.0       0.0        0.9375        0.698753   \n",
       "\n",
       "   cons.conf.idx  euribor3m  nr.employed  admin.  ...  3322  3366  3422  3509  \\\n",
       "0        0.60251   0.957379     0.859735       0  ...     0     0     0     0   \n",
       "1        0.60251   0.957379     0.859735       0  ...     0     0     0     0   \n",
       "2        0.60251   0.957379     0.859735       0  ...     0     0     0     0   \n",
       "3        0.60251   0.957379     0.859735       1  ...     0     0     0     0   \n",
       "4        0.60251   0.957379     0.859735       0  ...     0     0     0     0   \n",
       "\n",
       "   3631  3643  3785  4199  4918  y  \n",
       "0     0     0     0     0     0  0  \n",
       "1     0     0     0     0     0  0  \n",
       "2     0     0     0     0     0  0  \n",
       "3     0     0     0     0     0  0  \n",
       "4     0     0     0     0     0  0  \n",
       "\n",
       "[5 rows x 1607 columns]"
      ]
     },
     "execution_count": 24,
     "metadata": {},
     "output_type": "execute_result"
    }
   ],
   "source": [
    "# check raw_data\n",
    "raw_data.shape\n",
    "raw_data.info()\n",
    "raw_data.head()"
   ]
  },
  {
   "cell_type": "code",
   "execution_count": 25,
   "metadata": {},
   "outputs": [
    {
     "name": "stdout",
     "output_type": "stream",
     "text": [
      "Variables loaded successfully...\n",
      "\n",
      "Number of predictors \t1606\n",
      "Number of classes \t2\n",
      "Number of instances \t41188\n",
      "\n",
      "\n"
     ]
    }
   ],
   "source": [
    "# defining parameters for MLP\n",
    "\n",
    "Y_LABEL = 'y'                                   \t\t\t    # Name of the variable to be predicted\n",
    "KEYS = [i for i in raw_data.keys().tolist() if i != Y_LABEL]\t            # Name of predictors\n",
    "N_INSTANCES = raw_data.shape[0]                     \t\t\t    # Number of instances\n",
    "N_INPUT = raw_data.shape[1] - 1                     \t\t\t    # Input size\n",
    "N_CLASSES = raw_data[Y_LABEL].unique().shape[0]     \t\t\t    # Number of classes (output size)\n",
    "TEST_SIZE = 0.25                                    \t\t\t    # Test set size (% of dataset)\n",
    "TRAIN_SIZE = int(N_INSTANCES * (1 - TEST_SIZE))     \t\t\t    # Train size\n",
    "LEARNING_RATE = 0.001                               \t\t\t    # Learning rate\n",
    "TRAINING_EPOCHS = 100                             \t\t\t    # Number of epochs\n",
    "BATCH_SIZE = 100                                   \t\t\t    # Batch size\n",
    "DISPLAY_STEP = 20                                    \t\t\t    # Display progress each x epochs\n",
    "HIDDEN_SIZE = 256\t                                   \t\t    # Number of hidden neurons 256\n",
    "ACTIVATION_FUNCTION_OUT = tf.nn.tanh                                        # Last layer act fct\n",
    "STDDEV = 0.1                                        \t\t\t    # Standard deviation (for weights random init)\n",
    "RANDOM_STATE = 100\t\t\t\t\t\t            # Random state for train_test_split\n",
    "\n",
    "print(\"Variables loaded successfully...\\n\")\n",
    "print(\"Number of predictors \\t%s\" %(N_INPUT))\n",
    "print(\"Number of classes \\t%s\" %(N_CLASSES))\n",
    "print(\"Number of instances \\t%s\" %(N_INSTANCES))\n",
    "print(\"\\n\")   \n"
   ]
  },
  {
   "cell_type": "code",
   "execution_count": 26,
   "metadata": {},
   "outputs": [
    {
     "data": {
      "text/plain": [
       "pandas.core.frame.DataFrame"
      ]
     },
     "execution_count": 26,
     "metadata": {},
     "output_type": "execute_result"
    },
    {
     "data": {
      "text/plain": [
       "array([[0.48148148, 0.        , 1.        , ..., 0.        , 0.        ,\n",
       "        0.        ],\n",
       "       [0.49382716, 0.        , 1.        , ..., 0.        , 0.        ,\n",
       "        0.        ],\n",
       "       [0.24691358, 0.        , 1.        , ..., 0.        , 0.        ,\n",
       "        0.        ],\n",
       "       ...,\n",
       "       [0.48148148, 0.01818182, 1.        , ..., 0.        , 0.        ,\n",
       "        0.        ],\n",
       "       [0.33333333, 0.        , 1.        , ..., 0.        , 0.        ,\n",
       "        0.        ],\n",
       "       [0.7037037 , 0.03636364, 1.        , ..., 0.        , 0.        ,\n",
       "        0.        ]])"
      ]
     },
     "execution_count": 26,
     "metadata": {},
     "output_type": "execute_result"
    }
   ],
   "source": [
    "type(raw_data[KEYS])\n",
    "raw_data[KEYS].values"
   ]
  },
  {
   "cell_type": "code",
   "execution_count": 27,
   "metadata": {},
   "outputs": [
    {
     "name": "stdout",
     "output_type": "stream",
     "text": [
      "Data loaded and splitted successfully...\n",
      "\n"
     ]
    },
    {
     "data": {
      "text/plain": [
       "(30891, 1606)"
      ]
     },
     "execution_count": 27,
     "metadata": {},
     "output_type": "execute_result"
    },
    {
     "data": {
      "text/plain": [
       "(10297, 1606)"
      ]
     },
     "execution_count": 27,
     "metadata": {},
     "output_type": "execute_result"
    },
    {
     "data": {
      "text/plain": [
       "(30891, 2)"
      ]
     },
     "execution_count": 27,
     "metadata": {},
     "output_type": "execute_result"
    },
    {
     "data": {
      "text/plain": [
       "(10297, 2)"
      ]
     },
     "execution_count": 27,
     "metadata": {},
     "output_type": "execute_result"
    }
   ],
   "source": [
    "# define other key parameters prepare training and test sets\n",
    "\n",
    "# Load data\n",
    "data = raw_data[KEYS].values                  \t\t\t# X data\n",
    "labels = raw_data[Y_LABEL].values             \t\t\t# y data\n",
    "\n",
    "# One hot encoding for labels\n",
    "labels_ = np.zeros((N_INSTANCES, N_CLASSES))\n",
    "labels_[np.arange(N_INSTANCES), labels] = 1\n",
    "\n",
    "# Train-test split\n",
    "data_train, data_test, labels_train, labels_test = train_test_split(data,labels_,test_size = TEST_SIZE,random_state = RANDOM_STATE)\n",
    "\n",
    "print(\"Data loaded and splitted successfully...\\n\")\n",
    "\n",
    "data_train.shape\n",
    "data_test.shape\n",
    "labels_train.shape\n",
    "labels_test.shape"
   ]
  },
  {
   "cell_type": "code",
   "execution_count": 28,
   "metadata": {},
   "outputs": [],
   "source": [
    "# implement MLP with 4 hidden layers\n",
    "\n",
    "# Net params\n",
    "n_input = N_INPUT                   # input n labels\n",
    "n_hidden_1 = HIDDEN_SIZE            # 1st layer\n",
    "n_hidden_2 = HIDDEN_SIZE            # 2nd layer\n",
    "n_hidden_3 = HIDDEN_SIZE            # 3rd layer\n",
    "n_hidden_4 = HIDDEN_SIZE            # 4th layer\n",
    "n_classes = N_CLASSES               # output m classes\n",
    "\n",
    "# TensorFlow placeholders\n",
    "X = tf.placeholder(tf.float32, [None, n_input])\n",
    "y = tf.placeholder(tf.float32, [None, n_classes])\n",
    "dropout_keep_prob = tf.placeholder(tf.float32)\n"
   ]
  },
  {
   "cell_type": "code",
   "execution_count": 29,
   "metadata": {},
   "outputs": [],
   "source": [
    "def DeepMLPClassifier(_X, _weights, _biases, dropout_keep_prob):\n",
    "    layer1 = tf.nn.dropout(tf.nn.tanh(tf.add(tf.matmul(_X, _weights['h1']), _biases['b1'])), dropout_keep_prob)\n",
    "    layer2 = tf.nn.dropout(tf.nn.tanh(tf.add(tf.matmul(layer1, _weights['h2']), _biases['b2'])), dropout_keep_prob)\n",
    "    layer3 = tf.nn.dropout(tf.nn.tanh(tf.add(tf.matmul(layer2, _weights['h3']), _biases['b3'])), dropout_keep_prob)\n",
    "    layer4 = tf.nn.dropout(tf.nn.tanh(tf.add(tf.matmul(layer3, _weights['h4']), _biases['b4'])), dropout_keep_prob)\n",
    "    out = ACTIVATION_FUNCTION_OUT(tf.add(tf.matmul(layer4, _weights['out']), _biases['out']))\n",
    "    return out\n",
    "\n",
    "# Here are the dictionary of weights and biases of each layer\n",
    "weights = {\n",
    "    'h1': tf.Variable(tf.random_normal([n_input, n_hidden_1],stddev=STDDEV)),\n",
    "    'h2': tf.Variable(tf.random_normal([n_hidden_1, n_hidden_2],stddev=STDDEV)),\n",
    "    'h3': tf.Variable(tf.random_normal([n_hidden_2, n_hidden_3],stddev=STDDEV)),\n",
    "    'h4': tf.Variable(tf.random_normal([n_hidden_3, n_hidden_4],stddev=STDDEV)),\n",
    "    'out': tf.Variable(tf.random_normal([n_hidden_4, n_classes],stddev=STDDEV)),                                   \n",
    "}\n",
    "\n",
    "biases = {\n",
    "    'b1': tf.Variable(tf.random_normal([n_hidden_1])),\n",
    "    'b2': tf.Variable(tf.random_normal([n_hidden_2])),\n",
    "    'b3': tf.Variable(tf.random_normal([n_hidden_3])),\n",
    "    'b4': tf.Variable(tf.random_normal([n_hidden_4])),\n",
    "    'out': tf.Variable(tf.random_normal([n_classes]))\n",
    "}\n",
    "\n"
   ]
  },
  {
   "cell_type": "code",
   "execution_count": 30,
   "metadata": {},
   "outputs": [
    {
     "name": "stderr",
     "output_type": "stream",
     "text": [
      "WARNING: Logging before flag parsing goes to stderr.\n",
      "W0502 17:22:32.607280  8748 deprecation.py:506] From <ipython-input-29-32da55cb6f31>:2: calling dropout (from tensorflow.python.ops.nn_ops) with keep_prob is deprecated and will be removed in a future version.\n",
      "Instructions for updating:\n",
      "Please use `rate` instead of `keep_prob`. Rate should be set to `rate = 1 - keep_prob`.\n",
      "W0502 17:22:32.667124  8748 deprecation.py:323] From <ipython-input-30-4849d3f66aed>:5: softmax_cross_entropy_with_logits (from tensorflow.python.ops.nn_ops) is deprecated and will be removed in a future version.\n",
      "Instructions for updating:\n",
      "\n",
      "Future major versions of TensorFlow will allow gradients to flow\n",
      "into the labels input on backprop by default.\n",
      "\n",
      "See `tf.nn.softmax_cross_entropy_with_logits_v2`.\n",
      "\n"
     ]
    },
    {
     "name": "stdout",
     "output_type": "stream",
     "text": [
      "Deep MLP networks has been built successfully...\n",
      "Starting training...\n"
     ]
    }
   ],
   "source": [
    "# Build model\n",
    "pred = DeepMLPClassifier(X, weights, biases, dropout_keep_prob)\n",
    "\n",
    "# Loss and optimizer\n",
    "cost = tf.reduce_mean(tf.nn.softmax_cross_entropy_with_logits(logits=pred, labels=y)) # softmax loss\n",
    "optimizer = tf.train.AdamOptimizer(learning_rate = LEARNING_RATE).minimize(cost)\n",
    "\n",
    "# Accuracy\n",
    "correct_prediction = tf.equal(tf.argmax(pred, 1), tf.argmax(y, 1))\n",
    "accuracy = tf.reduce_mean(tf.cast(correct_prediction, tf.float32))\n",
    "                                    \n",
    "print(\"Deep MLP networks has been built successfully...\")\n",
    "print(\"Starting training...\")"
   ]
  },
  {
   "cell_type": "code",
   "execution_count": 31,
   "metadata": {
    "scrolled": true
   },
   "outputs": [
    {
     "name": "stdout",
     "output_type": "stream",
     "text": [
      "0\n",
      "Epoch:  0/100, cost:0.350592044\n",
      "Training accuracy: 0.970\n",
      "1\n",
      "2\n",
      "3\n",
      "4\n",
      "5\n",
      "6\n",
      "7\n",
      "8\n",
      "9\n",
      "10\n",
      "11\n",
      "12\n",
      "13\n",
      "14\n",
      "15\n",
      "16\n",
      "17\n",
      "18\n",
      "19\n",
      "20\n",
      "Epoch: 20/100, cost:0.352317619\n",
      "Training accuracy: 0.840\n",
      "21\n",
      "22\n",
      "23\n",
      "24\n",
      "25\n",
      "26\n",
      "27\n",
      "28\n",
      "29\n",
      "30\n",
      "31\n",
      "32\n",
      "33\n",
      "34\n",
      "35\n",
      "36\n",
      "37\n",
      "38\n",
      "39\n",
      "40\n",
      "Epoch: 40/100, cost:0.350369586\n",
      "Training accuracy: 0.920\n",
      "41\n",
      "42\n",
      "43\n",
      "44\n",
      "45\n",
      "46\n",
      "47\n",
      "48\n",
      "49\n",
      "50\n",
      "51\n",
      "52\n",
      "53\n",
      "54\n",
      "55\n",
      "56\n",
      "57\n",
      "58\n",
      "59\n",
      "60\n",
      "Epoch: 60/100, cost:0.350564416\n",
      "Training accuracy: 0.930\n",
      "61\n",
      "62\n",
      "63\n",
      "64\n",
      "65\n",
      "66\n",
      "67\n",
      "68\n",
      "69\n",
      "70\n",
      "71\n",
      "72\n",
      "73\n",
      "74\n",
      "75\n",
      "76\n",
      "77\n",
      "78\n",
      "79\n",
      "80\n",
      "Epoch: 80/100, cost:0.356538441\n",
      "Training accuracy: 0.880\n",
      "81\n",
      "82\n",
      "83\n",
      "84\n",
      "85\n",
      "86\n",
      "87\n",
      "88\n",
      "89\n",
      "90\n",
      "91\n",
      "92\n",
      "93\n",
      "94\n",
      "95\n",
      "96\n",
      "97\n",
      "98\n",
      "99\n",
      "Your deep MLP model has been trained sucessfully.\n"
     ]
    }
   ],
   "source": [
    "# Initialize variables\n",
    "init_op = tf.global_variables_initializer()\n",
    "\n",
    "# Launch session\n",
    "sess = tf.Session()\n",
    "sess.run(init_op)\n",
    "\n",
    "acc_list = []\n",
    "cost_list = []\n",
    "i_data = []\n",
    "\n",
    "# Training loop\n",
    "for epoch in range(TRAINING_EPOCHS):\n",
    "    print(epoch)\n",
    "    avg_cost = 0.0    \n",
    "    total_batch = int(data_train.shape[0] / BATCH_SIZE)\n",
    "    # Loop over all batches\n",
    "    for i in range(total_batch):\n",
    "        randidx = np.random.randint(int(TRAIN_SIZE), size = BATCH_SIZE)\n",
    "        batch_xs = data_train[randidx, :]\n",
    "        batch_ys = labels_train[randidx, :]\n",
    "        # Fit using batched data\n",
    "        sess.run(optimizer, feed_dict={X: batch_xs, y: batch_ys, dropout_keep_prob: 0.9})\n",
    "        # Calculate average cost\n",
    "        avg_cost += sess.run(cost, feed_dict={X: batch_xs, y: batch_ys, dropout_keep_prob:1.})/total_batch  \n",
    "    # Display progress\n",
    "    if epoch % DISPLAY_STEP == 0:\n",
    "        i_data.append(epoch+1)\n",
    "        cost_list.append(avg_cost)\n",
    "        print (\"Epoch:%3d/%3d, cost:%.9f\" % (epoch, TRAINING_EPOCHS, avg_cost))\n",
    "        train_acc = sess.run(accuracy, feed_dict={X: batch_xs, y: batch_ys, dropout_keep_prob:1.})\n",
    "        acc_list.append(train_acc)\n",
    "        print (\"Training accuracy: %.3f\" % (train_acc))\n",
    "\n",
    "\n",
    "print(\"Your deep MLP model has been trained sucessfully.\")"
   ]
  },
  {
   "cell_type": "code",
   "execution_count": 32,
   "metadata": {},
   "outputs": [
    {
     "name": "stdout",
     "output_type": "stream",
     "text": [
      "Evaluating deep MLP on the test set...\n",
      "Prediction/clasification accuracy: 0.889\n"
     ]
    },
    {
     "data": {
      "text/plain": [
       "<matplotlib.axes._subplots.AxesSubplot at 0x199c7492320>"
      ]
     },
     "execution_count": 32,
     "metadata": {},
     "output_type": "execute_result"
    },
    {
     "data": {
      "text/plain": [
       "[<matplotlib.lines.Line2D at 0x199c76645f8>]"
      ]
     },
     "execution_count": 32,
     "metadata": {},
     "output_type": "execute_result"
    },
    {
     "data": {
      "text/plain": [
       "Text(0.5, 1.0, 'Cross entropy loss per iteration')"
      ]
     },
     "execution_count": 32,
     "metadata": {},
     "output_type": "execute_result"
    },
    {
     "data": {
      "text/plain": [
       "Text(0.5, 0, 'Iteration')"
      ]
     },
     "execution_count": 32,
     "metadata": {},
     "output_type": "execute_result"
    },
    {
     "data": {
      "text/plain": [
       "Text(0, 0.5, 'Cross entropy loss')"
      ]
     },
     "execution_count": 32,
     "metadata": {},
     "output_type": "execute_result"
    },
    {
     "data": {
      "text/plain": [
       "<matplotlib.legend.Legend at 0x199c764afd0>"
      ]
     },
     "execution_count": 32,
     "metadata": {},
     "output_type": "execute_result"
    },
    {
     "data": {
      "text/plain": [
       "19"
      ]
     },
     "execution_count": 32,
     "metadata": {},
     "output_type": "execute_result"
    },
    {
     "data": {
      "text/plain": [
       "102"
      ]
     },
     "execution_count": 32,
     "metadata": {},
     "output_type": "execute_result"
    },
    {
     "data": {
      "text/plain": [
       "<matplotlib.axes._subplots.AxesSubplot at 0x199c7664a90>"
      ]
     },
     "execution_count": 32,
     "metadata": {},
     "output_type": "execute_result"
    },
    {
     "data": {
      "text/plain": [
       "[<matplotlib.lines.Line2D at 0x199c769e940>]"
      ]
     },
     "execution_count": 32,
     "metadata": {},
     "output_type": "execute_result"
    },
    {
     "data": {
      "text/plain": [
       "Text(0.5, 1.0, 'Accuracy on the training set')"
      ]
     },
     "execution_count": 32,
     "metadata": {},
     "output_type": "execute_result"
    },
    {
     "data": {
      "text/plain": [
       "Text(0.5, 0, 'Iteration')"
      ]
     },
     "execution_count": 32,
     "metadata": {},
     "output_type": "execute_result"
    },
    {
     "data": {
      "text/plain": [
       "Text(0, 0.5, 'Accuracy')"
      ]
     },
     "execution_count": 32,
     "metadata": {},
     "output_type": "execute_result"
    },
    {
     "data": {
      "text/plain": [
       "<matplotlib.legend.Legend at 0x199c7664b00>"
      ]
     },
     "execution_count": 32,
     "metadata": {},
     "output_type": "execute_result"
    },
    {
     "data": {
      "image/png": "[encoded data removed]",
      "text/plain": [
       "<Figure size 432x288 with 2 Axes>"
      ]
     },
     "metadata": {
      "needs_background": "light"
     },
     "output_type": "display_data"
    },
    {
     "data": {
      "text/plain": [
       "30"
      ]
     },
     "execution_count": 32,
     "metadata": {},
     "output_type": "execute_result"
    },
    {
     "name": "stdout",
     "output_type": "stream",
     "text": [
      "Session closed!\n"
     ]
    }
   ],
   "source": [
    "print(\"Evaluating deep MLP on the test set...\")\n",
    "#------------------------------------------------------------------------------\n",
    "# Testing\n",
    "\n",
    "test_acc = sess.run(accuracy, feed_dict={X: data_test, y: labels_test, dropout_keep_prob:1.})\n",
    "print (\"Prediction/clasification accuracy: %.3f\" % (test_acc))\n",
    "\n",
    "\n",
    "# Plot loss over time\n",
    "plt.subplot(221)\n",
    "plt.plot(i_data, cost_list, 'k--', label='Training loss', linewidth=1.0)\n",
    "plt.title('Cross entropy loss per iteration')\n",
    "plt.xlabel('Iteration')\n",
    "plt.ylabel('Cross entropy loss')\n",
    "plt.legend(loc='upper right')\n",
    "plt.grid(True)\n",
    "\n",
    "with open(\"i_data.txt\", \"w\") as output:\n",
    "    output.write(str(i_data))\n",
    "\n",
    "with open(\"cost_list.txt\", \"w\") as output:\n",
    "    output.write(str(cost_list))\n",
    "\n",
    "# Plot train and test accuracy\n",
    "plt.subplot(222)\n",
    "plt.plot(i_data, acc_list, 'r--', label='Accuracy on the training set', linewidth=1.0)\n",
    "plt.title('Accuracy on the training set')\n",
    "plt.xlabel('Iteration')\n",
    "plt.ylabel('Accuracy')\n",
    "plt.legend(loc='upper right')\n",
    "plt.grid(True)\n",
    "plt.show()\n",
    "\n",
    "with open(\"acc_list.txt\", \"w\") as output:\n",
    "    output.write(str(acc_list))\n",
    "\n",
    "sess.close()\n",
    "print(\"Session closed!\")"
   ]
  },
  {
   "cell_type": "code",
   "execution_count": null,
   "metadata": {},
   "outputs": [],
   "source": []
  }
 ],
 "metadata": {
  "CodeCell": {
   "cm_config": {
    "lineWrapping": true
   }
  },
  "MarkdownCell": {
   "cm_config": {
    "lineWrapping": true
   }
  },
  "kernelspec": {
   "display_name": "Python 3",
   "language": "python",
   "name": "python3"
  },
  "language_info": {
   "codemirror_mode": {
    "name": "ipython",
    "version": 3
   },
   "file_extension": ".py",
   "mimetype": "text/x-python",
   "name": "python",
   "nbconvert_exporter": "python",
   "pygments_lexer": "ipython3",
   "version": "3.7.3"
  }
 },
 "nbformat": 4,
 "nbformat_minor": 4
}
