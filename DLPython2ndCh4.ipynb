{
  "nbformat": 4,
  "nbformat_minor": 0,
  "metadata": {
    "colab": {
      "name": "DLPython2ndCh4.ipynb",
      "provenance": [],
      "collapsed_sections": [],
      "authorship_tag": "ABX9TyMQVNb7Qeu31pbtAUUD8Qj5",
      "include_colab_link": true
    },
    "kernelspec": {
      "name": "python3",
      "display_name": "Python 3"
    }
  },
  "cells": [
    {
      "cell_type": "markdown",
      "metadata": {
        "id": "view-in-github",
        "colab_type": "text"
      },
      "source": [
        "<a href=\"https://colab.research.google.com/github/daveking63/Jupyter-iPython-Notebooks-Deep-Learning-Notes/blob/master/DLPython2ndCh4.ipynb\" target=\"_parent\"><img src=\"https://colab.research.google.com/assets/colab-badge.svg\" alt=\"Open In Colab\"/></a>"
      ]
    },
    {
      "cell_type": "markdown",
      "metadata": {
        "id": "3RaFjeV2CODC",
        "colab_type": "text"
      },
      "source": [
        "#Notes from Deep Learning with Python 2nd Edition - Chapter 4"
      ]
    },
    {
      "cell_type": "markdown",
      "metadata": {
        "id": "9A1mHttoCaEt",
        "colab_type": "text"
      },
      "source": [
        "## Getting Started with Neural Networks: Classification and Regression"
      ]
    },
    {
      "cell_type": "markdown",
      "metadata": {
        "id": "_SZwBxagCktW",
        "colab_type": "text"
      },
      "source": [
        "### Classifying Movie Reviews: Binary classification\n",
        "\n",
        "Classifying reviews as positive or negative based on text content of reviews. Based on IMDB data set of 50K highly polarized reviews. The 50K are split in 25K for training and 25K for testing, with each set containing 50% negative and 50% positive reviews.\n",
        "\n",
        "Within each review only the top 10K words (in the training sample) were used as input to the binary classification model.  Keras and TensorFlow are used to build the model from these data."
      ]
    },
    {
      "cell_type": "code",
      "metadata": {
        "id": "vDC1qwZWEhbk",
        "colab_type": "code",
        "colab": {
          "base_uri": "https://localhost:8080/",
          "height": 34
        },
        "outputId": "50282f9e-17a4-4fef-be3a-f5816b36ef3c"
      },
      "source": [
        "# Loading the IMDB dataset\n",
        "\n",
        "import tensorflow as tf\n",
        "import tensorflow.keras\n",
        "\n",
        "from tensorflow.keras.datasets import imdb\n",
        "(train_data, train_labels), (test_data, test_labels) = imdb.load_data(num_words=10000)"
      ],
      "execution_count": 5,
      "outputs": [
        {
          "output_type": "execute_result",
          "data": {
            "text/plain": [
              "1"
            ]
          },
          "metadata": {
            "tags": []
          },
          "execution_count": 5
        }
      ]
    },
    {
      "cell_type": "code",
      "metadata": {
        "id": "DRzVN8QeF0Fq",
        "colab_type": "code",
        "colab": {
          "base_uri": "https://localhost:8080/",
          "height": 190
        },
        "outputId": "fa754f77-5867-4b13-a22f-f2d238167ffb"
      },
      "source": [
        "# Analysis of the datasets shows, the training_data is a numpy array \n",
        "# of 25K samples or reviews. Each review is a list of numbers where \n",
        "# the number indicates the index of the word index dictionary \n",
        "\n",
        "print(type(train_data))\n",
        "print(type(train_data[0]))\n",
        "print(train_data.shape)\n",
        "print(train_labels.shape)\n",
        "print(len(train_data[0]),'numbers in first review')\n",
        "\n",
        "print(train_data[0:3])\n",
        "print(train_labels[0])"
      ],
      "execution_count": 77,
      "outputs": [
        {
          "output_type": "stream",
          "text": [
            "<class 'numpy.ndarray'>\n",
            "<class 'list'>\n",
            "(25000,)\n",
            "(25000,)\n",
            "218 numbers\n",
            "[list([1, 14, 22, 16, 43, 530, 973, 1622, 1385, 65, 458, 4468, 66, 3941, 4, 173, 36, 256, 5, 25, 100, 43, 838, 112, 50, 670, 2, 9, 35, 480, 284, 5, 150, 4, 172, 112, 167, 2, 336, 385, 39, 4, 172, 4536, 1111, 17, 546, 38, 13, 447, 4, 192, 50, 16, 6, 147, 2025, 19, 14, 22, 4, 1920, 4613, 469, 4, 22, 71, 87, 12, 16, 43, 530, 38, 76, 15, 13, 1247, 4, 22, 17, 515, 17, 12, 16, 626, 18, 2, 5, 62, 386, 12, 8, 316, 8, 106, 5, 4, 2223, 5244, 16, 480, 66, 3785, 33, 4, 130, 12, 16, 38, 619, 5, 25, 124, 51, 36, 135, 48, 25, 1415, 33, 6, 22, 12, 215, 28, 77, 52, 5, 14, 407, 16, 82, 2, 8, 4, 107, 117, 5952, 15, 256, 4, 2, 7, 3766, 5, 723, 36, 71, 43, 530, 476, 26, 400, 317, 46, 7, 4, 2, 1029, 13, 104, 88, 4, 381, 15, 297, 98, 32, 2071, 56, 26, 141, 6, 194, 7486, 18, 4, 226, 22, 21, 134, 476, 26, 480, 5, 144, 30, 5535, 18, 51, 36, 28, 224, 92, 25, 104, 4, 226, 65, 16, 38, 1334, 88, 12, 16, 283, 5, 16, 4472, 113, 103, 32, 15, 16, 5345, 19, 178, 32])\n",
            " list([1, 194, 1153, 194, 8255, 78, 228, 5, 6, 1463, 4369, 5012, 134, 26, 4, 715, 8, 118, 1634, 14, 394, 20, 13, 119, 954, 189, 102, 5, 207, 110, 3103, 21, 14, 69, 188, 8, 30, 23, 7, 4, 249, 126, 93, 4, 114, 9, 2300, 1523, 5, 647, 4, 116, 9, 35, 8163, 4, 229, 9, 340, 1322, 4, 118, 9, 4, 130, 4901, 19, 4, 1002, 5, 89, 29, 952, 46, 37, 4, 455, 9, 45, 43, 38, 1543, 1905, 398, 4, 1649, 26, 6853, 5, 163, 11, 3215, 2, 4, 1153, 9, 194, 775, 7, 8255, 2, 349, 2637, 148, 605, 2, 8003, 15, 123, 125, 68, 2, 6853, 15, 349, 165, 4362, 98, 5, 4, 228, 9, 43, 2, 1157, 15, 299, 120, 5, 120, 174, 11, 220, 175, 136, 50, 9, 4373, 228, 8255, 5, 2, 656, 245, 2350, 5, 4, 9837, 131, 152, 491, 18, 2, 32, 7464, 1212, 14, 9, 6, 371, 78, 22, 625, 64, 1382, 9, 8, 168, 145, 23, 4, 1690, 15, 16, 4, 1355, 5, 28, 6, 52, 154, 462, 33, 89, 78, 285, 16, 145, 95])\n",
            " list([1, 14, 47, 8, 30, 31, 7, 4, 249, 108, 7, 4, 5974, 54, 61, 369, 13, 71, 149, 14, 22, 112, 4, 2401, 311, 12, 16, 3711, 33, 75, 43, 1829, 296, 4, 86, 320, 35, 534, 19, 263, 4821, 1301, 4, 1873, 33, 89, 78, 12, 66, 16, 4, 360, 7, 4, 58, 316, 334, 11, 4, 1716, 43, 645, 662, 8, 257, 85, 1200, 42, 1228, 2578, 83, 68, 3912, 15, 36, 165, 1539, 278, 36, 69, 2, 780, 8, 106, 14, 6905, 1338, 18, 6, 22, 12, 215, 28, 610, 40, 6, 87, 326, 23, 2300, 21, 23, 22, 12, 272, 40, 57, 31, 11, 4, 22, 47, 6, 2307, 51, 9, 170, 23, 595, 116, 595, 1352, 13, 191, 79, 638, 89, 2, 14, 9, 8, 106, 607, 624, 35, 534, 6, 227, 7, 129, 113])]\n",
            "1\n"
          ],
          "name": "stdout"
        }
      ]
    },
    {
      "cell_type": "code",
      "metadata": {
        "id": "MFLd6WfgGym7",
        "colab_type": "code",
        "colab": {
          "base_uri": "https://localhost:8080/",
          "height": 34
        },
        "outputId": "5b90a9d3-e583-4d65-b3e6-7a802a50ce10"
      },
      "source": [
        "# restricting to top 10K most frequent words\n",
        "\n",
        "max([max(sequence) for sequence in train_data])"
      ],
      "execution_count": 10,
      "outputs": [
        {
          "output_type": "execute_result",
          "data": {
            "text/plain": [
              "9999"
            ]
          },
          "metadata": {
            "tags": []
          },
          "execution_count": 10
        }
      ]
    },
    {
      "cell_type": "code",
      "metadata": {
        "id": "n8WJ19QuHNjI",
        "colab_type": "code",
        "colab": {}
      },
      "source": [
        "# Reverse decoding from word index to actual words\n",
        "\n",
        "word_index = imdb.get_word_index()\n",
        "reverse_word_index = dict([(value,key) for (key,value) in word_index.items()])\n",
        "decode_review = ' '.join([reverse_word_index.get(i-3, '?') for i in train_data[0]])"
      ],
      "execution_count": 0,
      "outputs": []
    },
    {
      "cell_type": "code",
      "metadata": {
        "id": "IKA-Fb8kOtwf",
        "colab_type": "code",
        "colab": {
          "base_uri": "https://localhost:8080/",
          "height": 394
        },
        "outputId": "5c2d3eae-c822-405b-b324-0a77d41aad9d"
      },
      "source": [
        "print(type(word_index),'\\n')\n",
        "\n",
        "for dKey in list(word_index.keys())[0:5]:\n",
        "  print(dKey, word_index[dKey])\n",
        "\n",
        "print('\\n')\n",
        "\n",
        "print(type(reverse_word_index),'\\n')\n",
        "\n",
        "for dKey in list(reverse_word_index.keys())[0:5]:\n",
        "  print(dKey, reverse_word_index[dKey])\n",
        "\n",
        "print('\\n')\n",
        "\n",
        "# print decode_review for single review train_data[0]\n",
        "\n",
        "print(type(decode_review))\n",
        "print(len(decode_review), ' characters')\n",
        "print(decode_review)"
      ],
      "execution_count": 76,
      "outputs": [
        {
          "output_type": "stream",
          "text": [
            "<class 'dict'> \n",
            "\n",
            "fawn 34701\n",
            "tsukino 52006\n",
            "nunnery 52007\n",
            "sonja 16816\n",
            "vani 63951\n",
            "\n",
            "\n",
            "<class 'dict'> \n",
            "\n",
            "34701 fawn\n",
            "52006 tsukino\n",
            "52007 nunnery\n",
            "16816 sonja\n",
            "63951 vani\n",
            "\n",
            "\n",
            "<class 'str'>\n",
            "1113  characters\n",
            "? this film was just brilliant casting location scenery story direction everyone's really suited the part they played and you could just imagine being there robert ? is an amazing actor and now the same being director ? father came from the same scottish island as myself so i loved the fact there was a real connection with this film the witty remarks throughout the film were great it was just brilliant so much that i bought the film as soon as it was released for ? and would recommend it to everyone to watch and the fly fishing was amazing really cried at the end it was so sad and you know what they say if you cry at a film it must have been good and this definitely was also ? to the two little boy's that played the ? of norman and paul they were just brilliant children are often left out of the ? list i think because the stars that play them all grown up are such a big profile for the whole film but these children are amazing and should be praised for what they have done don't you think the whole story was so lovely because it was true and was someone's life after all that was shared with us all\n"
          ],
          "name": "stdout"
        }
      ]
    },
    {
      "cell_type": "markdown",
      "metadata": {
        "id": "5jeGWq4GI5hT",
        "colab_type": "text"
      },
      "source": [
        "As the data now stands, the samples or reviews are all of different length. However, neural networks expect to 'process contiguous batches of data.' Meaning that the lists need to be converted to tensors.  There are multiple ways of doing this.  However, the scheme to be used in this model is to use 'one-hot encoding' so the lists are turned into a 10K dimensional vector of 1s and 0s where a 1 indicates that a particular word in the 10K list appears in the review, while a 0 indicates it doesn't.\n",
        "\n",
        "The one-hot encoding is carried out in the code that follows:"
      ]
    },
    {
      "cell_type": "code",
      "metadata": {
        "id": "-rfbCSANhsI3",
        "colab_type": "code",
        "colab": {}
      },
      "source": [
        "import numpy as np\n",
        "\n",
        "def vectorize_sequences(sequences, dimension=10000):\n",
        "  results = np.zeros((len(sequences), dimension))\n",
        "  for i, sequence in enumerate(sequences):\n",
        "    results[i, sequence] = 1.\n",
        "  return results\n",
        "  \n",
        "x_train = vectorize_sequences(train_data)\n",
        "x_test = vectorize_sequences(test_data)"
      ],
      "execution_count": 0,
      "outputs": []
    },
    {
      "cell_type": "code",
      "metadata": {
        "id": "lHpYzv4IijbB",
        "colab_type": "code",
        "colab": {
          "base_uri": "https://localhost:8080/",
          "height": 68
        },
        "outputId": "90b3d39d-22e5-45a1-89d1-010b0d335d92"
      },
      "source": [
        "print(type(x_train))\n",
        "print(x_train.shape)\n",
        "print(x_train[0])"
      ],
      "execution_count": 80,
      "outputs": [
        {
          "output_type": "stream",
          "text": [
            "<class 'numpy.ndarray'>\n",
            "(25000, 10000)\n",
            "[0. 1. 1. ... 0. 0. 0.]\n"
          ],
          "name": "stdout"
        }
      ]
    },
    {
      "cell_type": "code",
      "metadata": {
        "id": "qZFxCNZKi5gT",
        "colab_type": "code",
        "colab": {}
      },
      "source": [
        "# need to also vectorize the labels\n",
        "\n",
        "y_train =np.asarray(train_labels).astype('float32')\n",
        "y_test =np.asarray(test_labels).astype('float32')"
      ],
      "execution_count": 0,
      "outputs": []
    },
    {
      "cell_type": "markdown",
      "metadata": {
        "id": "H_ffiE2fujri",
        "colab_type": "text"
      },
      "source": [
        "### Building the Model\n",
        "\n",
        "Both input and output labels are all 0s and 1s. Simple problem where a 'plain stack of densely-connected (Dense) layers with relu activations' works well.\n",
        "\n",
        "Two key questions:\n",
        "\n",
        "*   How many layers?\n",
        "*   How many units per layer?\n",
        "\n",
        "As a start, we'll use\n",
        "\n",
        "*   2 intermediate layers with 16 units each\n",
        "*   3rd layer that will output a scaler prediction regarding overall sentiment of the review\n"
      ]
    },
    {
      "cell_type": "code",
      "metadata": {
        "id": "PrMNiy2Vvo8C",
        "colab_type": "code",
        "colab": {}
      },
      "source": [
        "import tensorflow as tf\n",
        "import tensorflow.keras\n",
        "\n",
        "model = keras.Sequential([\n",
        "  keras.layers.Dense(16, activation='relu'),\n",
        "  keras.layers.Dense(16, activation='relu'),\n",
        "  keras.layers.Dense(1, activation='sigmoid')\n",
        "])\n",
        "\n",
        "# compiling the model\n",
        "# selects optimizer, loss and metrics. The loss in this case is used in place of\n",
        "# MSE because the output from model is probabilities\n",
        "\n",
        "model.compile(optimizer='rmsprop',\n",
        "  loss='binary_crossentropy',\n",
        "  metrics=['accuracy'])"
      ],
      "execution_count": 0,
      "outputs": []
    },
    {
      "cell_type": "code",
      "metadata": {
        "id": "epmebnIO0wmW",
        "colab_type": "code",
        "colab": {
          "base_uri": "https://localhost:8080/",
          "height": 697
        },
        "outputId": "01c8eb2f-3fe2-4b18-a53f-3bf453859bb3"
      },
      "source": [
        "# Validating the approach\n",
        "\n",
        "# set aside validation set\n",
        "\n",
        "x_val = x_train[:10000]\n",
        "partial_x_train = x_train[10000:]\n",
        "y_val = y_train[:10000]\n",
        "partial_y_train = y_train[10000:]\n",
        "\n",
        "# Then train the model\n",
        "\n",
        "model.compile(optimizer='rmsprop',\n",
        "loss='binary_crossentropy',\n",
        "metrics=['acc'])\n",
        "history = model.fit(partial_x_train,\n",
        "partial_y_train,\n",
        "epochs=20,\n",
        "batch_size=512,\n",
        "validation_data=(x_val, y_val))"
      ],
      "execution_count": 92,
      "outputs": [
        {
          "output_type": "stream",
          "text": [
            "Epoch 1/20\n",
            "30/30 [==============================] - 2s 70ms/step - loss: 0.5457 - acc: 0.7639 - val_loss: 0.4442 - val_acc: 0.8603\n",
            "Epoch 2/20\n",
            "30/30 [==============================] - 1s 41ms/step - loss: 0.3619 - acc: 0.8977 - val_loss: 0.3513 - val_acc: 0.8758\n",
            "Epoch 3/20\n",
            "30/30 [==============================] - 1s 42ms/step - loss: 0.2661 - acc: 0.9251 - val_loss: 0.2981 - val_acc: 0.8906\n",
            "Epoch 4/20\n",
            "30/30 [==============================] - 1s 41ms/step - loss: 0.2104 - acc: 0.9399 - val_loss: 0.2809 - val_acc: 0.8899\n",
            "Epoch 5/20\n",
            "30/30 [==============================] - 1s 41ms/step - loss: 0.1678 - acc: 0.9508 - val_loss: 0.2834 - val_acc: 0.8855\n",
            "Epoch 6/20\n",
            "30/30 [==============================] - 1s 41ms/step - loss: 0.1378 - acc: 0.9597 - val_loss: 0.2803 - val_acc: 0.8858\n",
            "Epoch 7/20\n",
            "30/30 [==============================] - 1s 36ms/step - loss: 0.1135 - acc: 0.9680 - val_loss: 0.2906 - val_acc: 0.8850\n",
            "Epoch 8/20\n",
            "30/30 [==============================] - 1s 36ms/step - loss: 0.0949 - acc: 0.9748 - val_loss: 0.3095 - val_acc: 0.8820\n",
            "Epoch 9/20\n",
            "30/30 [==============================] - 1s 47ms/step - loss: 0.0799 - acc: 0.9797 - val_loss: 0.3311 - val_acc: 0.8784\n",
            "Epoch 10/20\n",
            "30/30 [==============================] - 2s 52ms/step - loss: 0.0654 - acc: 0.9841 - val_loss: 0.3475 - val_acc: 0.8791\n",
            "Epoch 11/20\n",
            "30/30 [==============================] - 1s 48ms/step - loss: 0.0525 - acc: 0.9890 - val_loss: 0.3667 - val_acc: 0.8784\n",
            "Epoch 12/20\n",
            "30/30 [==============================] - 1s 41ms/step - loss: 0.0437 - acc: 0.9907 - val_loss: 0.3864 - val_acc: 0.8762\n",
            "Epoch 13/20\n",
            "30/30 [==============================] - 1s 40ms/step - loss: 0.0353 - acc: 0.9936 - val_loss: 0.4274 - val_acc: 0.8726\n",
            "Epoch 14/20\n",
            "30/30 [==============================] - 1s 41ms/step - loss: 0.0309 - acc: 0.9930 - val_loss: 0.4347 - val_acc: 0.8764\n",
            "Epoch 15/20\n",
            "30/30 [==============================] - 1s 40ms/step - loss: 0.0226 - acc: 0.9964 - val_loss: 0.4643 - val_acc: 0.8751\n",
            "Epoch 16/20\n",
            "30/30 [==============================] - 1s 37ms/step - loss: 0.0181 - acc: 0.9979 - val_loss: 0.5129 - val_acc: 0.8690\n",
            "Epoch 17/20\n",
            "30/30 [==============================] - 1s 36ms/step - loss: 0.0140 - acc: 0.9986 - val_loss: 0.5273 - val_acc: 0.8715\n",
            "Epoch 18/20\n",
            "30/30 [==============================] - 1s 35ms/step - loss: 0.0146 - acc: 0.9977 - val_loss: 0.5499 - val_acc: 0.8706\n",
            "Epoch 19/20\n",
            "30/30 [==============================] - 1s 37ms/step - loss: 0.0073 - acc: 0.9996 - val_loss: 0.5755 - val_acc: 0.8708\n",
            "Epoch 20/20\n",
            "30/30 [==============================] - 1s 35ms/step - loss: 0.0071 - acc: 0.9995 - val_loss: 0.6149 - val_acc: 0.8693\n"
          ],
          "name": "stdout"
        }
      ]
    },
    {
      "cell_type": "code",
      "metadata": {
        "id": "j4uuTWi-1W5I",
        "colab_type": "code",
        "colab": {
          "base_uri": "https://localhost:8080/",
          "height": 34
        },
        "outputId": "61062407-bbe6-4092-b81c-825cb69a0993"
      },
      "source": [
        "# The model.fit returns a history objects that can be used to look at both the history as well as the accuracy and loss of the m odel\n",
        "\n",
        "hist_dict = history.history\n",
        "hist_dict.keys()"
      ],
      "execution_count": 94,
      "outputs": [
        {
          "output_type": "execute_result",
          "data": {
            "text/plain": [
              "dict_keys(['loss', 'acc', 'val_loss', 'val_acc'])"
            ]
          },
          "metadata": {
            "tags": []
          },
          "execution_count": 94
        }
      ]
    },
    {
      "cell_type": "code",
      "metadata": {
        "id": "oBLXN04I2HPK",
        "colab_type": "code",
        "colab": {
          "base_uri": "https://localhost:8080/",
          "height": 295
        },
        "outputId": "53e37199-0bff-4fb1-d704-a1e18547cfad"
      },
      "source": [
        "# Plotting training and validation loss\n",
        "\n",
        "import matplotlib.pyplot as plt\n",
        "history_dict = history.history\n",
        "loss_values = history_dict['loss']\n",
        "val_loss_values = history_dict['val_loss']\n",
        "epochs = range(1, len(loss_values) + 1)\n",
        "plt.plot(epochs, loss_values, 'bo', label='Training loss')\n",
        "plt.plot(epochs, val_loss_values, 'b', label='Validation loss')\n",
        "plt.title('Training and validation loss')\n",
        "plt.xlabel('Epochs')\n",
        "plt.ylabel('Loss')\n",
        "plt.legend()\n",
        "plt.show()"
      ],
      "execution_count": 95,
      "outputs": [
        {
          "output_type": "display_data",
          "data": {
            "image/png": "[encoded data removed]",
            "text/plain": [
              "<Figure size 432x288 with 1 Axes>"
            ]
          },
          "metadata": {
            "tags": [],
            "needs_background": "light"
          }
        }
      ]
    },
    {
      "cell_type": "code",
      "metadata": {
        "id": "EDU8yiHK2Llr",
        "colab_type": "code",
        "colab": {
          "base_uri": "https://localhost:8080/",
          "height": 295
        },
        "outputId": "ca3fb26a-1c6d-4cdc-9282-e080cfc88c56"
      },
      "source": [
        "# Plotting training and validation accuracy\n",
        "\n",
        "plt.clf()\n",
        "acc = history_dict['acc']\n",
        "val_acc = history_dict['val_acc']\n",
        "plt.plot(epochs, acc, 'bo', label='Training acc')\n",
        "plt.plot(epochs, val_acc, 'b', label='Validation acc')\n",
        "plt.title('Training and validation accuracy')\n",
        "plt.xlabel('Epochs')\n",
        "plt.ylabel('Accuracy')\n",
        "plt.legend()\n",
        "plt.show()"
      ],
      "execution_count": 96,
      "outputs": [
        {
          "output_type": "display_data",
          "data": {
            "image/png": "[encoded data removed]",
            "text/plain": [
              "<Figure size 432x288 with 1 Axes>"
            ]
          },
          "metadata": {
            "tags": [],
            "needs_background": "light"
          }
        }
      ]
    },
    {
      "cell_type": "code",
      "metadata": {
        "id": "lnyHktkH8hZy",
        "colab_type": "code",
        "colab": {
          "base_uri": "https://localhost:8080/",
          "height": 221
        },
        "outputId": "721205cb-2f77-47f7-f216-6143c0d33ece"
      },
      "source": [
        "# the validation loss and accuracy peak at 3-4 epochs. Sign of overfitting\n",
        "# retraining a second model from scratch with 4 rather than 20 epochs\n",
        "\n",
        "model = keras.Sequential([\n",
        "  keras.layers.Dense(16, activation='relu'),\n",
        "  keras.layers.Dense(16, activation='relu'),\n",
        "  keras.layers.Dense(1, activation='sigmoid')\n",
        "])\n",
        "\n",
        "model.compile(optimizer='rmsprop',\n",
        "  loss='binary_crossentropy',\n",
        "  metrics=['accuracy'])\n",
        "\n",
        "model.fit(x_train, y_train, epochs=4, batch_size=512)\n",
        "results = model.evaluate(x_test, y_test)\n",
        "\n",
        "print('\\n', 'Results:')\n",
        "print(results)"
      ],
      "execution_count": 98,
      "outputs": [
        {
          "output_type": "stream",
          "text": [
            "Epoch 1/4\n",
            "49/49 [==============================] - 1s 25ms/step - loss: 0.4467 - accuracy: 0.8129\n",
            "Epoch 2/4\n",
            "49/49 [==============================] - 1s 25ms/step - loss: 0.2547 - accuracy: 0.9114\n",
            "Epoch 3/4\n",
            "49/49 [==============================] - 1s 24ms/step - loss: 0.1964 - accuracy: 0.9322\n",
            "Epoch 4/4\n",
            "49/49 [==============================] - 1s 24ms/step - loss: 0.1640 - accuracy: 0.9426\n",
            "782/782 [==============================] - 1s 2ms/step - loss: 0.3149 - accuracy: 0.8778\n",
            "\n",
            " Results:\n",
            "[0.31486085057258606, 0.8777599930763245]\n"
          ],
          "name": "stdout"
        }
      ]
    },
    {
      "cell_type": "code",
      "metadata": {
        "id": "Ud10uAMK-TGG",
        "colab_type": "code",
        "colab": {
          "base_uri": "https://localhost:8080/",
          "height": 136
        },
        "outputId": "6de98589-1f83-4d17-985b-e475b1e9cd78"
      },
      "source": [
        "# Generating predictions from trained model\n",
        "\n",
        "model.predict(x_test)"
      ],
      "execution_count": 99,
      "outputs": [
        {
          "output_type": "execute_result",
          "data": {
            "text/plain": [
              "array([[0.17713636],\n",
              "       [0.9977534 ],\n",
              "       [0.3756293 ],\n",
              "       ...,\n",
              "       [0.07270792],\n",
              "       [0.03277761],\n",
              "       [0.41550398]], dtype=float32)"
            ]
          },
          "metadata": {
            "tags": []
          },
          "execution_count": 99
        }
      ]
    },
    {
      "cell_type": "markdown",
      "metadata": {
        "id": "Vgylg6mz-tsh",
        "colab_type": "text"
      },
      "source": [
        "### Classifying Newswires: Multiclass Classification Example\n",
        "\n",
        "Building a model to classify Reuters newswires into 46 mutually exclusive topics. This is a problem of 'single-label', 'multiclass classification' since newswire stories can only belong to one topic or category.\n",
        "\n",
        "The dataset to be used is a set of short newswires and their topics published in 1986 by Reuters. This is a simple, widely used toy dataset. There are 46 different topics with at least 10 examples of each topic in the training set."
      ]
    },
    {
      "cell_type": "code",
      "metadata": {
        "id": "OgvXuHSB_ycI",
        "colab_type": "code",
        "colab": {
          "base_uri": "https://localhost:8080/",
          "height": 51
        },
        "outputId": "eb3afeea-9d2e-487e-d679-8243cad99323"
      },
      "source": [
        "#load reuters dataset\n",
        "\n",
        "from tensorflow.keras.datasets import reuters\n",
        "\n",
        "(train_data, train_labels), (test_data, test_labels) = reuters.load_data(\n",
        "num_words=10000)"
      ],
      "execution_count": 100,
      "outputs": [
        {
          "output_type": "stream",
          "text": [
            "Downloading data from https://storage.googleapis.com/tensorflow/tf-keras-datasets/reuters.npz\n",
            "2113536/2110848 [==============================] - 0s 0us/step\n"
          ],
          "name": "stdout"
        }
      ]
    },
    {
      "cell_type": "code",
      "metadata": {
        "id": "Zm0WbLrnAGwk",
        "colab_type": "code",
        "colab": {
          "base_uri": "https://localhost:8080/",
          "height": 224
        },
        "outputId": "0a3eb6cb-1bbd-4593-ee18-7b6fb73de0d8"
      },
      "source": [
        "print('train_data')\n",
        "print(type(train_data))\n",
        "print(train_data.shape)\n",
        "print(len(train_data))\n",
        "print(train_data[10])\n",
        "\n",
        "print('\\n','test_data:')\n",
        "print(type(test_data))\n",
        "print(test_data.shape)\n",
        "print(len(test_data))\n",
        "print(test_data[10])"
      ],
      "execution_count": 106,
      "outputs": [
        {
          "output_type": "stream",
          "text": [
            "train_data\n",
            "<class 'numpy.ndarray'>\n",
            "(8982,)\n",
            "8982\n",
            "[1, 245, 273, 207, 156, 53, 74, 160, 26, 14, 46, 296, 26, 39, 74, 2979, 3554, 14, 46, 4689, 4329, 86, 61, 3499, 4795, 14, 61, 451, 4329, 17, 12]\n",
            "\n",
            " test_data:\n",
            "<class 'numpy.ndarray'>\n",
            "(2246,)\n",
            "2246\n",
            "[1, 361, 372, 8, 77, 62, 325, 4105, 336, 5, 1605, 37, 412, 453, 1187, 229, 334, 13, 4, 867, 76, 4, 76, 1726, 6, 264, 2337, 18, 82, 95, 97, 2220, 4, 1004, 649, 18, 82, 554, 136, 4, 143, 334, 290, 126, 5, 4, 2820, 777, 2, 1386, 13, 954, 7, 4, 314, 912, 224, 4, 2370, 1128, 54, 429, 2, 18, 82, 5, 496, 1187, 229, 57, 85, 385, 593, 6, 4, 867, 76, 17, 12]\n"
          ],
          "name": "stdout"
        }
      ]
    },
    {
      "cell_type": "code",
      "metadata": {
        "id": "O-ywayK3BJqT",
        "colab_type": "code",
        "colab": {
          "base_uri": "https://localhost:8080/",
          "height": 51
        },
        "outputId": "74068605-9eb9-4418-c42f-87eb3bc06a56"
      },
      "source": [
        "# decoding newswires back to text\n",
        "\n",
        "word_index = reuters.get_word_index()\n",
        "reverse_word_index = dict([(value,key) for (key,value) in word_index.items()])\n",
        "decode_review = ' '.join([reverse_word_index.get(i-3, '?') for i in train_data[0]])"
      ],
      "execution_count": 107,
      "outputs": [
        {
          "output_type": "stream",
          "text": [
            "Downloading data from https://storage.googleapis.com/tensorflow/tf-keras-datasets/reuters_word_index.json\n",
            "557056/550378 [==============================] - 0s 0us/step\n"
          ],
          "name": "stdout"
        }
      ]
    },
    {
      "cell_type": "code",
      "metadata": {
        "id": "1zetB7FjHaNw",
        "colab_type": "code",
        "colab": {
          "base_uri": "https://localhost:8080/",
          "height": 445
        },
        "outputId": "9588f652-4973-4804-c68c-df764b2173c3"
      },
      "source": [
        "print('word_index:')\n",
        "\n",
        "print(type(word_index),'\\n')\n",
        "\n",
        "print(len(word_index), 'dictionary items\\n')\n",
        "\n",
        "\n",
        "\n",
        "for dKey in list(word_index.keys())[0:5]:\n",
        "  print(dKey, word_index[dKey])\n",
        "\n",
        "print('\\n','reverse_word_index:')\n",
        "\n",
        "print(type(reverse_word_index),'\\n')\n",
        "\n",
        "for dKey in list(reverse_word_index.keys())[0:5]:\n",
        "  print(dKey, reverse_word_index[dKey])\n",
        "\n",
        "print('\\n')\n",
        "\n",
        "# print decode_review for single review train_data[0]\n",
        "\n",
        "print(type(decode_review))\n",
        "print(len(decode_review), ' characters')\n",
        "print(decode_review)"
      ],
      "execution_count": 113,
      "outputs": [
        {
          "output_type": "stream",
          "text": [
            "word_index:\n",
            "<class 'dict'> \n",
            "\n",
            "30979 dictionary items\n",
            "\n",
            "mdbl 10996\n",
            "fawc 16260\n",
            "degussa 12089\n",
            "woods 8803\n",
            "hanging 13796\n",
            "\n",
            " reverse_word_index:\n",
            "<class 'dict'> \n",
            "\n",
            "10996 mdbl\n",
            "16260 fawc\n",
            "12089 degussa\n",
            "8803 woods\n",
            "13796 hanging\n",
            "\n",
            "\n",
            "<class 'str'>\n",
            "389  characters\n",
            "? ? ? said as a result of its december acquisition of space co it expects earnings per share in 1987 of 1 15 to 1 30 dlrs per share up from 70 cts in 1986 the company said pretax net should rise to nine to 10 mln dlrs from six mln dlrs in 1986 and rental operation revenues to 19 to 22 mln dlrs from 12 5 mln dlrs it said cash flow per share this year should be 2 50 to three dlrs reuter 3\n"
          ],
          "name": "stdout"
        }
      ]
    },
    {
      "cell_type": "code",
      "metadata": {
        "id": "ebSx4d-uIyu8",
        "colab_type": "code",
        "colab": {}
      },
      "source": [
        "# prepare data -- encode in same fashion as movie reviews\n",
        "\n",
        "def vectorize_sequences(sequences, dimension=10000):\n",
        "  results = np.zeros((len(sequences), dimension))\n",
        "  for i, sequence in enumerate(sequences):\n",
        "    results[i, sequence] = 1.\n",
        "  return results\n",
        "\n",
        "x_train = vectorize_sequences(train_data)\n",
        "x_test = vectorize_sequences(test_data)"
      ],
      "execution_count": 0,
      "outputs": []
    },
    {
      "cell_type": "code",
      "metadata": {
        "id": "gFRlysDFJG2o",
        "colab_type": "code",
        "colab": {}
      },
      "source": [
        "# encode topic labels for newswires\n",
        "\n",
        "def to_one_hot(labels, dimension=46):\n",
        "  results = np.zeros((len(labels), dimension))\n",
        "  for i, label in enumerate(labels):\n",
        "    results[i, label] = 1.\n",
        "  return results\n",
        "  \n",
        "one_hot_train_labels = to_one_hot(train_labels)\n",
        "one_hot_test_labels = to_one_hot(test_labels)"
      ],
      "execution_count": 0,
      "outputs": []
    },
    {
      "cell_type": "code",
      "metadata": {
        "id": "-OVIqY4aJth4",
        "colab_type": "code",
        "colab": {}
      },
      "source": [
        "# Building the model - similar to movie review classification except\n",
        "# there are now 46 topics versus 2 types of reviews (+,-)\n",
        "# Larger layers are required (in this case somewhat arbitrarily set at 64).\n",
        "\n",
        "model = keras.Sequential([\n",
        "  keras.layers.Dense(64, activation='relu'),\n",
        "  keras.layers.Dense(64, activation='relu'),\n",
        "  keras.layers.Dense(46, activation='softmax')\n",
        "])\n",
        "\n",
        "model.compile(optimizer='rmsprop',\n",
        "  loss='categorical_crossentropy',\n",
        "  metrics=['accuracy'])\n"
      ],
      "execution_count": 0,
      "outputs": []
    },
    {
      "cell_type": "code",
      "metadata": {
        "id": "MXekK0B-LM-L",
        "colab_type": "code",
        "colab": {}
      },
      "source": [
        "# create validation set\n",
        "x_val = x_train[:1000]\n",
        "partial_x_train = x_train[1000:]\n",
        "y_val = one_hot_train_labels[:1000]\n",
        "partial_y_train = one_hot_train_labels[1000:]"
      ],
      "execution_count": 0,
      "outputs": []
    },
    {
      "cell_type": "code",
      "metadata": {
        "id": "YHWFMCJSLNjS",
        "colab_type": "code",
        "colab": {
          "base_uri": "https://localhost:8080/",
          "height": 697
        },
        "outputId": "d54fb948-ee07-4cd4-dacc-981d3c4e5038"
      },
      "source": [
        "# training the model\n",
        "\n",
        "history = model.fit(partial_x_train,\n",
        "  partial_y_train,\n",
        "  epochs=20,\n",
        "  batch_size=512,\n",
        "  validation_data=(x_val, y_val))"
      ],
      "execution_count": 118,
      "outputs": [
        {
          "output_type": "stream",
          "text": [
            "Epoch 1/20\n",
            "16/16 [==============================] - 1s 46ms/step - loss: 2.7410 - accuracy: 0.4826 - val_loss: 1.7968 - val_accuracy: 0.6170\n",
            "Epoch 2/20\n",
            "16/16 [==============================] - 1s 40ms/step - loss: 1.4460 - accuracy: 0.6986 - val_loss: 1.3162 - val_accuracy: 0.7130\n",
            "Epoch 3/20\n",
            "16/16 [==============================] - 1s 41ms/step - loss: 1.0515 - accuracy: 0.7719 - val_loss: 1.1315 - val_accuracy: 0.7490\n",
            "Epoch 4/20\n",
            "16/16 [==============================] - 1s 40ms/step - loss: 0.8162 - accuracy: 0.8259 - val_loss: 1.0378 - val_accuracy: 0.7760\n",
            "Epoch 5/20\n",
            "16/16 [==============================] - 1s 40ms/step - loss: 0.6484 - accuracy: 0.8682 - val_loss: 0.9668 - val_accuracy: 0.7970\n",
            "Epoch 6/20\n",
            "16/16 [==============================] - 1s 39ms/step - loss: 0.5190 - accuracy: 0.8959 - val_loss: 0.9804 - val_accuracy: 0.7880\n",
            "Epoch 7/20\n",
            "16/16 [==============================] - 1s 40ms/step - loss: 0.4214 - accuracy: 0.9128 - val_loss: 0.9140 - val_accuracy: 0.8110\n",
            "Epoch 8/20\n",
            "16/16 [==============================] - 1s 40ms/step - loss: 0.3421 - accuracy: 0.9265 - val_loss: 0.8799 - val_accuracy: 0.8210\n",
            "Epoch 9/20\n",
            "16/16 [==============================] - 1s 40ms/step - loss: 0.2848 - accuracy: 0.9395 - val_loss: 0.8671 - val_accuracy: 0.8230\n",
            "Epoch 10/20\n",
            "16/16 [==============================] - 1s 40ms/step - loss: 0.2370 - accuracy: 0.9456 - val_loss: 0.8947 - val_accuracy: 0.8190\n",
            "Epoch 11/20\n",
            "16/16 [==============================] - 1s 40ms/step - loss: 0.2094 - accuracy: 0.9494 - val_loss: 0.9593 - val_accuracy: 0.8020\n",
            "Epoch 12/20\n",
            "16/16 [==============================] - 1s 54ms/step - loss: 0.1846 - accuracy: 0.9501 - val_loss: 0.9204 - val_accuracy: 0.8180\n",
            "Epoch 13/20\n",
            "16/16 [==============================] - 1s 50ms/step - loss: 0.1644 - accuracy: 0.9539 - val_loss: 0.9277 - val_accuracy: 0.8190\n",
            "Epoch 14/20\n",
            "16/16 [==============================] - 1s 40ms/step - loss: 0.1495 - accuracy: 0.9554 - val_loss: 0.9503 - val_accuracy: 0.8170\n",
            "Epoch 15/20\n",
            "16/16 [==============================] - 1s 40ms/step - loss: 0.1370 - accuracy: 0.9564 - val_loss: 1.0324 - val_accuracy: 0.8020\n",
            "Epoch 16/20\n",
            "16/16 [==============================] - 1s 40ms/step - loss: 0.1328 - accuracy: 0.9563 - val_loss: 0.9909 - val_accuracy: 0.8140\n",
            "Epoch 17/20\n",
            "16/16 [==============================] - 1s 40ms/step - loss: 0.1220 - accuracy: 0.9570 - val_loss: 0.9942 - val_accuracy: 0.8160\n",
            "Epoch 18/20\n",
            "16/16 [==============================] - 1s 39ms/step - loss: 0.1235 - accuracy: 0.9572 - val_loss: 1.0012 - val_accuracy: 0.8250\n",
            "Epoch 19/20\n",
            "16/16 [==============================] - 1s 40ms/step - loss: 0.1169 - accuracy: 0.9573 - val_loss: 1.0585 - val_accuracy: 0.8030\n",
            "Epoch 20/20\n",
            "16/16 [==============================] - 1s 40ms/step - loss: 0.1162 - accuracy: 0.9573 - val_loss: 1.0840 - val_accuracy: 0.8090\n"
          ],
          "name": "stdout"
        }
      ]
    },
    {
      "cell_type": "code",
      "metadata": {
        "id": "8vgsYmGnLeRY",
        "colab_type": "code",
        "colab": {
          "base_uri": "https://localhost:8080/",
          "height": 295
        },
        "outputId": "90642056-5540-4f25-e47a-a1d84e53cfba"
      },
      "source": [
        "# Plotting training and validation loss\n",
        "\n",
        "loss = history.history['loss']\n",
        "val_loss = history.history['val_loss']\n",
        "epochs = range(1, len(loss) + 1)\n",
        "plt.plot(epochs, loss, 'bo', label='Training loss')\n",
        "plt.plot(epochs, val_loss, 'b', label='Validation loss')\n",
        "plt.title('Training and validation loss')\n",
        "plt.xlabel('Epochs')\n",
        "plt.ylabel('Loss')\n",
        "plt.legend()\n",
        "plt.show()"
      ],
      "execution_count": 119,
      "outputs": [
        {
          "output_type": "display_data",
          "data": {
            "image/png": "[encoded data removed]",
            "text/plain": [
              "<Figure size 432x288 with 1 Axes>"
            ]
          },
          "metadata": {
            "tags": [],
            "needs_background": "light"
          }
        }
      ]
    },
    {
      "cell_type": "code",
      "metadata": {
        "id": "1THHYhfdLh92",
        "colab_type": "code",
        "colab": {
          "base_uri": "https://localhost:8080/",
          "height": 295
        },
        "outputId": "5482e28e-b3c8-47a5-8dac-c163c10b6854"
      },
      "source": [
        "# Plotting training and validation accuracy\n",
        "\n",
        "plt.clf()\n",
        "acc = history.history['accuracy']\n",
        "val_acc = history.history['val_accuracy']\n",
        "plt.plot(epochs, acc, 'bo', label='Training accuracy')\n",
        "plt.plot(epochs, val_acc, 'b', label='Validation accuracy')\n",
        "plt.title('Training and validation accuracy')\n",
        "plt.xlabel('Epochs')\n",
        "plt.ylabel('Accuracy')\n",
        "plt.legend()\n",
        "plt.show()"
      ],
      "execution_count": 120,
      "outputs": [
        {
          "output_type": "display_data",
          "data": {
            "image/png": "[encoded data removed]",
            "text/plain": [
              "<Figure size 432x288 with 1 Axes>"
            ]
          },
          "metadata": {
            "tags": [],
            "needs_background": "light"
          }
        }
      ]
    },
    {
      "cell_type": "code",
      "metadata": {
        "id": "N3k_GIBdL42m",
        "colab_type": "code",
        "colab": {
          "base_uri": "https://localhost:8080/",
          "height": 340
        },
        "outputId": "990384c7-4b07-42d2-c1a6-ac17cc93b6ce"
      },
      "source": [
        "# Begins to overfit after 9 epochs.  So, new test with 9 epochs\n",
        "\n",
        "model = keras.Sequential([\n",
        "  keras.layers.Dense(64, activation='relu'),\n",
        "  keras.layers.Dense(64, activation='relu'),\n",
        "  keras.layers.Dense(46, activation='softmax')\n",
        "])\n",
        "\n",
        "model.compile(optimizer='rmsprop',\n",
        "  loss='categorical_crossentropy',\n",
        "  metrics=['accuracy'])\n",
        "\n",
        "model.fit(partial_x_train,\n",
        "  partial_y_train,\n",
        "  epochs=9,\n",
        "  batch_size=512,\n",
        "  validation_data=(x_val, y_val))\n",
        "\n",
        "results = model.evaluate(x_test, one_hot_test_labels)"
      ],
      "execution_count": 121,
      "outputs": [
        {
          "output_type": "stream",
          "text": [
            "Epoch 1/9\n",
            "16/16 [==============================] - 1s 47ms/step - loss: 2.7353 - accuracy: 0.5603 - val_loss: 1.8041 - val_accuracy: 0.6480\n",
            "Epoch 2/9\n",
            "16/16 [==============================] - 1s 40ms/step - loss: 1.4370 - accuracy: 0.7176 - val_loss: 1.3223 - val_accuracy: 0.7090\n",
            "Epoch 3/9\n",
            "16/16 [==============================] - 1s 39ms/step - loss: 1.0203 - accuracy: 0.7898 - val_loss: 1.1167 - val_accuracy: 0.7550\n",
            "Epoch 4/9\n",
            "16/16 [==============================] - 1s 41ms/step - loss: 0.8030 - accuracy: 0.8297 - val_loss: 1.0175 - val_accuracy: 0.7760\n",
            "Epoch 5/9\n",
            "16/16 [==============================] - 1s 39ms/step - loss: 0.6324 - accuracy: 0.8663 - val_loss: 0.9481 - val_accuracy: 0.7980\n",
            "Epoch 6/9\n",
            "16/16 [==============================] - 1s 39ms/step - loss: 0.5097 - accuracy: 0.8931 - val_loss: 0.9045 - val_accuracy: 0.8080\n",
            "Epoch 7/9\n",
            "16/16 [==============================] - 1s 40ms/step - loss: 0.4123 - accuracy: 0.9147 - val_loss: 0.8910 - val_accuracy: 0.8080\n",
            "Epoch 8/9\n",
            "16/16 [==============================] - 1s 41ms/step - loss: 0.3368 - accuracy: 0.9288 - val_loss: 0.8785 - val_accuracy: 0.8120\n",
            "Epoch 9/9\n",
            "16/16 [==============================] - 1s 51ms/step - loss: 0.2763 - accuracy: 0.9402 - val_loss: 0.8834 - val_accuracy: 0.8150\n",
            "71/71 [==============================] - 0s 2ms/step - loss: 1.0031 - accuracy: 0.7818\n"
          ],
          "name": "stdout"
        }
      ]
    },
    {
      "cell_type": "code",
      "metadata": {
        "id": "3FemB-CkMzSV",
        "colab_type": "code",
        "colab": {
          "base_uri": "https://localhost:8080/",
          "height": 34
        },
        "outputId": "7b417c37-0058-4ffe-84d0-d086eff86cac"
      },
      "source": [
        "print(results) close to 80% accuracy"
      ],
      "execution_count": 122,
      "outputs": [
        {
          "output_type": "stream",
          "text": [
            "[1.0030885934829712, 0.7818343639373779]\n"
          ],
          "name": "stdout"
        }
      ]
    },
    {
      "cell_type": "code",
      "metadata": {
        "id": "0dQau4egM6DC",
        "colab_type": "code",
        "colab": {
          "base_uri": "https://localhost:8080/",
          "height": 34
        },
        "outputId": "eba98554-9c7e-450e-df24-0bf9bfb2152b"
      },
      "source": [
        "# versus random classifier -- as you'll see random classifier has\n",
        "# ~18% classification accuracy\n",
        "\n",
        "import copy\n",
        "test_labels_copy = copy.copy(test_labels)\n",
        "np.random.shuffle(test_labels_copy)\n",
        "hits_array = np.array(test_labels) == np.array(test_labels_copy)\n",
        "float(np.sum(hits_array)) / len(test_labels)"
      ],
      "execution_count": 123,
      "outputs": [
        {
          "output_type": "execute_result",
          "data": {
            "text/plain": [
              "0.18432769367764915"
            ]
          },
          "metadata": {
            "tags": []
          },
          "execution_count": 123
        }
      ]
    },
    {
      "cell_type": "code",
      "metadata": {
        "id": "eLdoYVEQNl2s",
        "colab_type": "code",
        "colab": {
          "base_uri": "https://localhost:8080/",
          "height": 68
        },
        "outputId": "e9c33f03-276d-4737-b444-50c0fd1df6ec"
      },
      "source": [
        "# generating predictions for new data\n",
        "\n",
        "predictions = model.predict(x_test)\n",
        "\n",
        "print(predictions[0].shape)\n",
        "print(np.sum(predictions[0]))\n",
        "print(np.argmax(predictions[0]))"
      ],
      "execution_count": 129,
      "outputs": [
        {
          "output_type": "stream",
          "text": [
            "(46,)\n",
            "0.99999994\n",
            "3\n"
          ],
          "name": "stdout"
        }
      ]
    },
    {
      "cell_type": "markdown",
      "metadata": {
        "id": "34hSVVr6Phyq",
        "colab_type": "text"
      },
      "source": [
        "### Predicting House Prices: Regression Example\n",
        "\n",
        "Predict median price of homes in given boston Suburb in mid-1970s. Dataset has 404 training and 102 test samples. Each feature in the set has a difference scale. Need to normalize these features."
      ]
    },
    {
      "cell_type": "code",
      "metadata": {
        "id": "sK9W3DA-QG2Z",
        "colab_type": "code",
        "colab": {
          "base_uri": "https://localhost:8080/",
          "height": 51
        },
        "outputId": "2fa0968c-fd38-42f2-b275-221fef586a9c"
      },
      "source": [
        "# Load dataset \n",
        "\n",
        "from tensorflow.keras.datasets import boston_housing\n",
        "\n",
        "(train_data, train_targets), (test_data, test_targets) = boston_housing.load_data()"
      ],
      "execution_count": 130,
      "outputs": [
        {
          "output_type": "stream",
          "text": [
            "Downloading data from https://storage.googleapis.com/tensorflow/tf-keras-datasets/boston_housing.npz\n",
            "57344/57026 [==============================] - 0s 0us/step\n"
          ],
          "name": "stdout"
        }
      ]
    },
    {
      "cell_type": "code",
      "metadata": {
        "id": "qCvM4WzuQUoe",
        "colab_type": "code",
        "colab": {
          "base_uri": "https://localhost:8080/",
          "height": 187
        },
        "outputId": "935dd341-0959-45d9-a984-b7195aa11f57"
      },
      "source": [
        "print('train_data:')\n",
        "print(type(train_data))\n",
        "print(train_data.shape)\n",
        "print(train_data[0])\n",
        "\n",
        "print('\\n', 'train_targets:')\n",
        "print(type(train_targets))\n",
        "print(train_targets.shape)\n",
        "print(train_targets[0])"
      ],
      "execution_count": 135,
      "outputs": [
        {
          "output_type": "stream",
          "text": [
            "train_data:\n",
            "<class 'numpy.ndarray'>\n",
            "(404, 13)\n",
            "[  1.23247   0.        8.14      0.        0.538     6.142    91.7\n",
            "   3.9769    4.      307.       21.      396.9      18.72   ]\n",
            "\n",
            " train_targets:\n",
            "<class 'numpy.ndarray'>\n",
            "(404,)\n",
            "15.2\n"
          ],
          "name": "stdout"
        }
      ]
    },
    {
      "cell_type": "code",
      "metadata": {
        "id": "wpTquZsGRDEm",
        "colab_type": "code",
        "colab": {
          "base_uri": "https://localhost:8080/",
          "height": 68
        },
        "outputId": "46f8854c-fcd7-4f41-86c8-a48830b7d415"
      },
      "source": [
        "# prepare the data - normalizing\n",
        "\n",
        "mean = train_data.mean(axis=0)\n",
        "train_data -= mean\n",
        "std = train_data.std(axis=0)\n",
        "train_data /= std\n",
        "test_data -= mean\n",
        "test_data /= std\n",
        "\n",
        "print(train_data[0])"
      ],
      "execution_count": 137,
      "outputs": [
        {
          "output_type": "stream",
          "text": [
            "[-0.27224633 -0.48361547 -0.43576161 -0.25683275 -0.1652266  -0.1764426\n",
            "  0.81306188  0.1166983  -0.62624905 -0.59517003  1.14850044  0.44807713\n",
            "  0.8252202 ]\n"
          ],
          "name": "stdout"
        }
      ]
    },
    {
      "cell_type": "code",
      "metadata": {
        "id": "pxwZpHKWScFG",
        "colab_type": "code",
        "colab": {}
      },
      "source": [
        "#Build model with intermediate layers with 64 units each\n",
        "\n",
        "def build_model():\n",
        "  model = keras.Sequential([\n",
        "    keras.layers.Dense(64, activation='relu'),\n",
        "    keras.layers.Dense(64, activation='relu'),\n",
        "    keras.layers.Dense(1)\n",
        "  ])\n",
        "  model.compile(optimizer='rmsprop', loss='mse', metrics=['mae'])\n",
        "  return model"
      ],
      "execution_count": 0,
      "outputs": []
    },
    {
      "cell_type": "code",
      "metadata": {
        "id": "ZN54qUhrTq8g",
        "colab_type": "code",
        "colab": {
          "base_uri": "https://localhost:8080/",
          "height": 119
        },
        "outputId": "ef7cc32a-95b4-4541-b6b2-032870def3f5"
      },
      "source": [
        "# Because of sample size going to use k-fold cross-validation.\n",
        "# Split data in K-Fold (usually 4 or 5) partitions.\n",
        "\n",
        "k = 4\n",
        "num_val_samples = len(train_data) // k\n",
        "num_epochs = 100\n",
        "all_scores = []\n",
        "for i in range(k):\n",
        "  print('processing fold #%d' % i)\n",
        "  val_data = train_data[i * num_val_samples: (i + 1) * num_val_samples]\n",
        "  val_targets = train_targets[i * num_val_samples: (i + 1) * num_val_samples]\n",
        "  partial_train_data = np.concatenate(\n",
        "    [train_data[:i * num_val_samples],\n",
        "    train_data[(i + 1) * num_val_samples:]],\n",
        "    axis=0)\n",
        "  partial_train_targets = np.concatenate(\n",
        "    [train_targets[:i * num_val_samples],\n",
        "    train_targets[(i + 1) * num_val_samples:]],\n",
        "    axis=0)\n",
        "\n",
        "  model = build_model()\n",
        "  model.fit(partial_train_data, partial_train_targets,\n",
        "    epochs=num_epochs, batch_size=1, verbose=0)\n",
        "  val_mse, val_mae = model.evaluate(val_data, val_targets, verbose=0)\n",
        "  all_scores.append(val_mae)\n",
        "\n",
        "\n",
        "print('All Scores:', all_scores)\n",
        "print('Mean Score:', np.mean(all_scores))"
      ],
      "execution_count": 140,
      "outputs": [
        {
          "output_type": "stream",
          "text": [
            "processing fold #0\n",
            "processing fold #1\n",
            "processing fold #2\n",
            "processing fold #3\n",
            "All Scores: [2.241654872894287, 2.553886890411377, 2.6020946502685547, 2.357145071029663]\n",
            "Mean Score: 2.4386953711509705\n"
          ],
          "name": "stdout"
        }
      ]
    },
    {
      "cell_type": "markdown",
      "metadata": {
        "id": "Jlq_DLAxWJYv",
        "colab_type": "text"
      },
      "source": [
        "Scores are off on the average by approximately \\$2400 where prices range from \\$10K-$50K."
      ]
    },
    {
      "cell_type": "code",
      "metadata": {
        "id": "YVoawclOWYDz",
        "colab_type": "code",
        "colab": {
          "base_uri": "https://localhost:8080/",
          "height": 85
        },
        "outputId": "45763964-d37b-4b31-8657-a842ec41c1f7"
      },
      "source": [
        "# Let's try 500 epochs.\n",
        "\n",
        "num_epochs = 500\n",
        "all_mae_histories = []\n",
        "for i in range(k):\n",
        "  print('processing fold #%d' % i)\n",
        "  val_data = train_data[i * num_val_samples: (i + 1) * num_val_samples]\n",
        "  val_targets = train_targets[i * num_val_samples: (i + 1) * num_val_samples]\n",
        "  partial_train_data = np.concatenate(\n",
        "    [train_data[:i * num_val_samples],\n",
        "    train_data[(i + 1) * num_val_samples:]],\n",
        "    axis=0)\n",
        "  partial_train_targets = np.concatenate(\n",
        "    [train_targets[:i * num_val_samples],\n",
        "    train_targets[(i + 1) * num_val_samples:]],\n",
        "    axis=0)\n",
        "  model = build_model()\n",
        "  history = model.fit(partial_train_data, partial_train_targets,\n",
        "    validation_data=(val_data, val_targets),\n",
        "    epochs=num_epochs, batch_size=1, verbose=0)\n",
        "  mae_history = history.history['val_mae']\n",
        "  all_mae_histories.append(mae_history)"
      ],
      "execution_count": 141,
      "outputs": [
        {
          "output_type": "stream",
          "text": [
            "processing fold #0\n",
            "processing fold #1\n",
            "processing fold #2\n",
            "processing fold #3\n"
          ],
          "name": "stdout"
        }
      ]
    },
    {
      "cell_type": "code",
      "metadata": {
        "id": "aDbsRvVJZx_u",
        "colab_type": "code",
        "colab": {}
      },
      "source": [
        "average_mae_history = [np.mean([x[i] for x in all_mae_histories]) for i in range(num_epochs)]"
      ],
      "execution_count": 0,
      "outputs": []
    },
    {
      "cell_type": "code",
      "metadata": {
        "id": "5eiTSmy-ahgy",
        "colab_type": "code",
        "colab": {
          "base_uri": "https://localhost:8080/",
          "height": 279
        },
        "outputId": "ac07bac4-f13a-44e3-9d36-b56c99593343"
      },
      "source": [
        "# plot validation scores\n",
        "\n",
        "plt.plot(range(1, len(average_mae_history) + 1), average_mae_history)\n",
        "plt.xlabel('Epochs')\n",
        "plt.ylabel('Validation MAE')\n",
        "plt.show()"
      ],
      "execution_count": 143,
      "outputs": [
        {
          "output_type": "display_data",
          "data": {
            "image/png": "[encoded data removed]",
            "text/plain": [
              "<Figure size 432x288 with 1 Axes>"
            ]
          },
          "metadata": {
            "tags": [],
            "needs_background": "light"
          }
        }
      ]
    },
    {
      "cell_type": "code",
      "metadata": {
        "id": "EsiUcDpKaoEx",
        "colab_type": "code",
        "colab": {
          "base_uri": "https://localhost:8080/",
          "height": 279
        },
        "outputId": "58e08095-9a30-4d39-bd9c-02c229f1d944"
      },
      "source": [
        "# plot smoothese validation scores excluding first 10 data points\n",
        "\n",
        "def smooth_curve(points, factor=0.9):\n",
        "  smoothed_points = []\n",
        "  for point in points:\n",
        "    if smoothed_points:\n",
        "      previous = smoothed_points[-1]\n",
        "      smoothed_points.append(previous * factor + point * (1 - factor))\n",
        "    else:\n",
        "      smoothed_points.append(point)\n",
        "  return smoothed_points\n",
        "smooth_mae_history = smooth_curve(average_mae_history[10:])\n",
        "plt.plot(range(1, len(smooth_mae_history) + 1), smooth_mae_history)\n",
        "plt.xlabel('Epochs')\n",
        "plt.ylabel('Validation MAE')\n",
        "plt.show()"
      ],
      "execution_count": 144,
      "outputs": [
        {
          "output_type": "display_data",
          "data": {
            "image/png": "[encoded data removed]",
            "text/plain": [
              "<Figure size 432x288 with 1 Axes>"
            ]
          },
          "metadata": {
            "tags": [],
            "needs_background": "light"
          }
        }
      ]
    },
    {
      "cell_type": "code",
      "metadata": {
        "id": "xxsZ3wtebQvk",
        "colab_type": "code",
        "colab": {
          "base_uri": "https://localhost:8080/",
          "height": 51
        },
        "outputId": "ba18bcd6-0815-4cd5-e462-87d228b77735"
      },
      "source": [
        "# training the final model - still off by sizeable amount \n",
        "\n",
        "model = build_model()\n",
        "model.fit(train_data, train_targets,\n",
        "  epochs=80, batch_size=16, verbose=0)\n",
        "test_mse_score, test_mae_score = model.evaluate(test_data, test_targets)\n",
        "\n",
        "print('test_mae_score:', test_mae_score)"
      ],
      "execution_count": 147,
      "outputs": [
        {
          "output_type": "stream",
          "text": [
            "4/4 [==============================] - 0s 2ms/step - loss: 31.9525 - mae: 2.6661\n",
            "test_mae_score: 2.6661412715911865\n"
          ],
          "name": "stdout"
        }
      ]
    },
    {
      "cell_type": "code",
      "metadata": {
        "id": "UBvnP3lAb2MS",
        "colab_type": "code",
        "colab": {
          "base_uri": "https://localhost:8080/",
          "height": 34
        },
        "outputId": "80dbc1dc-fd53-4833-d7bf-26e814fcbdd0"
      },
      "source": [
        "# generate predictions with model\n",
        "\n",
        "predictions = model.predict(test_data)\n",
        "\n",
        "print(predictions[0])"
      ],
      "execution_count": 148,
      "outputs": [
        {
          "output_type": "stream",
          "text": [
            "[7.538241]\n"
          ],
          "name": "stdout"
        }
      ]
    }
  ]
}