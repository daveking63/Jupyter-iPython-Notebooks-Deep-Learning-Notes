{
  "nbformat": 4,
  "nbformat_minor": 0,
  "metadata": {
    "colab": {
      "name": "tf_2_tfKeras_Tutorial.ipynb",
      "provenance": [],
      "collapsed_sections": [],
      "authorship_tag": "ABX9TyPL1dkeoCvT3n6PK0mOtN7h",
      "include_colab_link": true
    },
    "kernelspec": {
      "name": "python3",
      "display_name": "Python 3"
    }
  },
  "cells": [
    {
      "cell_type": "markdown",
      "metadata": {
        "id": "view-in-github",
        "colab_type": "text"
      },
      "source": [
        "<a href=\"https://colab.research.google.com/github/daveking63/Jupyter-iPython-Notebooks-Deep-Learning-Notes/blob/master/tf_2_tfKeras_Tutorial.ipynb\" target=\"_parent\"><img src=\"https://colab.research.google.com/assets/colab-badge.svg\" alt=\"Open In Colab\"/></a>"
      ]
    },
    {
      "cell_type": "markdown",
      "metadata": {
        "id": "fO-27shVcYzz",
        "colab_type": "text"
      },
      "source": [
        "## Notes from Jason Brownlee's\n",
        "## TensorFlow 2 Tutorial: Get Started in Deep Learning with tf.keras\n",
        "\n",
        "### What are Keras and tf.keras\n",
        "\n",
        "Keras is an open-source deep learning library in Python.  Started in 2015 by Francois Chollet. In 2019 Google released a new version of TensorFlow that directly integrated the Keras API. This integration is usually referred to as the tf.keras interface.\n",
        "\n",
        "In using TensorFlow and Keras to build, train and test a deep learning model, the first step is to import them."
      ]
    },
    {
      "cell_type": "code",
      "metadata": {
        "id": "lnIZUIJUcVdz",
        "colab_type": "code",
        "colab": {
          "base_uri": "https://localhost:8080/",
          "height": 51
        },
        "outputId": "6f95cf55-3881-4466-b36a-7c3cbe1c05e1"
      },
      "source": [
        "import tensorflow as tf\n",
        "print(tf.__version__)\n",
        "print(tf.keras.__version__)"
      ],
      "execution_count": 1,
      "outputs": [
        {
          "output_type": "stream",
          "text": [
            "2.2.0-rc3\n",
            "2.3.0-tf\n"
          ],
          "name": "stdout"
        }
      ]
    },
    {
      "cell_type": "markdown",
      "metadata": {
        "id": "da2G9cpMedqR",
        "colab_type": "text"
      },
      "source": [
        "### 5-Step Model Life Cycle\n",
        "\n",
        "\n",
        "Once imported, you can start the 5-Step Model Life-Cycle that includes the following:\n",
        "\n",
        "<ol>\n",
        "<li>Define the Model - select the type and choose the architecture or network typology (using either the Sequential or Functional API.</li>\n",
        "<li>Compile the Model -- select a loss function, optimization procedure, and sometimes performance metric(s), then compile the model using the chosen configuration.</li>\n",
        "<li>Fit the Model - select the training configuration (epochs and batch size), then call a  function to perform the process.</li>\n",
        "<li>Evaluate the Model - using a testing dataset, call a function to determine the loss or other metrics.</li>\n",
        "<li>Use the Model to Make Predictions -- using new data, call a function to predict a class label, probability, or numerical value (depending on the problem of interest).</li>\n",
        "</ol>\n",
        "\n",
        "To illustrate we'll first consider a simple Sequential Model.\n",
        "\n",
        "**Sequential Model API (Simple)**\n",
        "\n",
        "Called 'sequential' because involves defining a Sequential Class and adding layers to the model one by one in a linear manner from input to output.\n",
        "\n",
        "Here, were creating a Sequential MLP model with 8 inputs, one hidden layer with 10 notes, then an output layer with one node to predict a numerical value."
      ]
    },
    {
      "cell_type": "code",
      "metadata": {
        "id": "vCPeWUWOfE4x",
        "colab_type": "code",
        "colab": {}
      },
      "source": [
        "from tensorflow.keras import Sequential\n",
        "from tensorflow.keras.layers import Dense\n",
        "\n",
        "# define the model\n",
        "\n",
        "model = Sequential()\n",
        "model.add(Dense(10,input_shape=(8,)))\n",
        "model.add(Dense(1))"
      ],
      "execution_count": 0,
      "outputs": []
    },
    {
      "cell_type": "markdown",
      "metadata": {
        "id": "rkLSleNhiLD4",
        "colab_type": "text"
      },
      "source": [
        "### Functional Model API (Advanced)\n",
        "\n",
        "More complex and flexible, involving the connection of the output layer to the input of another layer. First, we define the input class. Next, we connect one or more fully connected layers to the input, then finally the output layer.\n"
      ]
    },
    {
      "cell_type": "code",
      "metadata": {
        "id": "oD2zHOSHi8HL",
        "colab_type": "code",
        "colab": {}
      },
      "source": [
        "from tensorflow.keras import Model\n",
        "from tensorflow.keras import Input\n",
        "from tensorflow.keras.layers import Dense\n",
        "x_in = Input(shape=(8,))\n",
        "x = Dense(10)(x_in)\n",
        "x_out = Dense(1)(x)\n",
        "model = Model(inputs=x_in, outputs=x_out)"
      ],
      "execution_count": 0,
      "outputs": []
    },
    {
      "cell_type": "markdown",
      "metadata": {
        "id": "ev1ignZHkLV5",
        "colab_type": "text"
      },
      "source": [
        "### How to Develop Deep Learning Models\n",
        "\n",
        "**Develop Multilayer Perceptron Models (MLP)**\n",
        "\n",
        "Standard neural network model with layers of nodes where each node is connected to all the outputs from previous layer and the output of each node is connected to all inputs for nodes in the next layer.\n",
        "\n",
        "MLPs are created using one or more Dense Layers.  It is appropriate for tabular data where each column is a variable and each row is an entity or sample. With MLP there are 3 predictive modeling programs of interest: binary classification, multiclass classification and regression.\n",
        "\n",
        "**MLP for Binary Classification**\n",
        "\n",
        "Focus on the *Ionosphere* binary (two-class) classification dataset which predicts whether a structure is in the atmosphere or not given radar returns.\n",
        "\n",
        "We'll use a LabelEncoder to encode string labels to integer values of 0 or 1. Then fit the model 67% of the data for training, and 33% for evaluation. We'll employ the 'relu' activation function.\n"
      ]
    },
    {
      "cell_type": "code",
      "metadata": {
        "id": "-SYwWREnmojK",
        "colab_type": "code",
        "colab": {}
      },
      "source": [
        "# import key libraries\n",
        "\n",
        "from pandas import read_csv\n",
        "from sklearn.model_selection import train_test_split\n",
        "from sklearn.preprocessing import LabelEncoder\n",
        "from tensorflow.keras import Sequential\n",
        "from tensorflow.keras.layers import Dense"
      ],
      "execution_count": 0,
      "outputs": []
    },
    {
      "cell_type": "code",
      "metadata": {
        "id": "9CyfDYSmnnuy",
        "colab_type": "code",
        "colab": {
          "base_uri": "https://localhost:8080/",
          "height": 51
        },
        "outputId": "57e01753-cb1a-4a9a-d24b-2010042a3ab2"
      },
      "source": [
        "# load dataset\n",
        "path = 'https://raw.githubusercontent.com/jbrownlee/Datasets/master/ionosphere.csv'\n",
        "df = read_csv(path, header=None)\n",
        "\n",
        "# split into input and output columns\n",
        "X, y = df.values[:, :-1], df.values[:, -1]\n",
        "\n",
        "# ensure all data are floating point values\n",
        "X = X.astype('float32')\n",
        "\n",
        "# encode strings to integer\n",
        "y = LabelEncoder().fit_transform(y)\n",
        "\n",
        "print(X.shape)\n",
        "print(y.shape)\n"
      ],
      "execution_count": 5,
      "outputs": [
        {
          "output_type": "stream",
          "text": [
            "(351, 34)\n",
            "(351,)\n"
          ],
          "name": "stdout"
        }
      ]
    },
    {
      "cell_type": "code",
      "metadata": {
        "id": "Imaa9nmpoQsk",
        "colab_type": "code",
        "colab": {
          "base_uri": "https://localhost:8080/",
          "height": 34
        },
        "outputId": "a6321a71-b85c-4d08-9961-3d447ba402e4"
      },
      "source": [
        "# split into train and test datasets\n",
        "\n",
        "X_train, X_test, y_train, y_test = train_test_split(X, y, test_size=0.33)\n",
        "print(X_train.shape, X_test.shape, y_train.shape, y_test.shape)\n",
        "# determine the number of input features\n",
        "n_features = X_train.shape[1]"
      ],
      "execution_count": 6,
      "outputs": [
        {
          "output_type": "stream",
          "text": [
            "(235, 34) (116, 34) (235,) (116,)\n"
          ],
          "name": "stdout"
        }
      ]
    },
    {
      "cell_type": "code",
      "metadata": {
        "id": "aIVWZaELoQ0h",
        "colab_type": "code",
        "colab": {}
      },
      "source": [
        "# define model\n",
        "model = Sequential()\n",
        "model.add(Dense(10, activation='relu', kernel_initializer='he_normal', input_shape=(n_features,)))\n",
        "model.add(Dense(8, activation='relu', kernel_initializer='he_normal'))\n",
        "model.add(Dense(1, activation='sigmoid'))"
      ],
      "execution_count": 0,
      "outputs": []
    },
    {
      "cell_type": "code",
      "metadata": {
        "id": "JH7k9VzxoQ9k",
        "colab_type": "code",
        "colab": {}
      },
      "source": [
        "# compile the model\n",
        "model.compile(optimizer='adam', loss='binary_crossentropy', metrics=['accuracy'])\n"
      ],
      "execution_count": 0,
      "outputs": []
    },
    {
      "cell_type": "code",
      "metadata": {
        "id": "5fJ6g0Kjo9DH",
        "colab_type": "code",
        "colab": {
          "base_uri": "https://localhost:8080/",
          "height": 34
        },
        "outputId": "c669fee8-c26d-4a68-8575-860258ca9ce0"
      },
      "source": [
        "# fit the model\n",
        "model.fit(X_train, y_train, epochs=150, batch_size=32, verbose=0)"
      ],
      "execution_count": 9,
      "outputs": [
        {
          "output_type": "execute_result",
          "data": {
            "text/plain": [
              "<tensorflow.python.keras.callbacks.History at 0x7fcc7b8f29e8>"
            ]
          },
          "metadata": {
            "tags": []
          },
          "execution_count": 9
        }
      ]
    },
    {
      "cell_type": "code",
      "metadata": {
        "id": "_gAxzmFEoRE-",
        "colab_type": "code",
        "colab": {
          "base_uri": "https://localhost:8080/",
          "height": 34
        },
        "outputId": "dbb45a07-5c25-4df3-cff8-8ac104884375"
      },
      "source": [
        "# evaluate the model\n",
        "loss, acc = model.evaluate(X_test, y_test, verbose=0)\n",
        "print('Test Accuracy: %.3f' % acc)"
      ],
      "execution_count": 10,
      "outputs": [
        {
          "output_type": "stream",
          "text": [
            "Test Accuracy: 0.888\n"
          ],
          "name": "stdout"
        }
      ]
    },
    {
      "cell_type": "code",
      "metadata": {
        "id": "wmQosaFIoRLw",
        "colab_type": "code",
        "colab": {
          "base_uri": "https://localhost:8080/",
          "height": 34
        },
        "outputId": "d30d5258-9088-45c6-a5a2-26eb8424c22e"
      },
      "source": [
        "# make a prediction\n",
        "row = [1,0,0.99539,-0.05889,0.85243,0.02306,0.83398,-0.37708,1,0.03760,0.85243,-0.17755,0.59755,-0.44945,0.60536,-0.38223,0.84356,-0.38542,0.58212,-0.32192,0.56971,-0.29674,0.36946,-0.47357,0.56811,-0.51171,0.41078,-0.46168,0.21266,-0.34090,0.42267,-0.54487,0.18641,-0.45300]\n",
        "yhat = model.predict([row])\n",
        "print('Predicted: %.3f' % yhat)"
      ],
      "execution_count": 11,
      "outputs": [
        {
          "output_type": "stream",
          "text": [
            "Predicted: 0.994\n"
          ],
          "name": "stdout"
        }
      ]
    },
    {
      "cell_type": "markdown",
      "metadata": {
        "id": "3abItpR8wuiY",
        "colab_type": "text"
      },
      "source": [
        "**MLP for Multiclass Classification**\n",
        "\n",
        "Predicting the species of iris flower given measurements of the flower. Uses the well-known iris dataset. Here, model will have one node for each class in the output layer and use the softmax activation function. The loss function is 'sparse_categorical_crossentropy' which is used for integer encoded class labels.\n"
      ]
    },
    {
      "cell_type": "code",
      "metadata": {
        "id": "C0QZ_c2dxasr",
        "colab_type": "code",
        "colab": {}
      },
      "source": [
        "# import libraries\n",
        "\n",
        "from numpy import argmax\n",
        "from pandas import read_csv\n",
        "from sklearn.model_selection import train_test_split\n",
        "from sklearn.preprocessing import LabelEncoder\n",
        "from tensorflow.keras import Sequential\n",
        "from tensorflow.keras.layers import Dense"
      ],
      "execution_count": 0,
      "outputs": []
    },
    {
      "cell_type": "code",
      "metadata": {
        "id": "TgJdEm6XxnfB",
        "colab_type": "code",
        "colab": {}
      },
      "source": [
        "# load the dataset\n",
        "path = 'https://raw.githubusercontent.com/jbrownlee/Datasets/master/iris.csv'\n",
        "df = read_csv(path, header=None)\n",
        "\n",
        "# split into input and output columns\n",
        "X, y = df.values[:, :-1], df.values[:, -1]\n",
        "\n",
        "# ensure all data are floating point values\n",
        "X = X.astype('float32')\n",
        "\n",
        "# encode strings to integer\n",
        "y = LabelEncoder().fit_transform(y)\n"
      ],
      "execution_count": 0,
      "outputs": []
    },
    {
      "cell_type": "code",
      "metadata": {
        "id": "b9KKrj3Cxo8F",
        "colab_type": "code",
        "colab": {
          "base_uri": "https://localhost:8080/",
          "height": 34
        },
        "outputId": "03aceec7-d4db-4a0d-80f4-8385dcdf514b"
      },
      "source": [
        "# split into train and test datasets\n",
        "X_train, X_test, y_train, y_test = train_test_split(X, y, test_size=0.33)\n",
        "print(X_train.shape, X_test.shape, y_train.shape, y_test.shape)\n",
        "\n",
        "# determine the number of input features\n",
        "n_features = X_train.shape[1]"
      ],
      "execution_count": 14,
      "outputs": [
        {
          "output_type": "stream",
          "text": [
            "(100, 4) (50, 4) (100,) (50,)\n"
          ],
          "name": "stdout"
        }
      ]
    },
    {
      "cell_type": "code",
      "metadata": {
        "id": "fbfrwshaxpLa",
        "colab_type": "code",
        "colab": {}
      },
      "source": [
        "# define model\n",
        "model = Sequential()\n",
        "model.add(Dense(10, activation='relu', kernel_initializer='he_normal', input_shape=(n_features,)))\n",
        "model.add(Dense(8, activation='relu', kernel_initializer='he_normal'))\n",
        "model.add(Dense(3, activation='softmax'))"
      ],
      "execution_count": 0,
      "outputs": []
    },
    {
      "cell_type": "code",
      "metadata": {
        "id": "Yb1N7yZrxpZl",
        "colab_type": "code",
        "colab": {}
      },
      "source": [
        "# compile the model\n",
        "model.compile(optimizer='adam', loss='sparse_categorical_crossentropy', metrics=['accuracy'])"
      ],
      "execution_count": 0,
      "outputs": []
    },
    {
      "cell_type": "code",
      "metadata": {
        "id": "9mTq3NsTxpkk",
        "colab_type": "code",
        "colab": {
          "base_uri": "https://localhost:8080/",
          "height": 34
        },
        "outputId": "4b43d93f-072d-43a9-f9ed-603f9c608221"
      },
      "source": [
        "# fit the model\n",
        "model.fit(X_train, y_train, epochs=150, batch_size=32, verbose=0)"
      ],
      "execution_count": 17,
      "outputs": [
        {
          "output_type": "execute_result",
          "data": {
            "text/plain": [
              "<tensorflow.python.keras.callbacks.History at 0x7fcc78914978>"
            ]
          },
          "metadata": {
            "tags": []
          },
          "execution_count": 17
        }
      ]
    },
    {
      "cell_type": "code",
      "metadata": {
        "id": "3fr9WKX2yE8S",
        "colab_type": "code",
        "colab": {
          "base_uri": "https://localhost:8080/",
          "height": 34
        },
        "outputId": "7c64a049-2ffe-47d3-90f4-0ee7590004cb"
      },
      "source": [
        "# evaluate the model\n",
        "loss, acc = model.evaluate(X_test, y_test, verbose=0)\n",
        "print('Test Accuracy: %.3f' % acc)"
      ],
      "execution_count": 18,
      "outputs": [
        {
          "output_type": "stream",
          "text": [
            "Test Accuracy: 1.000\n"
          ],
          "name": "stdout"
        }
      ]
    },
    {
      "cell_type": "code",
      "metadata": {
        "id": "CVGf3sAkyHI5",
        "colab_type": "code",
        "colab": {
          "base_uri": "https://localhost:8080/",
          "height": 34
        },
        "outputId": "17a248d4-5d1f-4b85-e016-0c744d451d70"
      },
      "source": [
        "# make a prediction\n",
        "row = [5.1,3.5,1.4,0.2]\n",
        "yhat = model.predict([row])\n",
        "print('Predicted: %s (class=%d)' % (yhat, argmax(yhat)))"
      ],
      "execution_count": 19,
      "outputs": [
        {
          "output_type": "stream",
          "text": [
            "Predicted: [[9.785259e-01 2.052212e-02 9.520305e-04]] (class=0)\n"
          ],
          "name": "stdout"
        }
      ]
    },
    {
      "cell_type": "markdown",
      "metadata": {
        "id": "EbIIxvNxydkA",
        "colab_type": "text"
      },
      "source": [
        "MLP for Regression\n",
        "\n",
        "Like earlier source, uses Boston Housing dataset to predict a single numerical value - house value based on properties of the house and neighborhood. Ergo, the output has a single node and uses the default or linear activation function. The MSE loss is minimized when fitting the model. "
      ]
    },
    {
      "cell_type": "code",
      "metadata": {
        "id": "TeJ8VDzRzEJq",
        "colab_type": "code",
        "colab": {}
      },
      "source": [
        "# mlp for regression\n",
        "\n",
        "from numpy import sqrt\n",
        "from pandas import read_csv\n",
        "from sklearn.model_selection import train_test_split\n",
        "from tensorflow.keras import Sequential\n",
        "from tensorflow.keras.layers import Dense"
      ],
      "execution_count": 0,
      "outputs": []
    },
    {
      "cell_type": "code",
      "metadata": {
        "id": "wM_L_f6mzOuR",
        "colab_type": "code",
        "colab": {
          "base_uri": "https://localhost:8080/",
          "height": 34
        },
        "outputId": "ee6366f6-c552-4771-971c-8b858d368975"
      },
      "source": [
        "# load the dataset\n",
        "path = 'https://raw.githubusercontent.com/jbrownlee/Datasets/master/housing.csv'\n",
        "df = read_csv(path, header=None)\n",
        "\n",
        "# split into input and output columns\n",
        "X, y = df.values[:, :-1], df.values[:, -1]\n",
        "\n",
        "# split into train and test datasets\n",
        "X_train, X_test, y_train, y_test = train_test_split(X, y, test_size=0.33)\n",
        "print(X_train.shape, X_test.shape, y_train.shape, y_test.shape)\n",
        "\n",
        "# determine the number of input features\n",
        "n_features = X_train.shape[1]"
      ],
      "execution_count": 21,
      "outputs": [
        {
          "output_type": "stream",
          "text": [
            "(339, 13) (167, 13) (339,) (167,)\n"
          ],
          "name": "stdout"
        }
      ]
    },
    {
      "cell_type": "code",
      "metadata": {
        "id": "darOhtp8zb_f",
        "colab_type": "code",
        "colab": {}
      },
      "source": [
        "# define model\n",
        "model = Sequential()\n",
        "model.add(Dense(10, activation='relu', kernel_initializer='he_normal', input_shape=(n_features,)))\n",
        "model.add(Dense(8, activation='relu', kernel_initializer='he_normal'))\n",
        "model.add(Dense(1))"
      ],
      "execution_count": 0,
      "outputs": []
    },
    {
      "cell_type": "code",
      "metadata": {
        "id": "HmQIVEpIzcMg",
        "colab_type": "code",
        "colab": {}
      },
      "source": [
        "# compile the model\n",
        "model.compile(optimizer='adam', loss='mse')"
      ],
      "execution_count": 0,
      "outputs": []
    },
    {
      "cell_type": "code",
      "metadata": {
        "id": "jJpC0aKHzcWp",
        "colab_type": "code",
        "colab": {
          "base_uri": "https://localhost:8080/",
          "height": 34
        },
        "outputId": "9c4a7fa3-f8f8-47a8-e6f2-f53c7e00ce1e"
      },
      "source": [
        "# fit the model\n",
        "model.fit(X_train, y_train, epochs=150, batch_size=32, verbose=0)"
      ],
      "execution_count": 24,
      "outputs": [
        {
          "output_type": "execute_result",
          "data": {
            "text/plain": [
              "<tensorflow.python.keras.callbacks.History at 0x7fcc77046dd8>"
            ]
          },
          "metadata": {
            "tags": []
          },
          "execution_count": 24
        }
      ]
    },
    {
      "cell_type": "code",
      "metadata": {
        "id": "RhHaPIR2zcVa",
        "colab_type": "code",
        "colab": {
          "base_uri": "https://localhost:8080/",
          "height": 34
        },
        "outputId": "f3d1f43e-e71f-4cec-d7be-50988446d687"
      },
      "source": [
        "# evaluate the model\n",
        "error = model.evaluate(X_test, y_test, verbose=0)\n",
        "print('MSE: %.3f, RMSE: %.3f' % (error, sqrt(error)))"
      ],
      "execution_count": 25,
      "outputs": [
        {
          "output_type": "stream",
          "text": [
            "MSE: 30.539, RMSE: 5.526\n"
          ],
          "name": "stdout"
        }
      ]
    },
    {
      "cell_type": "code",
      "metadata": {
        "id": "3pdi51oozcR_",
        "colab_type": "code",
        "colab": {
          "base_uri": "https://localhost:8080/",
          "height": 34
        },
        "outputId": "5f16464c-ada0-4e6a-b22e-57ffa02e47d8"
      },
      "source": [
        "# make a prediction\n",
        "row = [0.00632,18.00,2.310,0,0.5380,6.5750,65.20,4.0900,1,296.0,15.30,396.90,4.98]\n",
        "yhat = model.predict([row])\n",
        "print('Predicted: %.3f' % yhat)"
      ],
      "execution_count": 26,
      "outputs": [
        {
          "output_type": "stream",
          "text": [
            "Predicted: 29.580\n"
          ],
          "name": "stdout"
        }
      ]
    },
    {
      "cell_type": "markdown",
      "metadata": {
        "id": "SNGLVRW40GRf",
        "colab_type": "text"
      },
      "source": [
        "**Develop Convolutional Neural Network Models**\n",
        "\n",
        "Convolutional Neural Networks, or CNNs for short, are a type of network designed for image input.\n",
        "\n",
        "They are comprised of models with convolutional layers that extract features (called feature maps) and pooling layers that distill features down to the most salient elements.\n",
        "\n",
        "This example uses the well-known, and often used, MNIST digitized handwritten images dataset."
      ]
    },
    {
      "cell_type": "code",
      "metadata": {
        "id": "WGbWvB-20bUI",
        "colab_type": "code",
        "colab": {}
      },
      "source": [
        "# import libraries\n",
        "from numpy import unique\n",
        "from numpy import argmax\n",
        "from tensorflow.keras.datasets.mnist import load_data\n",
        "from tensorflow.keras import Sequential\n",
        "from tensorflow.keras.layers import Dense\n",
        "from tensorflow.keras.layers import Conv2D\n",
        "from tensorflow.keras.layers import MaxPool2D\n",
        "from tensorflow.keras.layers import Flatten\n",
        "from tensorflow.keras.layers import Dropout\n"
      ],
      "execution_count": 0,
      "outputs": []
    },
    {
      "cell_type": "code",
      "metadata": {
        "id": "B_7CpKde0blq",
        "colab_type": "code",
        "colab": {
          "base_uri": "https://localhost:8080/",
          "height": 68
        },
        "outputId": "16d9011a-6dc1-4085-babe-9ee9c7395215"
      },
      "source": [
        "# load dataset\n",
        "(x_train, y_train), (x_test, y_test) = load_data()\n",
        "\n",
        "# reshape data to have a single channel\n",
        "x_train = x_train.reshape((x_train.shape[0], x_train.shape[1], x_train.shape[2], 1))\n",
        "x_test = x_test.reshape((x_test.shape[0], x_test.shape[1], x_test.shape[2], 1))\n",
        "\n",
        "# determine the shape of the input images\n",
        "in_shape = x_train.shape[1:]\n",
        "\n",
        "# determine the number of classes\n",
        "n_classes = len(unique(y_train))\n",
        "print(in_shape, n_classes)\n",
        "\n",
        "# normalize pixel values\n",
        "x_train = x_train.astype('float32') / 255.0\n",
        "x_test = x_test.astype('float32') / 255.0"
      ],
      "execution_count": 28,
      "outputs": [
        {
          "output_type": "stream",
          "text": [
            "Downloading data from https://storage.googleapis.com/tensorflow/tf-keras-datasets/mnist.npz\n",
            "11493376/11490434 [==============================] - 0s 0us/step\n",
            "(28, 28, 1) 10\n"
          ],
          "name": "stdout"
        }
      ]
    },
    {
      "cell_type": "code",
      "metadata": {
        "id": "m5TtHGBi0bwQ",
        "colab_type": "code",
        "colab": {}
      },
      "source": [
        "# define model\n",
        "model = Sequential()\n",
        "model.add(Conv2D(32, (3,3), activation='relu', kernel_initializer='he_uniform', input_shape=in_shape))\n",
        "model.add(MaxPool2D((2, 2)))\n",
        "model.add(Flatten())\n",
        "model.add(Dense(100, activation='relu', kernel_initializer='he_uniform'))\n",
        "model.add(Dropout(0.5))\n",
        "model.add(Dense(n_classes, activation='softmax'))\n",
        "\n",
        "# define loss and optimizer\n",
        "model.compile(optimizer='adam', loss='sparse_categorical_crossentropy', metrics=['accuracy'])"
      ],
      "execution_count": 0,
      "outputs": []
    },
    {
      "cell_type": "code",
      "metadata": {
        "id": "irt3KpkA0br2",
        "colab_type": "code",
        "colab": {}
      },
      "source": [
        "# define loss and optimizer\n",
        "model.compile(optimizer='adam', loss='sparse_categorical_crossentropy', metrics=['accuracy'])"
      ],
      "execution_count": 0,
      "outputs": []
    },
    {
      "cell_type": "code",
      "metadata": {
        "id": "EC5JJBpw0b0l",
        "colab_type": "code",
        "colab": {
          "base_uri": "https://localhost:8080/",
          "height": 34
        },
        "outputId": "c96b47cc-50bc-4813-8540-5f1f8ba8989d"
      },
      "source": [
        "# fit the model\n",
        "model.fit(x_train, y_train, epochs=10, batch_size=128, verbose=0)"
      ],
      "execution_count": 31,
      "outputs": [
        {
          "output_type": "execute_result",
          "data": {
            "text/plain": [
              "<tensorflow.python.keras.callbacks.History at 0x7fcc74e98b00>"
            ]
          },
          "metadata": {
            "tags": []
          },
          "execution_count": 31
        }
      ]
    },
    {
      "cell_type": "code",
      "metadata": {
        "id": "-ammzV3D0cPW",
        "colab_type": "code",
        "colab": {
          "base_uri": "https://localhost:8080/",
          "height": 34
        },
        "outputId": "3ed8abf0-ddc2-48b6-bf53-24a463545a90"
      },
      "source": [
        "# evaluate the model\n",
        "loss, acc = model.evaluate(x_test, y_test, verbose=0)\n",
        "print('Accuracy: %.3f' % acc)"
      ],
      "execution_count": 32,
      "outputs": [
        {
          "output_type": "stream",
          "text": [
            "Accuracy: 0.987\n"
          ],
          "name": "stdout"
        }
      ]
    },
    {
      "cell_type": "code",
      "metadata": {
        "id": "DsTL1RRg1OrX",
        "colab_type": "code",
        "colab": {
          "base_uri": "https://localhost:8080/",
          "height": 34
        },
        "outputId": "65c918bf-5b03-482c-8f94-0b1660dc6ea4"
      },
      "source": [
        "# make a prediction\n",
        "image = x_train[0]\n",
        "image.shape\n",
        "#yhat = model.predict([[image]]) -- error in program\n",
        "#print('Predicted: class=%d' % argmax(yhat))"
      ],
      "execution_count": 33,
      "outputs": [
        {
          "output_type": "execute_result",
          "data": {
            "text/plain": [
              "(28, 28, 1)"
            ]
          },
          "metadata": {
            "tags": []
          },
          "execution_count": 33
        }
      ]
    },
    {
      "cell_type": "markdown",
      "metadata": {
        "id": "Vfxyrrg44WY_",
        "colab_type": "text"
      },
      "source": [
        "**Develop Recurrent Neural Network Models**\n",
        "\n",
        "Designed to operate on sequences of data. Proven effective in NLP and modest success with time series.  Most popular type of RNN is Long Short-Term Memory Network (LSTM).  Utilize car sales dataset to demonstrated RNN for univariate time series. Will work with moving 5 month data to predict current month's data. To do this will utilize a function split_sequence() that will split input sequence into windows. Used the last 12 months of data.\n",
        "\n",
        "LSTM expects dataset with 2 dimensions - first is the number of time steps (here 5) and second is the number of observations per time step (here 1).\n",
        "\n",
        "Because it's a regression type problem, we'll use linear activation function in the output layer and optimize MSE."
      ]
    },
    {
      "cell_type": "code",
      "metadata": {
        "id": "sDMjObQT5nFj",
        "colab_type": "code",
        "colab": {}
      },
      "source": [
        "# import libraries\n",
        "from numpy import sqrt\n",
        "from numpy import asarray\n",
        "from pandas import read_csv\n",
        "from tensorflow.keras import Sequential\n",
        "from tensorflow.keras.layers import Dense\n",
        "from tensorflow.keras.layers import LSTM\n",
        "\n",
        "# split a univariate sequence into samples\n",
        "def split_sequence(sequence, n_steps):\n",
        "\tX, y = list(), list()\n",
        "\tfor i in range(len(sequence)):\n",
        "\t\t# find the end of this pattern\n",
        "\t\tend_ix = i + n_steps\n",
        "\t\t# check if we are beyond the sequence\n",
        "\t\tif end_ix > len(sequence)-1:\n",
        "\t\t\tbreak\n",
        "\t\t# gather input and output parts of the pattern\n",
        "\t\tseq_x, seq_y = sequence[i:end_ix], sequence[end_ix]\n",
        "\t\tX.append(seq_x)\n",
        "\t\ty.append(seq_y)\n",
        "\treturn asarray(X), asarray(y)"
      ],
      "execution_count": 0,
      "outputs": []
    },
    {
      "cell_type": "code",
      "metadata": {
        "id": "rwVuFRay52UB",
        "colab_type": "code",
        "colab": {
          "base_uri": "https://localhost:8080/",
          "height": 34
        },
        "outputId": "8dfec62a-7c35-4a34-d958-38b0161cefa2"
      },
      "source": [
        "# load the dataset\n",
        "path = 'https://raw.githubusercontent.com/jbrownlee/Datasets/master/monthly-car-sales.csv'\n",
        "df = read_csv(path, header=0, index_col=0, squeeze=True)\n",
        "# retrieve the values\n",
        "values = df.values.astype('float32')\n",
        "# specify the window size\n",
        "n_steps = 5\n",
        "# split into samples\n",
        "X, y = split_sequence(values, n_steps)\n",
        "# reshape into [samples, timesteps, features]\n",
        "X = X.reshape((X.shape[0], X.shape[1], 1))\n",
        "# split into train/test\n",
        "n_test = 12\n",
        "X_train, X_test, y_train, y_test = X[:-n_test], X[-n_test:], y[:-n_test], y[-n_test:]\n",
        "print(X_train.shape, X_test.shape, y_train.shape, y_test.shape)"
      ],
      "execution_count": 35,
      "outputs": [
        {
          "output_type": "stream",
          "text": [
            "(91, 5, 1) (12, 5, 1) (91,) (12,)\n"
          ],
          "name": "stdout"
        }
      ]
    },
    {
      "cell_type": "code",
      "metadata": {
        "id": "wG0M1th_55Yh",
        "colab_type": "code",
        "colab": {}
      },
      "source": [
        "# define model\n",
        "model = Sequential()\n",
        "model.add(LSTM(100, activation='relu', kernel_initializer='he_normal', input_shape=(n_steps,1)))\n",
        "model.add(Dense(50, activation='relu', kernel_initializer='he_normal'))\n",
        "model.add(Dense(50, activation='relu', kernel_initializer='he_normal'))\n",
        "model.add(Dense(1))"
      ],
      "execution_count": 0,
      "outputs": []
    },
    {
      "cell_type": "code",
      "metadata": {
        "id": "Wdm5KpgM57yG",
        "colab_type": "code",
        "colab": {}
      },
      "source": [
        "# compile the model\n",
        "model.compile(optimizer='adam', loss='mse', metrics=['mae'])"
      ],
      "execution_count": 0,
      "outputs": []
    },
    {
      "cell_type": "code",
      "metadata": {
        "id": "ofCHwkpJ5-SB",
        "colab_type": "code",
        "colab": {
          "base_uri": "https://localhost:8080/",
          "height": 1000
        },
        "outputId": "3c7d4862-c96b-4369-f32f-9675c489e7dd"
      },
      "source": [
        "# fit the model\n",
        "model.fit(X_train, y_train, epochs=350, batch_size=32, verbose=2, validation_data=(X_test, y_test))"
      ],
      "execution_count": 38,
      "outputs": [
        {
          "output_type": "stream",
          "text": [
            "Epoch 1/350\n",
            "3/3 - 0s - loss: 1367388800.0000 - mae: 35310.4453 - val_loss: 734258496.0000 - val_mae: 26830.6035\n",
            "Epoch 2/350\n",
            "3/3 - 0s - loss: 367529088.0000 - mae: 17555.8262 - val_loss: 125649880.0000 - val_mae: 10647.7100\n",
            "Epoch 3/350\n",
            "3/3 - 0s - loss: 56904500.0000 - mae: 6465.5371 - val_loss: 17345574.0000 - val_mae: 3717.3691\n",
            "Epoch 4/350\n",
            "3/3 - 0s - loss: 17510352.0000 - mae: 3308.5459 - val_loss: 91431480.0000 - val_mae: 8145.0015\n",
            "Epoch 5/350\n",
            "3/3 - 0s - loss: 64788436.0000 - mae: 6711.6270 - val_loss: 146930736.0000 - val_mae: 10917.4365\n",
            "Epoch 6/350\n",
            "3/3 - 0s - loss: 91749504.0000 - mae: 8418.9297 - val_loss: 143156848.0000 - val_mae: 10625.0244\n",
            "Epoch 7/350\n",
            "3/3 - 0s - loss: 66038976.0000 - mae: 6838.6196 - val_loss: 93388640.0000 - val_mae: 7641.4595\n",
            "Epoch 8/350\n",
            "3/3 - 0s - loss: 34552464.0000 - mae: 4442.5054 - val_loss: 61954756.0000 - val_mae: 7309.8599\n",
            "Epoch 9/350\n",
            "3/3 - 0s - loss: 32986418.0000 - mae: 4622.6777 - val_loss: 73378112.0000 - val_mae: 8282.8379\n",
            "Epoch 10/350\n",
            "3/3 - 0s - loss: 33849836.0000 - mae: 5061.2168 - val_loss: 60388460.0000 - val_mae: 7479.8320\n",
            "Epoch 11/350\n",
            "3/3 - 0s - loss: 26039576.0000 - mae: 4281.1455 - val_loss: 41430356.0000 - val_mae: 5942.5039\n",
            "Epoch 12/350\n",
            "3/3 - 0s - loss: 23216602.0000 - mae: 3738.3420 - val_loss: 32515112.0000 - val_mae: 5110.7427\n",
            "Epoch 13/350\n",
            "3/3 - 0s - loss: 15586719.0000 - mae: 3149.8259 - val_loss: 28404040.0000 - val_mae: 4861.8457\n",
            "Epoch 14/350\n",
            "3/3 - 0s - loss: 35782124.0000 - mae: 3426.0217 - val_loss: 21986756.0000 - val_mae: 4260.7476\n",
            "Epoch 15/350\n",
            "3/3 - 0s - loss: 14014348.0000 - mae: 2975.4927 - val_loss: 18645138.0000 - val_mae: 3722.3789\n",
            "Epoch 16/350\n",
            "3/3 - 0s - loss: 14383857.0000 - mae: 2975.8418 - val_loss: 17523782.0000 - val_mae: 3296.8242\n",
            "Epoch 17/350\n",
            "3/3 - 0s - loss: 15528428.0000 - mae: 2996.3311 - val_loss: 24823770.0000 - val_mae: 3454.6406\n",
            "Epoch 18/350\n",
            "3/3 - 0s - loss: 19633666.0000 - mae: 3433.5144 - val_loss: 26363434.0000 - val_mae: 3615.0383\n",
            "Epoch 19/350\n",
            "3/3 - 0s - loss: 19341838.0000 - mae: 3447.8481 - val_loss: 24669824.0000 - val_mae: 3617.6702\n",
            "Epoch 20/350\n",
            "3/3 - 0s - loss: 15373171.0000 - mae: 3110.1697 - val_loss: 19532126.0000 - val_mae: 3814.8489\n",
            "Epoch 21/350\n",
            "3/3 - 0s - loss: 13346025.0000 - mae: 2909.4553 - val_loss: 19015600.0000 - val_mae: 4031.9910\n",
            "Epoch 22/350\n",
            "3/3 - 0s - loss: 13657615.0000 - mae: 3003.6931 - val_loss: 19548280.0000 - val_mae: 3945.6819\n",
            "Epoch 23/350\n",
            "3/3 - 0s - loss: 14159772.0000 - mae: 3040.7717 - val_loss: 18332938.0000 - val_mae: 3765.2009\n",
            "Epoch 24/350\n",
            "3/3 - 0s - loss: 13192092.0000 - mae: 2922.8435 - val_loss: 15296904.0000 - val_mae: 3179.5000\n",
            "Epoch 25/350\n",
            "3/3 - 0s - loss: 12958811.0000 - mae: 2735.3440 - val_loss: 15923508.0000 - val_mae: 3258.0198\n",
            "Epoch 26/350\n",
            "3/3 - 0s - loss: 12315525.0000 - mae: 2699.0032 - val_loss: 19070844.0000 - val_mae: 3517.4746\n",
            "Epoch 27/350\n",
            "3/3 - 0s - loss: 13945035.0000 - mae: 2761.8406 - val_loss: 18857452.0000 - val_mae: 3451.6121\n",
            "Epoch 28/350\n",
            "3/3 - 0s - loss: 13556343.0000 - mae: 2773.9500 - val_loss: 16477160.0000 - val_mae: 3274.4114\n",
            "Epoch 29/350\n",
            "3/3 - 0s - loss: 12667389.0000 - mae: 2732.7485 - val_loss: 15001197.0000 - val_mae: 2977.5664\n",
            "Epoch 30/350\n",
            "3/3 - 0s - loss: 12162024.0000 - mae: 2695.6392 - val_loss: 16845620.0000 - val_mae: 3350.1553\n",
            "Epoch 31/350\n",
            "3/3 - 0s - loss: 12181272.0000 - mae: 2704.5061 - val_loss: 15849273.0000 - val_mae: 3338.9636\n",
            "Epoch 32/350\n",
            "3/3 - 0s - loss: 11478403.0000 - mae: 2684.7917 - val_loss: 16788034.0000 - val_mae: 3526.1882\n",
            "Epoch 33/350\n",
            "3/3 - 0s - loss: 10810593.0000 - mae: 2582.7463 - val_loss: 15630615.0000 - val_mae: 3359.2527\n",
            "Epoch 34/350\n",
            "3/3 - 0s - loss: 10169445.0000 - mae: 2523.0981 - val_loss: 16701155.0000 - val_mae: 3433.3489\n",
            "Epoch 35/350\n",
            "3/3 - 0s - loss: 9977085.0000 - mae: 2459.9175 - val_loss: 30446694.0000 - val_mae: 4395.5981\n",
            "Epoch 36/350\n",
            "3/3 - 0s - loss: 13689611.0000 - mae: 2805.7190 - val_loss: 26242742.0000 - val_mae: 4070.8008\n",
            "Epoch 37/350\n",
            "3/3 - 0s - loss: 12550500.0000 - mae: 2797.3389 - val_loss: 21535198.0000 - val_mae: 3757.2957\n",
            "Epoch 38/350\n",
            "3/3 - 0s - loss: 19789422.0000 - mae: 3230.2812 - val_loss: 31103614.0000 - val_mae: 4368.6509\n",
            "Epoch 39/350\n",
            "3/3 - 0s - loss: 16791536.0000 - mae: 3012.3970 - val_loss: 22840502.0000 - val_mae: 4010.4304\n",
            "Epoch 40/350\n",
            "3/3 - 0s - loss: 14895511.0000 - mae: 3016.7314 - val_loss: 13257809.0000 - val_mae: 2787.9880\n",
            "Epoch 41/350\n",
            "3/3 - 0s - loss: 29029570.0000 - mae: 3389.8208 - val_loss: 10076447.0000 - val_mae: 2676.7837\n",
            "Epoch 42/350\n",
            "3/3 - 0s - loss: 29885550.0000 - mae: 3714.9622 - val_loss: 39477956.0000 - val_mae: 4391.3418\n",
            "Epoch 43/350\n",
            "3/3 - 0s - loss: 19213348.0000 - mae: 3388.6750 - val_loss: 49819472.0000 - val_mae: 5975.7539\n",
            "Epoch 44/350\n",
            "3/3 - 0s - loss: 27997054.0000 - mae: 3888.8445 - val_loss: 24899282.0000 - val_mae: 4384.0923\n",
            "Epoch 45/350\n",
            "3/3 - 0s - loss: 27940912.0000 - mae: 4119.6406 - val_loss: 25921462.0000 - val_mae: 4445.9399\n",
            "Epoch 46/350\n",
            "3/3 - 0s - loss: 16372788.0000 - mae: 3277.0281 - val_loss: 22824944.0000 - val_mae: 4376.4395\n",
            "Epoch 47/350\n",
            "3/3 - 0s - loss: 14833592.0000 - mae: 3078.3359 - val_loss: 16042960.0000 - val_mae: 3575.6433\n",
            "Epoch 48/350\n",
            "3/3 - 0s - loss: 14253699.0000 - mae: 2938.8098 - val_loss: 16490115.0000 - val_mae: 3256.0574\n",
            "Epoch 49/350\n",
            "3/3 - 0s - loss: 12928453.0000 - mae: 2791.9395 - val_loss: 15150835.0000 - val_mae: 3412.1204\n",
            "Epoch 50/350\n",
            "3/3 - 0s - loss: 11801819.0000 - mae: 2715.3765 - val_loss: 14990584.0000 - val_mae: 3544.3547\n",
            "Epoch 51/350\n",
            "3/3 - 0s - loss: 12263208.0000 - mae: 2750.2400 - val_loss: 14560829.0000 - val_mae: 3352.6895\n",
            "Epoch 52/350\n",
            "3/3 - 0s - loss: 12364873.0000 - mae: 2747.7849 - val_loss: 12416716.0000 - val_mae: 2886.9309\n",
            "Epoch 53/350\n",
            "3/3 - 0s - loss: 10060731.0000 - mae: 2476.3655 - val_loss: 12581264.0000 - val_mae: 2870.5378\n",
            "Epoch 54/350\n",
            "3/3 - 0s - loss: 9330705.0000 - mae: 2410.2485 - val_loss: 12126303.0000 - val_mae: 2751.8350\n",
            "Epoch 55/350\n",
            "3/3 - 0s - loss: 9169781.0000 - mae: 2430.3938 - val_loss: 12961256.0000 - val_mae: 2586.6357\n",
            "Epoch 56/350\n",
            "3/3 - 0s - loss: 9389300.0000 - mae: 2453.5020 - val_loss: 12886351.0000 - val_mae: 2713.5381\n",
            "Epoch 57/350\n",
            "3/3 - 0s - loss: 8930940.0000 - mae: 2378.7974 - val_loss: 12318799.0000 - val_mae: 2558.6174\n",
            "Epoch 58/350\n",
            "3/3 - 0s - loss: 8760112.0000 - mae: 2358.0718 - val_loss: 11874936.0000 - val_mae: 2492.5378\n",
            "Epoch 59/350\n",
            "3/3 - 0s - loss: 8889204.0000 - mae: 2355.5408 - val_loss: 12682157.0000 - val_mae: 2734.8311\n",
            "Epoch 60/350\n",
            "3/3 - 0s - loss: 8939108.0000 - mae: 2270.9924 - val_loss: 11997049.0000 - val_mae: 2627.8225\n",
            "Epoch 61/350\n",
            "3/3 - 0s - loss: 9091067.0000 - mae: 2300.1323 - val_loss: 11641247.0000 - val_mae: 2632.1111\n",
            "Epoch 62/350\n",
            "3/3 - 0s - loss: 10821524.0000 - mae: 2451.8328 - val_loss: 8400852.0000 - val_mae: 2253.0908\n",
            "Epoch 63/350\n",
            "3/3 - 0s - loss: 17664912.0000 - mae: 3122.4419 - val_loss: 18141978.0000 - val_mae: 3168.5735\n",
            "Epoch 64/350\n",
            "3/3 - 0s - loss: 14308559.0000 - mae: 2891.0183 - val_loss: 18943374.0000 - val_mae: 3748.8328\n",
            "Epoch 65/350\n",
            "3/3 - 0s - loss: 13369923.0000 - mae: 2770.9666 - val_loss: 20378602.0000 - val_mae: 3866.1113\n",
            "Epoch 66/350\n",
            "3/3 - 0s - loss: 13396652.0000 - mae: 2795.5437 - val_loss: 16177376.0000 - val_mae: 3327.5469\n",
            "Epoch 67/350\n",
            "3/3 - 0s - loss: 11459432.0000 - mae: 2621.3152 - val_loss: 15098779.0000 - val_mae: 3201.9915\n",
            "Epoch 68/350\n",
            "3/3 - 0s - loss: 10992292.0000 - mae: 2602.8074 - val_loss: 15821789.0000 - val_mae: 3389.4189\n",
            "Epoch 69/350\n",
            "3/3 - 0s - loss: 10825971.0000 - mae: 2483.7600 - val_loss: 15157075.0000 - val_mae: 3056.3396\n",
            "Epoch 70/350\n",
            "3/3 - 0s - loss: 9905508.0000 - mae: 2417.5173 - val_loss: 12837415.0000 - val_mae: 2619.2627\n",
            "Epoch 71/350\n",
            "3/3 - 0s - loss: 8445165.0000 - mae: 2240.5842 - val_loss: 8852253.0000 - val_mae: 2237.2417\n",
            "Epoch 72/350\n",
            "3/3 - 0s - loss: 8494187.0000 - mae: 2319.5320 - val_loss: 9289521.0000 - val_mae: 2418.9407\n",
            "Epoch 73/350\n",
            "3/3 - 0s - loss: 9231267.0000 - mae: 2378.1277 - val_loss: 9450123.0000 - val_mae: 2446.1306\n",
            "Epoch 74/350\n",
            "3/3 - 0s - loss: 8634837.0000 - mae: 2219.9028 - val_loss: 10756218.0000 - val_mae: 2622.2500\n",
            "Epoch 75/350\n",
            "3/3 - 0s - loss: 8213106.0000 - mae: 2212.2776 - val_loss: 10594611.0000 - val_mae: 2622.5525\n",
            "Epoch 76/350\n",
            "3/3 - 0s - loss: 8388068.0000 - mae: 2179.7725 - val_loss: 12736785.0000 - val_mae: 2781.7136\n",
            "Epoch 77/350\n",
            "3/3 - 0s - loss: 8250680.0000 - mae: 2210.0791 - val_loss: 12043081.0000 - val_mae: 2811.7871\n",
            "Epoch 78/350\n",
            "3/3 - 0s - loss: 8293346.5000 - mae: 2225.6570 - val_loss: 11165916.0000 - val_mae: 2707.9666\n",
            "Epoch 79/350\n",
            "3/3 - 0s - loss: 8062024.0000 - mae: 2178.7646 - val_loss: 10925885.0000 - val_mae: 2672.9104\n",
            "Epoch 80/350\n",
            "3/3 - 0s - loss: 7571368.5000 - mae: 2134.5808 - val_loss: 9952736.0000 - val_mae: 2571.5696\n",
            "Epoch 81/350\n",
            "3/3 - 0s - loss: 7755546.0000 - mae: 2146.2673 - val_loss: 11743741.0000 - val_mae: 2702.4785\n",
            "Epoch 82/350\n",
            "3/3 - 0s - loss: 8174652.0000 - mae: 2222.8191 - val_loss: 12447555.0000 - val_mae: 2726.3350\n",
            "Epoch 83/350\n",
            "3/3 - 0s - loss: 8330249.5000 - mae: 2212.0730 - val_loss: 11393083.0000 - val_mae: 2589.7786\n",
            "Epoch 84/350\n",
            "3/3 - 0s - loss: 7795474.5000 - mae: 2128.1436 - val_loss: 10531141.0000 - val_mae: 2488.9688\n",
            "Epoch 85/350\n",
            "3/3 - 0s - loss: 7569890.5000 - mae: 2109.0745 - val_loss: 10111873.0000 - val_mae: 2440.3564\n",
            "Epoch 86/350\n",
            "3/3 - 0s - loss: 7181800.5000 - mae: 2057.3735 - val_loss: 14867981.0000 - val_mae: 2947.5037\n",
            "Epoch 87/350\n",
            "3/3 - 0s - loss: 7821614.0000 - mae: 2107.2605 - val_loss: 14921520.0000 - val_mae: 2945.7175\n",
            "Epoch 88/350\n",
            "3/3 - 0s - loss: 7897156.0000 - mae: 2160.0022 - val_loss: 15359480.0000 - val_mae: 3026.1492\n",
            "Epoch 89/350\n",
            "3/3 - 0s - loss: 7595044.0000 - mae: 2091.1084 - val_loss: 14843800.0000 - val_mae: 2950.5583\n",
            "Epoch 90/350\n",
            "3/3 - 0s - loss: 7554087.5000 - mae: 2045.9801 - val_loss: 14841204.0000 - val_mae: 2902.4561\n",
            "Epoch 91/350\n",
            "3/3 - 0s - loss: 7215173.5000 - mae: 2030.3809 - val_loss: 14266368.0000 - val_mae: 2842.5520\n",
            "Epoch 92/350\n",
            "3/3 - 0s - loss: 7091797.5000 - mae: 2046.0718 - val_loss: 13590619.0000 - val_mae: 2846.7188\n",
            "Epoch 93/350\n",
            "3/3 - 0s - loss: 7137410.0000 - mae: 2057.8572 - val_loss: 8084795.5000 - val_mae: 2205.6699\n",
            "Epoch 94/350\n",
            "3/3 - 0s - loss: 6967132.5000 - mae: 2099.9456 - val_loss: 8297954.5000 - val_mae: 2305.8022\n",
            "Epoch 95/350\n",
            "3/3 - 0s - loss: 7217223.5000 - mae: 2091.5674 - val_loss: 13902224.0000 - val_mae: 2811.7542\n",
            "Epoch 96/350\n",
            "3/3 - 0s - loss: 7611396.0000 - mae: 2098.0193 - val_loss: 12985227.0000 - val_mae: 2680.4465\n",
            "Epoch 97/350\n",
            "3/3 - 0s - loss: 8425267.0000 - mae: 2231.5999 - val_loss: 13257511.0000 - val_mae: 2806.5696\n",
            "Epoch 98/350\n",
            "3/3 - 0s - loss: 8611044.0000 - mae: 2323.4309 - val_loss: 12931405.0000 - val_mae: 2808.9482\n",
            "Epoch 99/350\n",
            "3/3 - 0s - loss: 8665931.0000 - mae: 2284.5549 - val_loss: 12476421.0000 - val_mae: 2686.7107\n",
            "Epoch 100/350\n",
            "3/3 - 0s - loss: 8278832.0000 - mae: 2266.0759 - val_loss: 12456467.0000 - val_mae: 2717.2063\n",
            "Epoch 101/350\n",
            "3/3 - 0s - loss: 8155216.0000 - mae: 2259.7231 - val_loss: 11526815.0000 - val_mae: 2733.9099\n",
            "Epoch 102/350\n",
            "3/3 - 0s - loss: 7956116.5000 - mae: 2234.2114 - val_loss: 11203829.0000 - val_mae: 2755.7659\n",
            "Epoch 103/350\n",
            "3/3 - 0s - loss: 7800314.5000 - mae: 2245.1643 - val_loss: 11123839.0000 - val_mae: 2791.8430\n",
            "Epoch 104/350\n",
            "3/3 - 0s - loss: 7801189.5000 - mae: 2234.4460 - val_loss: 11259625.0000 - val_mae: 2746.2185\n",
            "Epoch 105/350\n",
            "3/3 - 0s - loss: 7926564.0000 - mae: 2219.2744 - val_loss: 11149457.0000 - val_mae: 2762.0066\n",
            "Epoch 106/350\n",
            "3/3 - 0s - loss: 7703696.5000 - mae: 2202.7290 - val_loss: 11041266.0000 - val_mae: 2802.9177\n",
            "Epoch 107/350\n",
            "3/3 - 0s - loss: 7805708.0000 - mae: 2221.7583 - val_loss: 11137275.0000 - val_mae: 2820.7473\n",
            "Epoch 108/350\n",
            "3/3 - 0s - loss: 7690770.5000 - mae: 2200.8760 - val_loss: 11131237.0000 - val_mae: 2799.3174\n",
            "Epoch 109/350\n",
            "3/3 - 0s - loss: 7773813.5000 - mae: 2185.4116 - val_loss: 11398016.0000 - val_mae: 2808.5447\n",
            "Epoch 110/350\n",
            "3/3 - 0s - loss: 7664596.0000 - mae: 2188.5796 - val_loss: 11322119.0000 - val_mae: 2814.0198\n",
            "Epoch 111/350\n",
            "3/3 - 0s - loss: 7550857.5000 - mae: 2191.2810 - val_loss: 11304017.0000 - val_mae: 2827.6741\n",
            "Epoch 112/350\n",
            "3/3 - 0s - loss: 7661592.5000 - mae: 2189.2822 - val_loss: 10893072.0000 - val_mae: 2735.4336\n",
            "Epoch 113/350\n",
            "3/3 - 0s - loss: 7648988.0000 - mae: 2193.9233 - val_loss: 10873515.0000 - val_mae: 2737.3123\n",
            "Epoch 114/350\n",
            "3/3 - 0s - loss: 7608942.0000 - mae: 2185.3672 - val_loss: 10970280.0000 - val_mae: 2745.3738\n",
            "Epoch 115/350\n",
            "3/3 - 0s - loss: 7797751.5000 - mae: 2191.8784 - val_loss: 11179541.0000 - val_mae: 2756.3816\n",
            "Epoch 116/350\n",
            "3/3 - 0s - loss: 8045474.5000 - mae: 2225.6021 - val_loss: 11306599.0000 - val_mae: 2777.8184\n",
            "Epoch 117/350\n",
            "3/3 - 0s - loss: 7680768.0000 - mae: 2196.6514 - val_loss: 11636145.0000 - val_mae: 2788.0090\n",
            "Epoch 118/350\n",
            "3/3 - 0s - loss: 7699286.5000 - mae: 2175.6228 - val_loss: 12098288.0000 - val_mae: 2806.1172\n",
            "Epoch 119/350\n",
            "3/3 - 0s - loss: 8008549.5000 - mae: 2152.0154 - val_loss: 11235492.0000 - val_mae: 2767.8298\n",
            "Epoch 120/350\n",
            "3/3 - 0s - loss: 7799991.5000 - mae: 2181.4990 - val_loss: 11339725.0000 - val_mae: 2790.2988\n",
            "Epoch 121/350\n",
            "3/3 - 0s - loss: 7672055.5000 - mae: 2220.6714 - val_loss: 11388843.0000 - val_mae: 2810.4480\n",
            "Epoch 122/350\n",
            "3/3 - 0s - loss: 7555816.5000 - mae: 2169.8955 - val_loss: 12102781.0000 - val_mae: 2827.3503\n",
            "Epoch 123/350\n",
            "3/3 - 0s - loss: 7768374.5000 - mae: 2127.7219 - val_loss: 11768491.0000 - val_mae: 2843.6719\n",
            "Epoch 124/350\n",
            "3/3 - 0s - loss: 7616136.5000 - mae: 2135.4075 - val_loss: 11565869.0000 - val_mae: 2864.9124\n",
            "Epoch 125/350\n",
            "3/3 - 0s - loss: 7593750.0000 - mae: 2157.9536 - val_loss: 11378147.0000 - val_mae: 2850.6340\n",
            "Epoch 126/350\n",
            "3/3 - 0s - loss: 7303420.0000 - mae: 2119.6733 - val_loss: 11423368.0000 - val_mae: 2864.5007\n",
            "Epoch 127/350\n",
            "3/3 - 0s - loss: 7447869.5000 - mae: 2097.3843 - val_loss: 11397285.0000 - val_mae: 2853.5447\n",
            "Epoch 128/350\n",
            "3/3 - 0s - loss: 7510856.0000 - mae: 2094.3625 - val_loss: 11106565.0000 - val_mae: 2855.2825\n",
            "Epoch 129/350\n",
            "3/3 - 0s - loss: 7548716.5000 - mae: 2142.2144 - val_loss: 11240211.0000 - val_mae: 2878.8201\n",
            "Epoch 130/350\n",
            "3/3 - 0s - loss: 7291877.5000 - mae: 2123.3442 - val_loss: 11095835.0000 - val_mae: 2862.0938\n",
            "Epoch 131/350\n",
            "3/3 - 0s - loss: 7207918.0000 - mae: 2092.1819 - val_loss: 11265131.0000 - val_mae: 2864.5684\n",
            "Epoch 132/350\n",
            "3/3 - 0s - loss: 7326278.0000 - mae: 2094.5593 - val_loss: 11187187.0000 - val_mae: 2876.3547\n",
            "Epoch 133/350\n",
            "3/3 - 0s - loss: 7235280.5000 - mae: 2120.5618 - val_loss: 11201120.0000 - val_mae: 2891.4924\n",
            "Epoch 134/350\n",
            "3/3 - 0s - loss: 7382445.5000 - mae: 2125.1404 - val_loss: 11264476.0000 - val_mae: 2884.3398\n",
            "Epoch 135/350\n",
            "3/3 - 0s - loss: 7267681.5000 - mae: 2093.1982 - val_loss: 11358123.0000 - val_mae: 2873.6953\n",
            "Epoch 136/350\n",
            "3/3 - 0s - loss: 7298188.0000 - mae: 2087.9995 - val_loss: 11245507.0000 - val_mae: 2879.1458\n",
            "Epoch 137/350\n",
            "3/3 - 0s - loss: 7254225.5000 - mae: 2107.2041 - val_loss: 11233679.0000 - val_mae: 2887.3918\n",
            "Epoch 138/350\n",
            "3/3 - 0s - loss: 7159758.5000 - mae: 2112.5293 - val_loss: 11087849.0000 - val_mae: 2867.7161\n",
            "Epoch 139/350\n",
            "3/3 - 0s - loss: 7229498.5000 - mae: 2085.3713 - val_loss: 11062104.0000 - val_mae: 2852.9746\n",
            "Epoch 140/350\n",
            "3/3 - 0s - loss: 7218297.5000 - mae: 2078.6658 - val_loss: 10986088.0000 - val_mae: 2850.4209\n",
            "Epoch 141/350\n",
            "3/3 - 0s - loss: 7036988.0000 - mae: 2103.8379 - val_loss: 10928349.0000 - val_mae: 2850.8445\n",
            "Epoch 142/350\n",
            "3/3 - 0s - loss: 7082331.5000 - mae: 2117.2451 - val_loss: 10875681.0000 - val_mae: 2838.8086\n",
            "Epoch 143/350\n",
            "3/3 - 0s - loss: 7046008.5000 - mae: 2081.8977 - val_loss: 11157637.0000 - val_mae: 2814.4197\n",
            "Epoch 144/350\n",
            "3/3 - 0s - loss: 7169349.5000 - mae: 2083.0500 - val_loss: 11100547.0000 - val_mae: 2811.7468\n",
            "Epoch 145/350\n",
            "3/3 - 0s - loss: 7125281.5000 - mae: 2075.6306 - val_loss: 10937881.0000 - val_mae: 2826.8376\n",
            "Epoch 146/350\n",
            "3/3 - 0s - loss: 7337538.5000 - mae: 2148.8535 - val_loss: 10961071.0000 - val_mae: 2830.9114\n",
            "Epoch 147/350\n",
            "3/3 - 0s - loss: 7374132.0000 - mae: 2107.8411 - val_loss: 11161039.0000 - val_mae: 2797.5959\n",
            "Epoch 148/350\n",
            "3/3 - 0s - loss: 7227233.5000 - mae: 2075.2163 - val_loss: 10892718.0000 - val_mae: 2797.5449\n",
            "Epoch 149/350\n",
            "3/3 - 0s - loss: 7157412.5000 - mae: 2092.0688 - val_loss: 10725339.0000 - val_mae: 2814.7537\n",
            "Epoch 150/350\n",
            "3/3 - 0s - loss: 7090374.5000 - mae: 2108.6262 - val_loss: 10755059.0000 - val_mae: 2812.6873\n",
            "Epoch 151/350\n",
            "3/3 - 0s - loss: 7275390.5000 - mae: 2103.4563 - val_loss: 11073717.0000 - val_mae: 2798.6125\n",
            "Epoch 152/350\n",
            "3/3 - 0s - loss: 6998514.0000 - mae: 2058.6660 - val_loss: 10824809.0000 - val_mae: 2810.6492\n",
            "Epoch 153/350\n",
            "3/3 - 0s - loss: 6938520.0000 - mae: 2093.7563 - val_loss: 10824702.0000 - val_mae: 2830.4309\n",
            "Epoch 154/350\n",
            "3/3 - 0s - loss: 7221123.5000 - mae: 2136.5312 - val_loss: 10722922.0000 - val_mae: 2823.6145\n",
            "Epoch 155/350\n",
            "3/3 - 0s - loss: 7023217.5000 - mae: 2103.5288 - val_loss: 11331657.0000 - val_mae: 2793.1570\n",
            "Epoch 156/350\n",
            "3/3 - 0s - loss: 7170511.5000 - mae: 2069.8926 - val_loss: 10846064.0000 - val_mae: 2803.0312\n",
            "Epoch 157/350\n",
            "3/3 - 0s - loss: 6999868.0000 - mae: 2081.9180 - val_loss: 10699601.0000 - val_mae: 2812.3850\n",
            "Epoch 158/350\n",
            "3/3 - 0s - loss: 7111581.5000 - mae: 2110.3030 - val_loss: 10627757.0000 - val_mae: 2801.3923\n",
            "Epoch 159/350\n",
            "3/3 - 0s - loss: 6941825.5000 - mae: 2085.4116 - val_loss: 10724829.0000 - val_mae: 2780.4336\n",
            "Epoch 160/350\n",
            "3/3 - 0s - loss: 6893951.5000 - mae: 2066.1987 - val_loss: 11113953.0000 - val_mae: 2759.5129\n",
            "Epoch 161/350\n",
            "3/3 - 0s - loss: 7172820.0000 - mae: 2070.0159 - val_loss: 10623548.0000 - val_mae: 2779.3301\n",
            "Epoch 162/350\n",
            "3/3 - 0s - loss: 6925293.5000 - mae: 2068.5627 - val_loss: 10662847.0000 - val_mae: 2794.1648\n",
            "Epoch 163/350\n",
            "3/3 - 0s - loss: 7212905.5000 - mae: 2123.0720 - val_loss: 10613006.0000 - val_mae: 2780.5264\n",
            "Epoch 164/350\n",
            "3/3 - 0s - loss: 6952848.0000 - mae: 2071.2249 - val_loss: 10803320.0000 - val_mae: 2760.9558\n",
            "Epoch 165/350\n",
            "3/3 - 0s - loss: 6838150.0000 - mae: 2054.8154 - val_loss: 10772175.0000 - val_mae: 2762.1145\n",
            "Epoch 166/350\n",
            "3/3 - 0s - loss: 7002961.5000 - mae: 2049.2312 - val_loss: 10561069.0000 - val_mae: 2773.8835\n",
            "Epoch 167/350\n",
            "3/3 - 0s - loss: 6865611.5000 - mae: 2068.6948 - val_loss: 10571960.0000 - val_mae: 2784.7952\n",
            "Epoch 168/350\n",
            "3/3 - 0s - loss: 6917131.5000 - mae: 2071.2725 - val_loss: 10576870.0000 - val_mae: 2781.9834\n",
            "Epoch 169/350\n",
            "3/3 - 0s - loss: 7179610.5000 - mae: 2066.1772 - val_loss: 10581101.0000 - val_mae: 2772.0850\n",
            "Epoch 170/350\n",
            "3/3 - 0s - loss: 6855808.0000 - mae: 2050.6343 - val_loss: 10449852.0000 - val_mae: 2775.5391\n",
            "Epoch 171/350\n",
            "3/3 - 0s - loss: 6999032.0000 - mae: 2078.2400 - val_loss: 10423007.0000 - val_mae: 2775.3674\n",
            "Epoch 172/350\n",
            "3/3 - 0s - loss: 6772192.5000 - mae: 2080.3506 - val_loss: 10618886.0000 - val_mae: 2757.4355\n",
            "Epoch 173/350\n",
            "3/3 - 0s - loss: 6862557.5000 - mae: 2042.3776 - val_loss: 10840961.0000 - val_mae: 2758.1660\n",
            "Epoch 174/350\n",
            "3/3 - 0s - loss: 7053012.0000 - mae: 2062.6555 - val_loss: 10667341.0000 - val_mae: 2782.0110\n",
            "Epoch 175/350\n",
            "3/3 - 0s - loss: 6865155.5000 - mae: 2101.0691 - val_loss: 10579001.0000 - val_mae: 2783.4348\n",
            "Epoch 176/350\n",
            "3/3 - 0s - loss: 6848260.0000 - mae: 2049.1641 - val_loss: 10803388.0000 - val_mae: 2760.9719\n",
            "Epoch 177/350\n",
            "3/3 - 0s - loss: 6776961.5000 - mae: 2033.9608 - val_loss: 10658431.0000 - val_mae: 2751.5730\n",
            "Epoch 178/350\n",
            "3/3 - 0s - loss: 6633005.5000 - mae: 2028.7423 - val_loss: 10267867.0000 - val_mae: 2760.9717\n",
            "Epoch 179/350\n",
            "3/3 - 0s - loss: 6851691.5000 - mae: 2066.2412 - val_loss: 10317515.0000 - val_mae: 2768.5056\n",
            "Epoch 180/350\n",
            "3/3 - 0s - loss: 7045698.0000 - mae: 2061.4873 - val_loss: 10387357.0000 - val_mae: 2755.1045\n",
            "Epoch 181/350\n",
            "3/3 - 0s - loss: 6853985.5000 - mae: 2034.6378 - val_loss: 10275605.0000 - val_mae: 2758.8064\n",
            "Epoch 182/350\n",
            "3/3 - 0s - loss: 6545092.0000 - mae: 2046.4071 - val_loss: 10280783.0000 - val_mae: 2766.1824\n",
            "Epoch 183/350\n",
            "3/3 - 0s - loss: 6701144.5000 - mae: 2060.7844 - val_loss: 10293031.0000 - val_mae: 2764.1277\n",
            "Epoch 184/350\n",
            "3/3 - 0s - loss: 6756385.5000 - mae: 2041.3969 - val_loss: 10366140.0000 - val_mae: 2763.3889\n",
            "Epoch 185/350\n",
            "3/3 - 0s - loss: 6680097.5000 - mae: 2028.5624 - val_loss: 10553551.0000 - val_mae: 2765.2708\n",
            "Epoch 186/350\n",
            "3/3 - 0s - loss: 6737516.0000 - mae: 2037.5698 - val_loss: 10524959.0000 - val_mae: 2771.3171\n",
            "Epoch 187/350\n",
            "3/3 - 0s - loss: 6630005.5000 - mae: 2047.4623 - val_loss: 10526353.0000 - val_mae: 2768.4119\n",
            "Epoch 188/350\n",
            "3/3 - 0s - loss: 6858830.5000 - mae: 2045.0778 - val_loss: 10469392.0000 - val_mae: 2766.4736\n",
            "Epoch 189/350\n",
            "3/3 - 0s - loss: 6805966.5000 - mae: 2038.0946 - val_loss: 10530275.0000 - val_mae: 2758.8213\n",
            "Epoch 190/350\n",
            "3/3 - 0s - loss: 6571570.5000 - mae: 2031.7488 - val_loss: 10328539.0000 - val_mae: 2762.1992\n",
            "Epoch 191/350\n",
            "3/3 - 0s - loss: 6589260.5000 - mae: 2059.6785 - val_loss: 10304959.0000 - val_mae: 2760.2676\n",
            "Epoch 192/350\n",
            "3/3 - 0s - loss: 6657872.0000 - mae: 2056.6641 - val_loss: 10409241.0000 - val_mae: 2751.8430\n",
            "Epoch 193/350\n",
            "3/3 - 0s - loss: 6647618.5000 - mae: 2032.9915 - val_loss: 10781473.0000 - val_mae: 2746.0413\n",
            "Epoch 194/350\n",
            "3/3 - 0s - loss: 6661905.5000 - mae: 2006.6710 - val_loss: 10250381.0000 - val_mae: 2761.0564\n",
            "Epoch 195/350\n",
            "3/3 - 0s - loss: 6837258.5000 - mae: 2054.0569 - val_loss: 10252635.0000 - val_mae: 2764.0234\n",
            "Epoch 196/350\n",
            "3/3 - 0s - loss: 6793314.0000 - mae: 2066.9363 - val_loss: 10502896.0000 - val_mae: 2743.1609\n",
            "Epoch 197/350\n",
            "3/3 - 0s - loss: 6652850.0000 - mae: 2012.6764 - val_loss: 10592264.0000 - val_mae: 2739.9177\n",
            "Epoch 198/350\n",
            "3/3 - 0s - loss: 6700233.5000 - mae: 2052.1184 - val_loss: 10426595.0000 - val_mae: 2737.9021\n",
            "Epoch 199/350\n",
            "3/3 - 0s - loss: 6613505.5000 - mae: 2036.7729 - val_loss: 10407185.0000 - val_mae: 2710.1643\n",
            "Epoch 200/350\n",
            "3/3 - 0s - loss: 6668367.5000 - mae: 2022.1089 - val_loss: 10040932.0000 - val_mae: 2699.5303\n",
            "Epoch 201/350\n",
            "3/3 - 0s - loss: 6584332.0000 - mae: 2005.8151 - val_loss: 9955689.0000 - val_mae: 2694.6775\n",
            "Epoch 202/350\n",
            "3/3 - 0s - loss: 6854162.5000 - mae: 2015.2727 - val_loss: 9986015.0000 - val_mae: 2702.8108\n",
            "Epoch 203/350\n",
            "3/3 - 0s - loss: 6639232.0000 - mae: 2011.4932 - val_loss: 10201867.0000 - val_mae: 2707.2556\n",
            "Epoch 204/350\n",
            "3/3 - 0s - loss: 6476910.0000 - mae: 2018.2386 - val_loss: 10242101.0000 - val_mae: 2713.7112\n",
            "Epoch 205/350\n",
            "3/3 - 0s - loss: 6693502.0000 - mae: 2020.2837 - val_loss: 10326023.0000 - val_mae: 2707.3445\n",
            "Epoch 206/350\n",
            "3/3 - 0s - loss: 6626391.5000 - mae: 2012.6853 - val_loss: 10347395.0000 - val_mae: 2707.1287\n",
            "Epoch 207/350\n",
            "3/3 - 0s - loss: 6602192.0000 - mae: 2046.9799 - val_loss: 10318204.0000 - val_mae: 2730.8684\n",
            "Epoch 208/350\n",
            "3/3 - 0s - loss: 6433553.5000 - mae: 2029.1381 - val_loss: 10480900.0000 - val_mae: 2739.2419\n",
            "Epoch 209/350\n",
            "3/3 - 0s - loss: 6367829.5000 - mae: 1978.4700 - val_loss: 10190922.0000 - val_mae: 2741.1523\n",
            "Epoch 210/350\n",
            "3/3 - 0s - loss: 6337965.5000 - mae: 1986.4784 - val_loss: 10090098.0000 - val_mae: 2759.0840\n",
            "Epoch 211/350\n",
            "3/3 - 0s - loss: 6320534.0000 - mae: 2001.4127 - val_loss: 10174689.0000 - val_mae: 2750.0530\n",
            "Epoch 212/350\n",
            "3/3 - 0s - loss: 6155592.5000 - mae: 1983.7153 - val_loss: 10567320.0000 - val_mae: 2746.0508\n",
            "Epoch 213/350\n",
            "3/3 - 0s - loss: 6448288.0000 - mae: 1982.9557 - val_loss: 10698134.0000 - val_mae: 2758.2996\n",
            "Epoch 214/350\n",
            "3/3 - 0s - loss: 6209657.5000 - mae: 1999.1246 - val_loss: 10342311.0000 - val_mae: 2761.0500\n",
            "Epoch 215/350\n",
            "3/3 - 0s - loss: 6146998.5000 - mae: 2010.6011 - val_loss: 10153337.0000 - val_mae: 2748.0430\n",
            "Epoch 216/350\n",
            "3/3 - 0s - loss: 6237252.5000 - mae: 1983.9640 - val_loss: 10383983.0000 - val_mae: 2720.6699\n",
            "Epoch 217/350\n",
            "3/3 - 0s - loss: 6127804.5000 - mae: 1963.5001 - val_loss: 10082723.0000 - val_mae: 2736.9934\n",
            "Epoch 218/350\n",
            "3/3 - 0s - loss: 6395222.0000 - mae: 2030.0470 - val_loss: 10196410.0000 - val_mae: 2748.4084\n",
            "Epoch 219/350\n",
            "3/3 - 0s - loss: 6212837.5000 - mae: 1998.4237 - val_loss: 10815367.0000 - val_mae: 2728.7390\n",
            "Epoch 220/350\n",
            "3/3 - 0s - loss: 6325126.5000 - mae: 1987.5620 - val_loss: 10447565.0000 - val_mae: 2737.9055\n",
            "Epoch 221/350\n",
            "3/3 - 0s - loss: 6308928.0000 - mae: 1979.6504 - val_loss: 10511261.0000 - val_mae: 2741.9871\n",
            "Epoch 222/350\n",
            "3/3 - 0s - loss: 6126809.5000 - mae: 1987.0405 - val_loss: 10299535.0000 - val_mae: 2739.2773\n",
            "Epoch 223/350\n",
            "3/3 - 0s - loss: 6251426.0000 - mae: 2007.1534 - val_loss: 10246715.0000 - val_mae: 2724.4412\n",
            "Epoch 224/350\n",
            "3/3 - 0s - loss: 5999574.0000 - mae: 1973.4138 - val_loss: 10139570.0000 - val_mae: 2731.6497\n",
            "Epoch 225/350\n",
            "3/3 - 0s - loss: 6127040.0000 - mae: 1984.1182 - val_loss: 10189904.0000 - val_mae: 2719.4661\n",
            "Epoch 226/350\n",
            "3/3 - 0s - loss: 6231032.5000 - mae: 1986.2386 - val_loss: 10034593.0000 - val_mae: 2720.6838\n",
            "Epoch 227/350\n",
            "3/3 - 0s - loss: 6277288.0000 - mae: 1978.9712 - val_loss: 10543799.0000 - val_mae: 2715.9866\n",
            "Epoch 228/350\n",
            "3/3 - 0s - loss: 6078200.5000 - mae: 1951.2279 - val_loss: 10220705.0000 - val_mae: 2721.7371\n",
            "Epoch 229/350\n",
            "3/3 - 0s - loss: 6250728.0000 - mae: 1964.3375 - val_loss: 10122219.0000 - val_mae: 2718.2148\n",
            "Epoch 230/350\n",
            "3/3 - 0s - loss: 6122977.5000 - mae: 1974.2490 - val_loss: 10051769.0000 - val_mae: 2713.4612\n",
            "Epoch 231/350\n",
            "3/3 - 0s - loss: 6081821.5000 - mae: 1959.8884 - val_loss: 10269526.0000 - val_mae: 2702.9807\n",
            "Epoch 232/350\n",
            "3/3 - 0s - loss: 6159518.5000 - mae: 1947.6454 - val_loss: 10157192.0000 - val_mae: 2701.9846\n",
            "Epoch 233/350\n",
            "3/3 - 0s - loss: 5929478.0000 - mae: 1961.0424 - val_loss: 10160416.0000 - val_mae: 2710.6252\n",
            "Epoch 234/350\n",
            "3/3 - 0s - loss: 6100377.5000 - mae: 1981.9146 - val_loss: 10260695.0000 - val_mae: 2714.8411\n",
            "Epoch 235/350\n",
            "3/3 - 0s - loss: 5997270.5000 - mae: 1982.2030 - val_loss: 10438709.0000 - val_mae: 2714.5918\n",
            "Epoch 236/350\n",
            "3/3 - 0s - loss: 6421850.5000 - mae: 2001.8630 - val_loss: 10236531.0000 - val_mae: 2718.9678\n",
            "Epoch 237/350\n",
            "3/3 - 0s - loss: 7195649.5000 - mae: 2057.7073 - val_loss: 10160479.0000 - val_mae: 2704.6594\n",
            "Epoch 238/350\n",
            "3/3 - 0s - loss: 6815249.5000 - mae: 2016.5325 - val_loss: 9766733.0000 - val_mae: 2686.3799\n",
            "Epoch 239/350\n",
            "3/3 - 0s - loss: 6798226.0000 - mae: 2018.4207 - val_loss: 9643791.0000 - val_mae: 2665.7354\n",
            "Epoch 240/350\n",
            "3/3 - 0s - loss: 6970480.5000 - mae: 2010.8066 - val_loss: 9566208.0000 - val_mae: 2653.4736\n",
            "Epoch 241/350\n",
            "3/3 - 0s - loss: 6922496.0000 - mae: 1994.5177 - val_loss: 9399236.0000 - val_mae: 2642.6243\n",
            "Epoch 242/350\n",
            "3/3 - 0s - loss: 6776890.5000 - mae: 1976.7402 - val_loss: 9532317.0000 - val_mae: 2621.1174\n",
            "Epoch 243/350\n",
            "3/3 - 0s - loss: 6739404.0000 - mae: 2006.8618 - val_loss: 9538639.0000 - val_mae: 2622.2205\n",
            "Epoch 244/350\n",
            "3/3 - 0s - loss: 6782658.5000 - mae: 1987.9038 - val_loss: 9449388.0000 - val_mae: 2636.8474\n",
            "Epoch 245/350\n",
            "3/3 - 0s - loss: 6772578.5000 - mae: 1985.4552 - val_loss: 9531028.0000 - val_mae: 2630.0737\n",
            "Epoch 246/350\n",
            "3/3 - 0s - loss: 6821364.0000 - mae: 2002.6904 - val_loss: 9971269.0000 - val_mae: 2612.8320\n",
            "Epoch 247/350\n",
            "3/3 - 0s - loss: 6884200.0000 - mae: 2009.3910 - val_loss: 9629726.0000 - val_mae: 2612.6807\n",
            "Epoch 248/350\n",
            "3/3 - 0s - loss: 6717108.0000 - mae: 1982.9764 - val_loss: 9641053.0000 - val_mae: 2596.4482\n",
            "Epoch 249/350\n",
            "3/3 - 0s - loss: 6600330.5000 - mae: 1990.9248 - val_loss: 9772587.0000 - val_mae: 2576.4434\n",
            "Epoch 250/350\n",
            "3/3 - 0s - loss: 6902872.0000 - mae: 1997.0613 - val_loss: 9583036.0000 - val_mae: 2586.4016\n",
            "Epoch 251/350\n",
            "3/3 - 0s - loss: 6611150.0000 - mae: 1986.6188 - val_loss: 9752448.0000 - val_mae: 2584.8108\n",
            "Epoch 252/350\n",
            "3/3 - 0s - loss: 6696260.0000 - mae: 1981.9562 - val_loss: 9556005.0000 - val_mae: 2587.9128\n",
            "Epoch 253/350\n",
            "3/3 - 0s - loss: 6622772.5000 - mae: 1984.8142 - val_loss: 9451784.0000 - val_mae: 2590.7334\n",
            "Epoch 254/350\n",
            "3/3 - 0s - loss: 6572273.5000 - mae: 1969.1813 - val_loss: 9450739.0000 - val_mae: 2578.3867\n",
            "Epoch 255/350\n",
            "3/3 - 0s - loss: 6730538.5000 - mae: 1971.8223 - val_loss: 9472307.0000 - val_mae: 2569.8228\n",
            "Epoch 256/350\n",
            "3/3 - 0s - loss: 6492144.0000 - mae: 1963.4102 - val_loss: 9622103.0000 - val_mae: 2559.5713\n",
            "Epoch 257/350\n",
            "3/3 - 0s - loss: 6528666.5000 - mae: 1971.2395 - val_loss: 9543067.0000 - val_mae: 2552.1624\n",
            "Epoch 258/350\n",
            "3/3 - 0s - loss: 6509481.5000 - mae: 1967.0740 - val_loss: 9622380.0000 - val_mae: 2558.0859\n",
            "Epoch 259/350\n",
            "3/3 - 0s - loss: 6639302.0000 - mae: 1966.1364 - val_loss: 9557730.0000 - val_mae: 2549.6433\n",
            "Epoch 260/350\n",
            "3/3 - 0s - loss: 6707290.5000 - mae: 1964.7373 - val_loss: 9531341.0000 - val_mae: 2551.7998\n",
            "Epoch 261/350\n",
            "3/3 - 0s - loss: 6582962.5000 - mae: 1986.4600 - val_loss: 9477863.0000 - val_mae: 2538.1846\n",
            "Epoch 262/350\n",
            "3/3 - 0s - loss: 6681237.5000 - mae: 1978.2628 - val_loss: 9590020.0000 - val_mae: 2540.0820\n",
            "Epoch 263/350\n",
            "3/3 - 0s - loss: 6532355.5000 - mae: 1965.3060 - val_loss: 9692181.0000 - val_mae: 2550.8018\n",
            "Epoch 264/350\n",
            "3/3 - 0s - loss: 6564690.0000 - mae: 1979.5282 - val_loss: 9505020.0000 - val_mae: 2528.4211\n",
            "Epoch 265/350\n",
            "3/3 - 0s - loss: 6468852.5000 - mae: 1959.0544 - val_loss: 9266610.0000 - val_mae: 2522.4290\n",
            "Epoch 266/350\n",
            "3/3 - 0s - loss: 6589122.5000 - mae: 1963.9911 - val_loss: 9262245.0000 - val_mae: 2506.4482\n",
            "Epoch 267/350\n",
            "3/3 - 0s - loss: 6587412.5000 - mae: 1970.6515 - val_loss: 9360986.0000 - val_mae: 2521.7344\n",
            "Epoch 268/350\n",
            "3/3 - 0s - loss: 6516484.5000 - mae: 1951.7822 - val_loss: 9390992.0000 - val_mae: 2505.3564\n",
            "Epoch 269/350\n",
            "3/3 - 0s - loss: 6468983.5000 - mae: 1958.4852 - val_loss: 9298419.0000 - val_mae: 2485.0339\n",
            "Epoch 270/350\n",
            "3/3 - 0s - loss: 6489146.0000 - mae: 1940.6013 - val_loss: 9295352.0000 - val_mae: 2488.9727\n",
            "Epoch 271/350\n",
            "3/3 - 0s - loss: 6567209.5000 - mae: 1977.4763 - val_loss: 9295580.0000 - val_mae: 2482.5540\n",
            "Epoch 272/350\n",
            "3/3 - 0s - loss: 6581985.5000 - mae: 1953.8156 - val_loss: 9305447.0000 - val_mae: 2473.6982\n",
            "Epoch 273/350\n",
            "3/3 - 0s - loss: 6297632.5000 - mae: 1946.6084 - val_loss: 9282126.0000 - val_mae: 2486.3811\n",
            "Epoch 274/350\n",
            "3/3 - 0s - loss: 6569548.5000 - mae: 1954.5742 - val_loss: 9167569.0000 - val_mae: 2480.3076\n",
            "Epoch 275/350\n",
            "3/3 - 0s - loss: 6502897.5000 - mae: 1944.8364 - val_loss: 9143218.0000 - val_mae: 2464.1262\n",
            "Epoch 276/350\n",
            "3/3 - 0s - loss: 6432013.5000 - mae: 1946.0013 - val_loss: 9038073.0000 - val_mae: 2452.4954\n",
            "Epoch 277/350\n",
            "3/3 - 0s - loss: 6896747.5000 - mae: 1979.3214 - val_loss: 8985151.0000 - val_mae: 2435.8118\n",
            "Epoch 278/350\n",
            "3/3 - 0s - loss: 6829570.0000 - mae: 2001.3822 - val_loss: 9153324.0000 - val_mae: 2494.4500\n",
            "Epoch 279/350\n",
            "3/3 - 0s - loss: 6594429.5000 - mae: 1948.1827 - val_loss: 9035767.0000 - val_mae: 2441.0291\n",
            "Epoch 280/350\n",
            "3/3 - 0s - loss: 6703201.5000 - mae: 1985.9559 - val_loss: 9219823.0000 - val_mae: 2472.3376\n",
            "Epoch 281/350\n",
            "3/3 - 0s - loss: 6430550.0000 - mae: 1964.0864 - val_loss: 9181947.0000 - val_mae: 2473.1494\n",
            "Epoch 282/350\n",
            "3/3 - 0s - loss: 6689720.0000 - mae: 1954.7843 - val_loss: 9313443.0000 - val_mae: 2485.3389\n",
            "Epoch 283/350\n",
            "3/3 - 0s - loss: 6373500.5000 - mae: 1934.2061 - val_loss: 9535185.0000 - val_mae: 2517.8806\n",
            "Epoch 284/350\n",
            "3/3 - 0s - loss: 6579661.5000 - mae: 1981.0951 - val_loss: 9504408.0000 - val_mae: 2511.6318\n",
            "Epoch 285/350\n",
            "3/3 - 0s - loss: 6410782.5000 - mae: 1948.4302 - val_loss: 9251054.0000 - val_mae: 2493.6265\n",
            "Epoch 286/350\n",
            "3/3 - 0s - loss: 6598642.5000 - mae: 1960.0219 - val_loss: 8926117.0000 - val_mae: 2418.9749\n",
            "Epoch 287/350\n",
            "3/3 - 0s - loss: 6673603.5000 - mae: 1956.8282 - val_loss: 9393263.0000 - val_mae: 2458.9011\n",
            "Epoch 288/350\n",
            "3/3 - 0s - loss: 6514747.5000 - mae: 1955.0571 - val_loss: 8969183.0000 - val_mae: 2423.3674\n",
            "Epoch 289/350\n",
            "3/3 - 0s - loss: 6508490.0000 - mae: 1931.1906 - val_loss: 9201279.0000 - val_mae: 2467.9636\n",
            "Epoch 290/350\n",
            "3/3 - 0s - loss: 6600209.5000 - mae: 1952.1960 - val_loss: 9683103.0000 - val_mae: 2509.1252\n",
            "Epoch 291/350\n",
            "3/3 - 0s - loss: 6770989.5000 - mae: 1968.1315 - val_loss: 9758953.0000 - val_mae: 2523.3035\n",
            "Epoch 292/350\n",
            "3/3 - 0s - loss: 6692525.5000 - mae: 1980.1562 - val_loss: 9410952.0000 - val_mae: 2518.7371\n",
            "Epoch 293/350\n",
            "3/3 - 0s - loss: 6438454.0000 - mae: 1947.5549 - val_loss: 9242512.0000 - val_mae: 2481.1895\n",
            "Epoch 294/350\n",
            "3/3 - 0s - loss: 6389940.5000 - mae: 1940.6934 - val_loss: 9263793.0000 - val_mae: 2482.1670\n",
            "Epoch 295/350\n",
            "3/3 - 0s - loss: 6483014.5000 - mae: 1950.8046 - val_loss: 9178007.0000 - val_mae: 2457.6624\n",
            "Epoch 296/350\n",
            "3/3 - 0s - loss: 6467242.0000 - mae: 1931.4955 - val_loss: 9215857.0000 - val_mae: 2447.4326\n",
            "Epoch 297/350\n",
            "3/3 - 0s - loss: 6338093.5000 - mae: 1943.5007 - val_loss: 9243617.0000 - val_mae: 2467.8108\n",
            "Epoch 298/350\n",
            "3/3 - 0s - loss: 6422714.5000 - mae: 1941.0785 - val_loss: 9012817.0000 - val_mae: 2440.1201\n",
            "Epoch 299/350\n",
            "3/3 - 0s - loss: 6492010.5000 - mae: 1952.6504 - val_loss: 9150515.0000 - val_mae: 2462.8687\n",
            "Epoch 300/350\n",
            "3/3 - 0s - loss: 6333994.0000 - mae: 1929.4231 - val_loss: 9244905.0000 - val_mae: 2468.7131\n",
            "Epoch 301/350\n",
            "3/3 - 0s - loss: 6387108.0000 - mae: 1933.2583 - val_loss: 9198456.0000 - val_mae: 2455.3811\n",
            "Epoch 302/350\n",
            "3/3 - 0s - loss: 6190076.5000 - mae: 1927.1775 - val_loss: 9292470.0000 - val_mae: 2465.5027\n",
            "Epoch 303/350\n",
            "3/3 - 0s - loss: 6375042.5000 - mae: 1968.1494 - val_loss: 9255763.0000 - val_mae: 2460.7175\n",
            "Epoch 304/350\n",
            "3/3 - 0s - loss: 6598001.5000 - mae: 1939.6161 - val_loss: 9043924.0000 - val_mae: 2437.0967\n",
            "Epoch 305/350\n",
            "3/3 - 0s - loss: 6914480.0000 - mae: 1981.3378 - val_loss: 9611860.0000 - val_mae: 2490.4023\n",
            "Epoch 306/350\n",
            "3/3 - 0s - loss: 6491577.5000 - mae: 1944.2030 - val_loss: 9280905.0000 - val_mae: 2465.0828\n",
            "Epoch 307/350\n",
            "3/3 - 0s - loss: 6459128.0000 - mae: 1919.6868 - val_loss: 9168205.0000 - val_mae: 2457.6133\n",
            "Epoch 308/350\n",
            "3/3 - 0s - loss: 6509334.5000 - mae: 1937.2369 - val_loss: 9249264.0000 - val_mae: 2470.0039\n",
            "Epoch 309/350\n",
            "3/3 - 0s - loss: 6467048.5000 - mae: 1928.7192 - val_loss: 8930607.0000 - val_mae: 2435.8030\n",
            "Epoch 310/350\n",
            "3/3 - 0s - loss: 6262848.0000 - mae: 1930.7386 - val_loss: 9195259.0000 - val_mae: 2450.4133\n",
            "Epoch 311/350\n",
            "3/3 - 0s - loss: 6675690.5000 - mae: 1954.2457 - val_loss: 9072403.0000 - val_mae: 2433.3684\n",
            "Epoch 312/350\n",
            "3/3 - 0s - loss: 6673156.5000 - mae: 1997.2919 - val_loss: 9687638.0000 - val_mae: 2483.1404\n",
            "Epoch 313/350\n",
            "3/3 - 0s - loss: 6264080.0000 - mae: 1943.1237 - val_loss: 9106127.0000 - val_mae: 2477.7844\n",
            "Epoch 314/350\n",
            "3/3 - 0s - loss: 6790119.5000 - mae: 1991.6448 - val_loss: 8889537.0000 - val_mae: 2452.3713\n",
            "Epoch 315/350\n",
            "3/3 - 0s - loss: 7056739.5000 - mae: 1987.0098 - val_loss: 9958471.0000 - val_mae: 2509.0193\n",
            "Epoch 316/350\n",
            "3/3 - 0s - loss: 6467829.5000 - mae: 1945.1599 - val_loss: 9329700.0000 - val_mae: 2498.4041\n",
            "Epoch 317/350\n",
            "3/3 - 0s - loss: 6597709.5000 - mae: 1927.4729 - val_loss: 9551799.0000 - val_mae: 2518.3213\n",
            "Epoch 318/350\n",
            "3/3 - 0s - loss: 6403378.5000 - mae: 1906.3162 - val_loss: 9414192.0000 - val_mae: 2487.2239\n",
            "Epoch 319/350\n",
            "3/3 - 0s - loss: 6367706.0000 - mae: 1923.6228 - val_loss: 9464687.0000 - val_mae: 2490.1924\n",
            "Epoch 320/350\n",
            "3/3 - 0s - loss: 6305880.5000 - mae: 1923.4344 - val_loss: 9064443.0000 - val_mae: 2450.5242\n",
            "Epoch 321/350\n",
            "3/3 - 0s - loss: 6378052.0000 - mae: 1920.2732 - val_loss: 9024615.0000 - val_mae: 2436.6509\n",
            "Epoch 322/350\n",
            "3/3 - 0s - loss: 6302583.5000 - mae: 1919.3003 - val_loss: 9256583.0000 - val_mae: 2459.7991\n",
            "Epoch 323/350\n",
            "3/3 - 0s - loss: 6214280.0000 - mae: 1908.5172 - val_loss: 9633031.0000 - val_mae: 2496.5229\n",
            "Epoch 324/350\n",
            "3/3 - 0s - loss: 6488189.5000 - mae: 1920.5016 - val_loss: 9566881.0000 - val_mae: 2487.2498\n",
            "Epoch 325/350\n",
            "3/3 - 0s - loss: 6218061.5000 - mae: 1909.6260 - val_loss: 9242201.0000 - val_mae: 2487.9319\n",
            "Epoch 326/350\n",
            "3/3 - 0s - loss: 6410876.5000 - mae: 1913.1498 - val_loss: 8957859.0000 - val_mae: 2425.1868\n",
            "Epoch 327/350\n",
            "3/3 - 0s - loss: 6506710.0000 - mae: 1963.7129 - val_loss: 8839208.0000 - val_mae: 2413.8586\n",
            "Epoch 328/350\n",
            "3/3 - 0s - loss: 6233692.0000 - mae: 1909.1769 - val_loss: 8941777.0000 - val_mae: 2428.5254\n",
            "Epoch 329/350\n",
            "3/3 - 0s - loss: 6225503.5000 - mae: 1910.9388 - val_loss: 9303629.0000 - val_mae: 2484.8572\n",
            "Epoch 330/350\n",
            "3/3 - 0s - loss: 6091970.0000 - mae: 1896.0266 - val_loss: 9608363.0000 - val_mae: 2490.1233\n",
            "Epoch 331/350\n",
            "3/3 - 0s - loss: 6461378.5000 - mae: 1922.0907 - val_loss: 9769513.0000 - val_mae: 2500.8811\n",
            "Epoch 332/350\n",
            "3/3 - 0s - loss: 6278468.0000 - mae: 1895.3945 - val_loss: 9253007.0000 - val_mae: 2498.7307\n",
            "Epoch 333/350\n",
            "3/3 - 0s - loss: 6369564.0000 - mae: 1901.0735 - val_loss: 9090116.0000 - val_mae: 2425.0725\n",
            "Epoch 334/350\n",
            "3/3 - 0s - loss: 6202834.0000 - mae: 1883.8451 - val_loss: 9415149.0000 - val_mae: 2457.2915\n",
            "Epoch 335/350\n",
            "3/3 - 0s - loss: 6308158.5000 - mae: 1909.4696 - val_loss: 9070375.0000 - val_mae: 2419.9875\n",
            "Epoch 336/350\n",
            "3/3 - 0s - loss: 6282823.5000 - mae: 1894.1267 - val_loss: 9058809.0000 - val_mae: 2426.5588\n",
            "Epoch 337/350\n",
            "3/3 - 0s - loss: 6067726.0000 - mae: 1891.8257 - val_loss: 9200272.0000 - val_mae: 2436.9236\n",
            "Epoch 338/350\n",
            "3/3 - 0s - loss: 6162136.0000 - mae: 1892.8546 - val_loss: 9186709.0000 - val_mae: 2438.7847\n",
            "Epoch 339/350\n",
            "3/3 - 0s - loss: 6069968.0000 - mae: 1890.9629 - val_loss: 8971857.0000 - val_mae: 2418.6360\n",
            "Epoch 340/350\n",
            "3/3 - 0s - loss: 6266329.5000 - mae: 1891.6896 - val_loss: 9066785.0000 - val_mae: 2433.3477\n",
            "Epoch 341/350\n",
            "3/3 - 0s - loss: 6168908.0000 - mae: 1898.3466 - val_loss: 9371381.0000 - val_mae: 2473.7620\n",
            "Epoch 342/350\n",
            "3/3 - 0s - loss: 6193906.5000 - mae: 1902.0864 - val_loss: 9303420.0000 - val_mae: 2466.3284\n",
            "Epoch 343/350\n",
            "3/3 - 0s - loss: 6167518.5000 - mae: 1881.7888 - val_loss: 9207920.0000 - val_mae: 2468.8215\n",
            "Epoch 344/350\n",
            "3/3 - 0s - loss: 6039712.5000 - mae: 1876.3759 - val_loss: 9205577.0000 - val_mae: 2458.4253\n",
            "Epoch 345/350\n",
            "3/3 - 0s - loss: 5944019.5000 - mae: 1888.2968 - val_loss: 9151168.0000 - val_mae: 2451.0837\n",
            "Epoch 346/350\n",
            "3/3 - 0s - loss: 6009946.5000 - mae: 1885.9258 - val_loss: 9090885.0000 - val_mae: 2433.6707\n",
            "Epoch 347/350\n",
            "3/3 - 0s - loss: 6125420.5000 - mae: 1901.4971 - val_loss: 9147532.0000 - val_mae: 2449.5310\n",
            "Epoch 348/350\n",
            "3/3 - 0s - loss: 6085070.5000 - mae: 1876.8129 - val_loss: 9177819.0000 - val_mae: 2450.2080\n",
            "Epoch 349/350\n",
            "3/3 - 0s - loss: 6174301.5000 - mae: 1879.7294 - val_loss: 9426003.0000 - val_mae: 2488.8779\n",
            "Epoch 350/350\n",
            "3/3 - 0s - loss: 6293365.5000 - mae: 1875.7263 - val_loss: 9452536.0000 - val_mae: 2494.4465\n"
          ],
          "name": "stdout"
        },
        {
          "output_type": "execute_result",
          "data": {
            "text/plain": [
              "<tensorflow.python.keras.callbacks.History at 0x7fcc73cdb4e0>"
            ]
          },
          "metadata": {
            "tags": []
          },
          "execution_count": 38
        }
      ]
    },
    {
      "cell_type": "code",
      "metadata": {
        "id": "Kk8wQuxQ6DpD",
        "colab_type": "code",
        "colab": {
          "base_uri": "https://localhost:8080/",
          "height": 34
        },
        "outputId": "3747860c-3203-443f-f80e-36171a24110a"
      },
      "source": [
        "# make a prediction\n",
        "row = asarray([18024.0, 16722.0, 14385.0, 21342.0, 17180.0]).reshape((1, n_steps, 1))\n",
        "yhat = model.predict(row)\n",
        "print('Predicted: %.3f' % (yhat))"
      ],
      "execution_count": 39,
      "outputs": [
        {
          "output_type": "stream",
          "text": [
            "Predicted: 16277.778\n"
          ],
          "name": "stdout"
        }
      ]
    },
    {
      "cell_type": "code",
      "metadata": {
        "id": "sUro20P76BOm",
        "colab_type": "code",
        "colab": {
          "base_uri": "https://localhost:8080/",
          "height": 34
        },
        "outputId": "eec96bdc-22d9-4c3a-e7b7-217361b66d86"
      },
      "source": [
        "# evaluate the model\n",
        "mse, mae = model.evaluate(X_test, y_test, verbose=0)\n",
        "print('MSE: %.3f, RMSE: %.3f, MAE: %.3f' % (mse, sqrt(mse), mae))"
      ],
      "execution_count": 40,
      "outputs": [
        {
          "output_type": "stream",
          "text": [
            "MSE: 9452536.000, RMSE: 3074.498, MAE: 2494.447\n"
          ],
          "name": "stdout"
        }
      ]
    },
    {
      "cell_type": "markdown",
      "metadata": {
        "id": "wKR06fgxGQKM",
        "colab_type": "text"
      },
      "source": [
        "### How to Use Advanced Model Features\n",
        "\n",
        "**Visualizing Deep Learning Models - Text Descriptions and Plots**\n",
        "\n"
      ]
    },
    {
      "cell_type": "code",
      "metadata": {
        "id": "7gXGp9UHH57O",
        "colab_type": "code",
        "colab": {
          "base_uri": "https://localhost:8080/",
          "height": 255
        },
        "outputId": "6b19b804-c955-41d5-9679-1aa8a5d9de68"
      },
      "source": [
        "# Text Description\n",
        "\n",
        "from tensorflow.keras import Sequential\n",
        "from tensorflow.keras.layers import Dense\n",
        "\n",
        "# define model\n",
        "model = Sequential()\n",
        "model.add(Dense(10, activation='relu', kernel_initializer='he_normal', input_shape=(8,)))\n",
        "model.add(Dense(8, activation='relu', kernel_initializer='he_normal'))\n",
        "model.add(Dense(1, activation='sigmoid'))\n",
        "\n",
        "# summarize the model\n",
        "model.summary()"
      ],
      "execution_count": 41,
      "outputs": [
        {
          "output_type": "stream",
          "text": [
            "Model: \"sequential_6\"\n",
            "_________________________________________________________________\n",
            "Layer (type)                 Output Shape              Param #   \n",
            "=================================================================\n",
            "dense_18 (Dense)             (None, 10)                90        \n",
            "_________________________________________________________________\n",
            "dense_19 (Dense)             (None, 8)                 88        \n",
            "_________________________________________________________________\n",
            "dense_20 (Dense)             (None, 1)                 9         \n",
            "=================================================================\n",
            "Total params: 187\n",
            "Trainable params: 187\n",
            "Non-trainable params: 0\n",
            "_________________________________________________________________\n"
          ],
          "name": "stdout"
        }
      ]
    },
    {
      "cell_type": "code",
      "metadata": {
        "id": "jqGHPUEAITCW",
        "colab_type": "code",
        "colab": {
          "base_uri": "https://localhost:8080/",
          "height": 422
        },
        "outputId": "d5aaad3e-d594-4afc-a2a2-dbec91c16b4f"
      },
      "source": [
        "#Architecture Plot\n",
        "\n",
        "from tensorflow.keras import Sequential\n",
        "from tensorflow.keras.layers import Dense\n",
        "from tensorflow.keras.utils import plot_model\n",
        "\n",
        "# define model\n",
        "model = Sequential()\n",
        "model.add(Dense(10, activation='relu', kernel_initializer='he_normal', input_shape=(8,)))\n",
        "model.add(Dense(8, activation='relu', kernel_initializer='he_normal'))\n",
        "model.add(Dense(1, activation='sigmoid'))\n",
        "\n",
        "# summarize the model\n",
        "plot_model(model, 'model.png', show_shapes=True)"
      ],
      "execution_count": 42,
      "outputs": [
        {
          "output_type": "execute_result",
          "data": {
            "image/png": "[encoded data removed]",
            "text/plain": [
              "<IPython.core.display.Image object>"
            ]
          },
          "metadata": {
            "tags": []
          },
          "execution_count": 42
        }
      ]
    },
    {
      "cell_type": "code",
      "metadata": {
        "id": "LY6IQ-R2Ihl-",
        "colab_type": "code",
        "colab": {
          "base_uri": "https://localhost:8080/",
          "height": 295
        },
        "outputId": "be2b80cd-5b45-40ca-f2ac-e5938575af61"
      },
      "source": [
        "# Plotting the Learning Curve\n",
        "# Requires fit function that references a validation dataset\n",
        "# which can be done manually or with validation_split argument\n",
        "# Fit function will return 'history' object that enables plot\n",
        "\n",
        "from sklearn.datasets import make_classification\n",
        "from tensorflow.keras import Sequential\n",
        "from tensorflow.keras.layers import Dense\n",
        "from tensorflow.keras.optimizers import SGD\n",
        "from matplotlib import pyplot\n",
        "\n",
        "# create the dataset\n",
        "X, y = make_classification(n_samples=1000, n_classes=2, random_state=1)\n",
        "# determine the number of input features\n",
        "n_features = X.shape[1]\n",
        "\n",
        "# define model\n",
        "model = Sequential()\n",
        "model.add(Dense(10, activation='relu', kernel_initializer='he_normal', input_shape=(n_features,)))\n",
        "model.add(Dense(1, activation='sigmoid'))\n",
        "\n",
        "# compile the model\n",
        "sgd = SGD(learning_rate=0.001, momentum=0.8)\n",
        "model.compile(optimizer=sgd, loss='binary_crossentropy')\n",
        "\n",
        "# fit the model\n",
        "history = model.fit(X, y, epochs=100, batch_size=32, verbose=0, validation_split=0.3)\n",
        "\n",
        "# plot learning curves\n",
        "pyplot.title('Learning Curves')\n",
        "pyplot.xlabel('Epoch')\n",
        "pyplot.ylabel('Cross Entropy')\n",
        "pyplot.plot(history.history['loss'], label='train')\n",
        "pyplot.plot(history.history['val_loss'], label='val')\n",
        "pyplot.legend()\n",
        "pyplot.show()"
      ],
      "execution_count": 43,
      "outputs": [
        {
          "output_type": "display_data",
          "data": {
            "image/png": "[encoded data removed]",
            "text/plain": [
              "<Figure size 432x288 with 1 Axes>"
            ]
          },
          "metadata": {
            "tags": [],
            "needs_background": "light"
          }
        }
      ]
    },
    {
      "cell_type": "markdown",
      "metadata": {
        "id": "3wn2tH8hJWxj",
        "colab_type": "text"
      },
      "source": [
        "How to Save and load your Model\n",
        "\n",
        "Employs save() and load_model() functions. Uses H5 format, which requires that h5py library."
      ]
    },
    {
      "cell_type": "code",
      "metadata": {
        "id": "GDrh2oyvJtJ3",
        "colab_type": "code",
        "colab": {}
      },
      "source": [
        "# example of saving a fit model\n",
        "\n",
        "from sklearn.datasets import make_classification\n",
        "from tensorflow.keras import Sequential\n",
        "from tensorflow.keras.layers import Dense\n",
        "from tensorflow.keras.optimizers import SGD\n",
        "\n",
        "# create the dataset\n",
        "X, y = make_classification(n_samples=1000, n_features=4, n_classes=2, random_state=1)\n",
        "\n",
        "# determine the number of input features\n",
        "n_features = X.shape[1]\n",
        "\n",
        "# define model\n",
        "model = Sequential()\n",
        "model.add(Dense(10, activation='relu', kernel_initializer='he_normal', input_shape=(n_features,)))\n",
        "model.add(Dense(1, activation='sigmoid'))\n",
        "\n",
        "# compile the model\n",
        "sgd = SGD(learning_rate=0.001, momentum=0.8)\n",
        "model.compile(optimizer=sgd, loss='binary_crossentropy')\n",
        "\n",
        "# fit the model\n",
        "model.fit(X, y, epochs=100, batch_size=32, verbose=0, validation_split=0.3)\n",
        "\n",
        "# save model to file\n",
        "model.save('model.h5')\n"
      ],
      "execution_count": 0,
      "outputs": []
    },
    {
      "cell_type": "code",
      "metadata": {
        "id": "2lputGgDKDa8",
        "colab_type": "code",
        "colab": {
          "base_uri": "https://localhost:8080/",
          "height": 34
        },
        "outputId": "b50b49d5-6fcd-4f3c-8c8b-8be49125f5b2"
      },
      "source": [
        "# Loading saved model\n",
        "\n",
        "from sklearn.datasets import make_classification\n",
        "from tensorflow.keras.models import load_model\n",
        "\n",
        "# create the dataset\n",
        "X, y = make_classification(n_samples=1000, n_features=4, n_classes=2, random_state=1)\n",
        "\n",
        "# load the model from file\n",
        "model = load_model('model.h5')\n",
        "\n",
        "# make a prediction\n",
        "row = [1.91518414, 1.14995454, -1.52847073, 0.79430654]\n",
        "yhat = model.predict([row])\n",
        "print('Predicted: %.3f' % yhat[0])\n"
      ],
      "execution_count": 45,
      "outputs": [
        {
          "output_type": "stream",
          "text": [
            "Predicted: 0.887\n"
          ],
          "name": "stdout"
        }
      ]
    },
    {
      "cell_type": "markdown",
      "metadata": {
        "id": "MmyVUtUMEFgx",
        "colab_type": "text"
      },
      "source": [
        "### How to Get Better Model Performance\n",
        "\n",
        "**How to Reduce Overfitting with Dropout**\n",
        "\n",
        "Dropout is a regularization method that reduces overfitting of the training dataset and makes the model more robust. It's achieved during training, where some number of layer outputs are randomly ignored or 'dropped out.' This has the effect of making the training process noisy, forcing nodes within a layer to probabilistically take on more or less responsibility for inputs.\n",
        "\n",
        "It can be used with MLP, CNN and RNN models.  The dropout is specified when you define your model."
      ]
    },
    {
      "cell_type": "code",
      "metadata": {
        "id": "eMkoKPy-G2Nn",
        "colab_type": "code",
        "colab": {
          "base_uri": "https://localhost:8080/",
          "height": 34
        },
        "outputId": "5ee10043-0a73-4b06-dd70-d8d11e028911"
      },
      "source": [
        "from sklearn.datasets import make_classification\n",
        "from tensorflow.keras import Sequential\n",
        "from tensorflow.keras.layers import Dense\n",
        "from tensorflow.keras.layers import Dropout\n",
        "from matplotlib import pyplot\n",
        "\n",
        "# create the dataset\n",
        "X, y = make_classification(n_samples=1000, n_classes=2, random_state=1)\n",
        "\n",
        "# determine the number of input features\n",
        "n_features = X.shape[1]\n",
        "\n",
        "# define model\n",
        "model = Sequential()\n",
        "model.add(Dense(10, activation='relu', kernel_initializer='he_normal', input_shape=(n_features,)))\n",
        "# here is the dropout\n",
        "model.add(Dropout(0.5))\n",
        "model.add(Dense(1, activation='sigmoid'))\n",
        "\n",
        "# compile the model\n",
        "model.compile(optimizer='adam', loss='binary_crossentropy')\n",
        "\n",
        "# fit the model\n",
        "model.fit(X, y, epochs=100, batch_size=32, verbose=0)"
      ],
      "execution_count": 46,
      "outputs": [
        {
          "output_type": "execute_result",
          "data": {
            "text/plain": [
              "<tensorflow.python.keras.callbacks.History at 0x7fcc7155f748>"
            ]
          },
          "metadata": {
            "tags": []
          },
          "execution_count": 46
        }
      ]
    },
    {
      "cell_type": "markdown",
      "metadata": {
        "id": "Ll0260eOHe3F",
        "colab_type": "text"
      },
      "source": [
        "**How to Accelerate Training with Batch Normalization**\n",
        "\n",
        "Scale and distribution of inputs can impact how easily or quickly a layer is trained. This is why it's a good idea to scale input data prior to modeling with NNM.\n",
        "\n",
        "Batch normalization is the technique for training very deep neural networks that standardizes inputs for each minin-batch. This stablizes the learning process and reduces the number of epochs that are needed.\n",
        "\n",
        "You can normalize by adding a batch normalization layer prior to the layer you wish to have standardized inputs.  BN can run with MLP, CNN and RNN models.\n"
      ]
    },
    {
      "cell_type": "code",
      "metadata": {
        "id": "GIRE-2JpIj_a",
        "colab_type": "code",
        "colab": {
          "base_uri": "https://localhost:8080/",
          "height": 34
        },
        "outputId": "c0472eee-c809-4478-db91-63e5eedf4d3e"
      },
      "source": [
        "# example of batch normalization\n",
        "\n",
        "from sklearn.datasets import make_classification\n",
        "from tensorflow.keras import Sequential\n",
        "from tensorflow.keras.layers import Dense\n",
        "from tensorflow.keras.layers import BatchNormalization\n",
        "from matplotlib import pyplot\n",
        "\n",
        "# create the dataset\n",
        "X, y = make_classification(n_samples=1000, n_classes=2, random_state=1)\n",
        "\n",
        "# determine the number of input features\n",
        "n_features = X.shape[1]\n",
        "\n",
        "# define model\n",
        "model = Sequential()\n",
        "model.add(Dense(10, activation='relu', kernel_initializer='he_normal', input_shape=(n_features,)))\n",
        "# here's the batching\n",
        "model.add(BatchNormalization())\n",
        "model.add(Dense(1, activation='sigmoid'))\n",
        "\n",
        "# compile the model\n",
        "model.compile(optimizer='adam', loss='binary_crossentropy')\n",
        "\n",
        "# fit the model\n",
        "model.fit(X, y, epochs=100, batch_size=32, verbose=0)"
      ],
      "execution_count": 47,
      "outputs": [
        {
          "output_type": "execute_result",
          "data": {
            "text/plain": [
              "<tensorflow.python.keras.callbacks.History at 0x7fcc7155f7f0>"
            ]
          },
          "metadata": {
            "tags": []
          },
          "execution_count": 47
        }
      ]
    },
    {
      "cell_type": "markdown",
      "metadata": {
        "id": "SO5Lm28BI_Xv",
        "colab_type": "text"
      },
      "source": [
        "Halting Training at the Right Time with Early Stopping\n",
        "\n",
        "This involves monitoring the loss on the training dataset and validation dataset. As soon as the loss for the validation set starts showing signs of 'overfitting' the process can be stopped.\n",
        "\n",
        "Requires a validation dataset. You can then defining EarlyStopping and instruct it on which performance measures to monitor and the number of epochs to observe the overfitting.\n",
        "\n"
      ]
    },
    {
      "cell_type": "code",
      "metadata": {
        "id": "kVfEyLEkJn1C",
        "colab_type": "code",
        "colab": {}
      },
      "source": [
        "# example of using early stopping\n",
        "\n",
        "from sklearn.datasets import make_classification\n",
        "from tensorflow.keras import Sequential\n",
        "from tensorflow.keras.layers import Dense\n",
        "from tensorflow.keras.callbacks import EarlyStopping\n",
        "\n",
        "# create the dataset\n",
        "X, y = make_classification(n_samples=1000, n_classes=2, random_state=1)\n",
        "\n",
        "# determine the number of input features\n",
        "n_features = X.shape[1]\n",
        "\n",
        "# define model\n",
        "model = Sequential()\n",
        "model.add(Dense(10, activation='relu', kernel_initializer='he_normal', input_shape=(n_features,)))\n",
        "model.add(Dense(1, activation='sigmoid'))\n",
        "\n",
        "# compile the model\n",
        "model.compile(optimizer='adam', loss='binary_crossentropy')\n",
        "\n",
        "# configure early stopping\n",
        "es = EarlyStopping(monitor='val_loss', patience=5)\n",
        "\n",
        "# fit the model\n",
        "history = model.fit(X, y, epochs=200, batch_size=32, verbose=0, validation_split=0.3, callbacks=[es])"
      ],
      "execution_count": 0,
      "outputs": []
    },
    {
      "cell_type": "code",
      "metadata": {
        "id": "W0eQvwDEKNLp",
        "colab_type": "code",
        "colab": {}
      },
      "source": [
        ""
      ],
      "execution_count": 0,
      "outputs": []
    }
  ]
}